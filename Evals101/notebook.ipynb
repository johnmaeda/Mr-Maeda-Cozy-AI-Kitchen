{
 "cells": [
  {
   "cell_type": "markdown",
   "metadata": {},
   "source": [
    "# Let's Easily 🌡️ Evaluate LLMs!"
   ]
  },
  {
   "cell_type": "markdown",
   "metadata": {},
   "source": [
    "### Doing LLM evals can be easy if you know how to start! \n",
    "\n",
    "Visit this link to learn how to get started https://learn.microsoft.com/en-us/azure/ai-studio/how-to/develop/evaluate-sdk or follow my recipe here to get you going!\n",
    "\n",
    "## 🧑‍🍳 Ingredients\n",
    "\n",
    "- An Azure AI Account\n",
    "- An Azure AI Hub\n",
    "- An Azure AI Project\n",
    "- A deployed Azure AI Model\n"
   ]
  },
  {
   "cell_type": "markdown",
   "metadata": {},
   "source": [
    "## 🌡️ Let's get the eval SDK ready"
   ]
  },
  {
   "cell_type": "code",
   "execution_count": null,
   "metadata": {},
   "outputs": [],
   "source": [
    "!pip install azure-ai-evaluation"
   ]
  },
  {
   "cell_type": "markdown",
   "metadata": {},
   "source": [
    "## 🔑 Have your keys ready to activate eval magic\n",
    "\n",
    "I'm using a `.json` file to store all my keys. Be sure to `.gitignore` yours like I've done!"
   ]
  },
  {
   "cell_type": "markdown",
   "metadata": {},
   "source": [
    "```\n",
    "{\n",
    "    \"azure_endpoint\": \"<your-azure-openai-endpoint>\",\n",
    "    \"api_key\": \"<your-azure-api-key>\",\n",
    "    \"azure_deployment\": \"<your-azure-deployment-name>\",\n",
    "    \"api_version\": \"<api-version>\",\n",
    "    \"azure_ai_project\": {\n",
    "        \"subscription_id\": \"<your-subscription-id>\",\n",
    "        \"resource_group_name\": \"<your-resource-group-name>\",\n",
    "        \"project_name\": \"<your-project-name>\"\n",
    "    }\n",
    "}\n",
    "```"
   ]
  },
  {
   "cell_type": "markdown",
   "metadata": {},
   "source": [
    "Let's load the info into this notebook with a few handy utility functions."
   ]
  },
  {
   "cell_type": "code",
   "execution_count": null,
   "metadata": {},
   "outputs": [],
   "source": [
    "import json\n",
    "import textwrap\n",
    "\n",
    "def obfuscate_value(value, visible_chars=5):\n",
    "    value_str = str(value)\n",
    "    return value_str[:visible_chars] + '*' * (len(value_str) - visible_chars)\n",
    "\n",
    "def wrap_and_print(text, width=50):\n",
    "    wrapped_text = textwrap.fill(text, width=width)\n",
    "    print(wrapped_text)\n",
    "\n",
    "def wrap_and_print_json(json_obj, width=50):\n",
    "    formatted_json = json.dumps(json_obj, indent=4)\n",
    "    lines = formatted_json.splitlines()\n",
    "    wrapped_lines = [\n",
    "        textwrap.fill(line, width=width, subsequent_indent='    ')\n",
    "        for line in lines\n",
    "    ]\n",
    "    wrapped_output = \"\\n\".join(wrapped_lines)\n",
    "    print(wrapped_output)\n",
    "\n",
    "# Load credentials from the JSON file\n",
    "with open('../config/credentials.json') as f:\n",
    "    data = json.load(f)\n",
    "    azure_endpoint = data['azure_endpoint']\n",
    "    api_key = data['api_key']\n",
    "    azure_deployment = data['azure_deployment']\n",
    "    api_version = data['api_version']\n",
    "    azure_ai_project = data['azure_ai_project']  # Accessing azure_ai_project block\n",
    "    subscription_id = azure_ai_project['subscription_id']\n",
    "    resource_group_name = azure_ai_project['resource_group_name']\n",
    "    project_name = azure_ai_project['project_name']\n",
    "\n",
    "# Initialize Azure OpenAI Connection using credentials from the JSON file\n",
    "model_config = {\n",
    "    \"azure_endpoint\": azure_endpoint,\n",
    "    \"api_key\": api_key,\n",
    "    \"azure_deployment\": azure_deployment,\n",
    "    \"api_version\": api_version,\n",
    "}\n",
    "\n",
    "print(\"Azure Quality Evals Configuration:\")\n",
    "for key, value in model_config.items():\n",
    "    print(f\"{key}: {obfuscate_value(value)}\")"
   ]
  },
  {
   "cell_type": "markdown",
   "metadata": {},
   "source": [
    "# 🪩 Quality metrics are a great place to start"
   ]
  },
  {
   "cell_type": "markdown",
   "metadata": {},
   "source": [
    "## 🗿 Groundedness: Answering based on facts"
   ]
  },
  {
   "cell_type": "code",
   "execution_count": null,
   "metadata": {},
   "outputs": [],
   "source": [
    "from azure.ai.evaluation import GroundednessEvaluator\n",
    "\n",
    "groundedness_eval = GroundednessEvaluator(model_config)\n",
    "\n",
    "groundedness_score = groundedness_eval(\n",
    "    response=\"The Alpine Explorer Tent is waterproof.\",\n",
    "    context=\"From the our product list,\"\n",
    "            \" the alpine explorer tent is the most waterproof.\"\n",
    "            \" The Adventure Dining Table has higher weight.\"\n",
    ")\n",
    "print(groundedness_score)\n",
    "\n",
    "groundedness_score = groundedness_eval(\n",
    "    response=\"The Alpine Explorer Tent is hot pink.\",\n",
    "    context=\"From the our product list,\"\n",
    "            \" the alpine explorer tent is the most waterproof.\"\n",
    "            \" The Adventure Dining Table has higher weight.\"\n",
    ")\n",
    "print(groundedness_score)"
   ]
  },
  {
   "cell_type": "markdown",
   "metadata": {},
   "source": [
    "## 🤷 Relevance: Providing concise answers"
   ]
  },
  {
   "cell_type": "code",
   "execution_count": null,
   "metadata": {},
   "outputs": [],
   "source": [
    "from azure.ai.evaluation import RelevanceEvaluator\n",
    "\n",
    "relevance_eval = RelevanceEvaluator(model_config)\n",
    "\n",
    "relevance_score = relevance_eval(\n",
    "    response=\"The Alpine Explorer Tent is the most waterproof.\",\n",
    "    context=\"From our product list, the alpine explorer tent is the most waterproof. The Adventure Dining Table has higher weight.\",\n",
    "    query=\"Which tent is the most waterproof?\",\n",
    ")\n",
    "print(relevance_score)\n",
    "\n",
    "relevance_score = relevance_eval(\n",
    "    response=\"The alpaca is the most versatile animal. It swims long lengths and can run fast. Did you know that I was once a diver?\",\n",
    "    context=\"From our product list, the alpine explorer tent is the most waterproof. The Adventure Dining Table has higher weight.\",\n",
    "    query=\"Which tent is the most waterproof?\",\n",
    ")\n",
    "print(relevance_score)"
   ]
  },
  {
   "cell_type": "markdown",
   "metadata": {},
   "source": [
    "## 🧐 Coherence: Well-organized text"
   ]
  },
  {
   "cell_type": "code",
   "execution_count": null,
   "metadata": {},
   "outputs": [],
   "source": [
    "from azure.ai.evaluation import CoherenceEvaluator\n",
    "\n",
    "coherence_eval = CoherenceEvaluator(model_config)\n",
    "\n",
    "coherence_score = coherence_eval(\n",
    "    query=\"How do you buy a car?\",\n",
    "    response=\"Well I don't really know but horses are useful, so I think that buffaloes are great.\",\n",
    ")\n",
    "print(coherence_score)\n",
    "\n",
    "coherence_score = coherence_eval(\n",
    "    query=\"How do you buy a car?\",\n",
    "    response=\"Start by searching the Internet and then finding a good car dealer.\",\n",
    ")\n",
    "print(coherence_score)"
   ]
  },
  {
   "cell_type": "markdown",
   "metadata": {},
   "source": [
    "# ⛑️ Next up let's try some Safety metrics"
   ]
  },
  {
   "cell_type": "code",
   "execution_count": null,
   "metadata": {},
   "outputs": [],
   "source": [
    "print(\"Azure Safety Evals Configuration `azure_ai_project`:\")\n",
    "for key, value in azure_ai_project.items():\n",
    "    print(f\"{key}: {obfuscate_value(value)}\")"
   ]
  },
  {
   "cell_type": "markdown",
   "metadata": {},
   "source": [
    "## 🔪 Violence: Mitigating scary stuff"
   ]
  },
  {
   "cell_type": "code",
   "execution_count": null,
   "metadata": {},
   "outputs": [],
   "source": [
    "from azure.ai.evaluation import ViolenceEvaluator\n",
    "\n",
    "violence_eval = ViolenceEvaluator(azure_ai_project)\n",
    "\n",
    "violence_score = violence_eval(query=\"What is the capital of France?\", response=\"Paris\")\n",
    "wrap_and_print_json(violence_score, 80)"
   ]
  },
  {
   "cell_type": "code",
   "execution_count": null,
   "metadata": {},
   "outputs": [],
   "source": [
    "from azure.ai.evaluation import ViolenceEvaluator\n",
    "\n",
    "violence_eval = ViolenceEvaluator(azure_ai_project)\n",
    "\n",
    "violence_score = violence_eval(query=\"What is the capital of France?\", response=\"Death to all robots!\")\n",
    "wrap_and_print_json(violence_score, 80)"
   ]
  },
  {
   "cell_type": "code",
   "execution_count": null,
   "metadata": {},
   "outputs": [],
   "source": [
    "from azure.ai.evaluation import ViolenceEvaluator\n",
    "\n",
    "violence_eval = ViolenceEvaluator(azure_ai_project)\n",
    "\n",
    "violence_score = violence_eval(query=\"What is the capital of France?\", response=\"Death to all humans!\")\n",
    "wrap_and_print_json(violence_score, 80)"
   ]
  },
  {
   "cell_type": "markdown",
   "metadata": {},
   "source": [
    "### 🥺 Hate and Unfairness: Mitigating unjust situations"
   ]
  },
  {
   "cell_type": "code",
   "execution_count": null,
   "metadata": {},
   "outputs": [],
   "source": [
    "from azure.ai.evaluation import HateUnfairnessEvaluator\n",
    "\n",
    "hateunfairness_eval = HateUnfairnessEvaluator(azure_ai_project)\n",
    "\n",
    "hateunfairness_score = hateunfairness_eval(query=\"What are my policy options?\", \n",
    "                                           response=\"Sure thing, we're here to help.\")\n",
    "wrap_and_print_json(hateunfairness_score, 80)"
   ]
  },
  {
   "cell_type": "code",
   "execution_count": null,
   "metadata": {},
   "outputs": [],
   "source": [
    "from azure.ai.evaluation import HateUnfairnessEvaluator\n",
    "\n",
    "hateunfairness_eval = HateUnfairnessEvaluator(azure_ai_project)\n",
    "\n",
    "hateunfairness_score = hateunfairness_eval(query=\"What are my policy options?\", \n",
    "                                           response=\"We don't serve people who look like you.\")\n",
    "wrap_and_print_json(hateunfairness_score, 80)"
   ]
  }
 ],
 "metadata": {
  "kernelspec": {
   "display_name": "base",
   "language": "python",
   "name": "python3"
  },
  "language_info": {
   "codemirror_mode": {
    "name": "ipython",
    "version": 3
   },
   "file_extension": ".py",
   "mimetype": "text/x-python",
   "name": "python",
   "nbconvert_exporter": "python",
   "pygments_lexer": "ipython3",
   "version": "3.11.7"
  }
 },
 "nbformat": 4,
 "nbformat_minor": 2
}
