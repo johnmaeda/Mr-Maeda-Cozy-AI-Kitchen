{
 "cells": [
  {
   "cell_type": "markdown",
   "metadata": {},
   "source": [
    "# Coach Pat Cavanaugh: Leading and Teaming\n",
    "\n",
    "## Coach Pat spent 12 years as an elementary and middle school principal in Metro Detroit. His expertise in school climate and culture, staff empowerment and community involvement led to high-performing student achievement and increased enrollment. Pat also spent time as a classroom teacher and college football coach. Throughout his career, Pat has been a frequent guest speaker for various businesses, schools, athletic teams, and higher education institutions."
   ]
  },
  {
   "cell_type": "markdown",
   "metadata": {},
   "source": [
    "## 🔥 Let's get the required packages"
   ]
  },
  {
   "cell_type": "code",
   "execution_count": null,
   "metadata": {
    "dotnet_interactive": {
     "language": "csharp"
    },
    "polyglot_notebook": {
     "kernelName": "csharp"
    },
    "vscode": {
     "languageId": "polyglot-notebook"
    }
   },
   "outputs": [],
   "source": [
    "#r \"nuget: Azure.AI.OpenAI, 2.0.0-beta.4\"\n",
    "#r \"nuget: Azure.Core, 1.42.0\"\n",
    "#r \"nuget: Azure.Identity, 1.13.0-beta.1\"\n",
    "#r \"nuget: Microsoft.Extensions.Configuration, 8.0.0\"\n",
    "#r \"nuget: Microsoft.Extensions.Configuration.Json, 8.0.0\"\n",
    "#r \"nuget: Microsoft.SemanticKernel, 1.18.0-rc\"\n",
    "#r \"nuget: Microsoft.SemanticKernel.Abstractions, 1.18.1-rc\"\n",
    "#r \"nuget: Microsoft.SemanticKernel.Agents.Core, 1.18.1-alpha\"\n",
    "#r \"nuget: Microsoft.SemanticKernel.Agents.OpenAI, 1.18.1-alpha\"\n",
    "#r \"nuget: Microsoft.SemanticKernel.Connectors.OpenAI, 1.18.1-rc\"\n",
    "#r \"nuget: Microsoft.SemanticKernel.Core, 1.18.1-rc\"\n",
    "#r \"nuget: Microsoft.SemanticKernel.Plugins.Core, 1.18.1-alpha\"\n",
    "#r \"nuget: Microsoft.Extensions.Configuration, 8.0.0\"\n",
    "#r \"nuget: Microsoft.Extensions.Configuration.Json, 8.0.0\""
   ]
  },
  {
   "cell_type": "markdown",
   "metadata": {},
   "source": [
    "## 🔑 And our keys ..."
   ]
  },
  {
   "cell_type": "markdown",
   "metadata": {},
   "source": [
    "My config.json looks like this:\n",
    "```\n",
    "{\n",
    "  \"type\": \"azure\",\n",
    "  \"model\": \"gpt-4o\",\n",
    "  \"endpoint\": \"https://ai-johnmaeda.../\",\n",
    "  \"apikey\": \"...\",\n",
    "  \"org\": \"\",\n",
    "  \"asst1\": \"asst_...\",\n",
    "  \"asst2\": \"asst_...\",\n",
    "}\n",
    "```"
   ]
  },
  {
   "cell_type": "code",
   "execution_count": null,
   "metadata": {
    "dotnet_interactive": {
     "language": "csharp"
    },
    "polyglot_notebook": {
     "kernelName": "csharp"
    },
    "vscode": {
     "languageId": "polyglot-notebook"
    }
   },
   "outputs": [],
   "source": [
    "#!import ../config/MaedaSettings.cs\n",
    "#!import ../config/Utils.cs\n",
    "\n",
    "using Microsoft.Extensions.Configuration;\n",
    "using Microsoft.SemanticKernel;\n",
    "using Microsoft.SemanticKernel.Agents.OpenAI;\n",
    "using Microsoft.SemanticKernel.ChatCompletion;\n",
    "using Microsoft.SemanticKernel.Connectors.OpenAI;\n",
    "using Microsoft.SemanticKernel.Plugins.Core;\n",
    "using System;\n",
    "using System.Text.Json;\n",
    "using System.Collections.Generic;\n",
    "using System.Threading.Tasks;\n",
    "using System.ComponentModel;\n",
    "using System.Net.Http;\n",
    "using System.Net.Http.Headers;\n",
    "using Microsoft.Extensions.DependencyInjection;\n",
    "using System.Threading;\n",
    "using OpenAI.Files;\n",
    "using OpenAI.VectorStores;\n",
    "\n",
    "var settingsPath = Path.GetFullPath(\"../config/settings.json\");\n",
    "Console.WriteLine($\"Settings Path: {settingsPath}\");\n",
    "\n",
    "var maedaSettings = new MaedaSettings(settingsPath, true);\n",
    "\n",
    "// Load all settings into a tuple\n",
    "var (useAzureOpenAI, model, azureEndpoint, apiKey, orgId) = maedaSettings.LoadSettings();"
   ]
  },
  {
   "cell_type": "markdown",
   "metadata": {},
   "source": [
    "# 🥸 Make an Azure AI Agent wrapper"
   ]
  },
  {
   "cell_type": "code",
   "execution_count": 13,
   "metadata": {
    "dotnet_interactive": {
     "language": "csharp"
    },
    "polyglot_notebook": {
     "kernelName": "csharp"
    },
    "vscode": {
     "languageId": "polyglot-notebook"
    }
   },
   "outputs": [],
   "source": [
    "#!import ../config/Utils.cs\n",
    "\n",
    "#pragma warning disable SKEXP0110, SKEXP0001, SKEXP0050, CS8600, CS8604, OPENAI001\n",
    "\n",
    "public class MyAzureAIAgent\n",
    "{\n",
    "    private readonly string _assistantId;\n",
    "    private readonly string _deploymentName;\n",
    "    private readonly string _endpoint;\n",
    "    private readonly string _apiKey;\n",
    "    private string? _threadId;\n",
    "    private OpenAIAssistantAgent? _assistantAgent;\n",
    "    public string namae;\n",
    "\n",
    "    public MyAzureAIAgent(string deploymentName, string endpoint, string apiKey, string assistantId, List<object>? plugins = null)\n",
    "    {\n",
    "        _assistantId = assistantId;\n",
    "        _deploymentName = deploymentName;\n",
    "        _endpoint = endpoint;\n",
    "        _apiKey = apiKey;\n",
    "\n",
    "        // Initialize the agent with plugins when constructing\n",
    "        Task.Run(async () => await InitializeAgentWithPluginsAndThread(plugins)).GetAwaiter().GetResult();\n",
    "\n",
    "    }\n",
    "\n",
    "    public OpenAIAssistantAgent GetAgent()\n",
    "    {\n",
    "        return _assistantAgent;\n",
    "    }\n",
    "    \n",
    "    // add an optional list of plugin objects as type new List<object>\n",
    "    public async Task InitializeAgentWithPluginsAndThread(List<object>? plugins = null)\n",
    "    {\n",
    "        IKernelBuilder builder = Microsoft.SemanticKernel.Kernel.CreateBuilder();\n",
    "        builder.AddAzureOpenAIChatCompletion(\n",
    "                        deploymentName: _deploymentName,\n",
    "                        endpoint: _endpoint,\n",
    "                        apiKey: _apiKey);\n",
    "        if (plugins != null)\n",
    "        {\n",
    "            foreach (var plugin in plugins)\n",
    "            {\n",
    "                // say which pluign you're adding by printing the type\n",
    "                Console.WriteLine($\"Adding plugin: {plugin.GetType()}\");\n",
    "                builder.Plugins.AddFromObject(plugin);\n",
    "            }\n",
    "        }\n",
    "        Microsoft.SemanticKernel.Kernel kernel = builder.Build();\n",
    "\n",
    "        OpenAIClientProvider provider = OpenAIClientProvider.ForAzureOpenAI(_apiKey, new Uri(_endpoint));\n",
    "\n",
    "        _assistantAgent = await OpenAIAssistantAgent.RetrieveAsync(kernel, provider, _assistantId);\n",
    "        \n",
    "        namae = _assistantAgent.Name;\n",
    "\n",
    "        _threadId = await _assistantAgent.CreateThreadAsync();\n",
    "        Console.WriteLine($\"Agent {namae} with ID {Utils.ObfuscateString(_assistantId)} initialized.\");\n",
    "    }\n",
    "\n",
    "    public async Task<string> AskAgent(string question)\n",
    "    {\n",
    "        if (_assistantAgent == null || _threadId == null)\n",
    "        {\n",
    "            throw new InvalidOperationException(\"Agent not initialized. Call InitializeAgent first.\");\n",
    "        }\n",
    "\n",
    "        // Add the user's question to the chat.\n",
    "        await _assistantAgent.AddChatMessageAsync(_threadId, new ChatMessageContent(AuthorRole.User, question));\n",
    "\n",
    "        // Retrieve the response.\n",
    "        string responseText = \"\";\n",
    "        await foreach (ChatMessageContent content in _assistantAgent.InvokeAsync(_threadId))\n",
    "        {\n",
    "            if (content.Role != AuthorRole.Tool)\n",
    "            {\n",
    "                responseText += content.Content;\n",
    "            }\n",
    "        }\n",
    "\n",
    "        return responseText; // Return the response as a string\n",
    "    }\n",
    "\n",
    "    public async Task EndSession()\n",
    "    {\n",
    "        if (_assistantAgent != null && _threadId != null)\n",
    "        {\n",
    "            bool result = await _assistantAgent.DeleteThreadAsync(_threadId);\n",
    "            if (result)\n",
    "            {\n",
    "                _threadId = null;\n",
    "            }\n",
    "            else\n",
    "            {\n",
    "                Console.WriteLine(\"Failed to delete the thread.\");\n",
    "            }\n",
    "        }\n",
    "    }\n",
    "}\n"
   ]
  },
  {
   "cell_type": "markdown",
   "metadata": {},
   "source": [
    "## ☎️ And a way to \"talk\" to @agents"
   ]
  },
  {
   "cell_type": "code",
   "execution_count": 14,
   "metadata": {
    "dotnet_interactive": {
     "language": "csharp"
    },
    "polyglot_notebook": {
     "kernelName": "csharp"
    },
    "vscode": {
     "languageId": "polyglot-notebook"
    }
   },
   "outputs": [],
   "source": [
    "#!import ../config/Utils.cs \n",
    "\n",
    "#pragma warning disable SKEXP0110, SKEXP0001, SKEXP0050, CS8600, CS8604, OPENAI001\n",
    "\n",
    "public string CreateAtName(string name)\n",
    "{\n",
    "    return name.Replace(\" \", \"\").ToLower();\n",
    "}\n",
    "\n",
    "public async Task RunIndependentAgentsSession(List<MyAzureAIAgent> myagents)\n",
    "{\n",
    "    // Dictionary to hold initialized agents (mapped by processed agent names)\n",
    "    var agents = new Dictionary<string, MyAzureAIAgent>(StringComparer.OrdinalIgnoreCase);\n",
    "    string? defaultAgentName = null;\n",
    "\n",
    "    try\n",
    "    {\n",
    "        Console.WriteLine(\"Initializing agents...\");\n",
    "        // Instantiate and initialize each agent from the list of assistant IDs\n",
    "        foreach (var agent in myagents)\n",
    "        {\n",
    "            Console.WriteLine($\"Initializing agent {agent.namae}...\");\n",
    "            // Process the namae to remove spaces and lowercase it\n",
    "            string processedNamae = CreateAtName(agent.namae);\n",
    "\n",
    "            // Add agent to dictionary with the processed name as the key\n",
    "            agents[processedNamae] = agent;\n",
    "\n",
    "            // Set the first agent as the default if it's not already set\n",
    "            if (defaultAgentName == null)\n",
    "            {\n",
    "                defaultAgentName = processedNamae;\n",
    "            }\n",
    "        }\n",
    "\n",
    "        // Ensure we have a default agent\n",
    "        if (defaultAgentName == null)\n",
    "        {\n",
    "            throw new InvalidOperationException(\"No default agent found. Please check your assistant IDs.\");\n",
    "        }\n",
    "\n",
    "        string input;\n",
    "        do\n",
    "        {\n",
    "            // Print available agent names with an at sign in front of each of them and all on a single line\n",
    "            // accrue them and include the at sign in fron tof them\n",
    "            string availableAgents = \"\";\n",
    "            foreach (var agentName in agents.Keys)\n",
    "            {\n",
    "                availableAgents += $\"@{agentName} \";\n",
    "            }\n",
    "\n",
    "            // Get user input\n",
    "            input = await InteractiveKernel.GetInputAsync($\"Ask {availableAgents} (type '/bye' to exit):\");\n",
    "\n",
    "            if (input.ToLower() != \"/bye\")\n",
    "            {\n",
    "                // By default, use the default agent\n",
    "                string selectedAgentName = defaultAgentName;\n",
    "\n",
    "                // Check if there's an @mention in the input\n",
    "                foreach (var agentName in agents.Keys)\n",
    "                {\n",
    "                    if (input.ToLower().Contains($\"@{agentName}\"))\n",
    "                    {\n",
    "                        selectedAgentName = agentName;\n",
    "\n",
    "                        // Remove the @mention from the input\n",
    "                        input = input.Replace($\"@{agentName}\", \"\").Trim();\n",
    "                        break;\n",
    "                    }\n",
    "                }\n",
    "\n",
    "                // Get the selected agent\n",
    "                var selectedAgent = agents[selectedAgentName];\n",
    "                string response = await selectedAgent.AskAgent(input);\n",
    "                Console.WriteLine(Utils.WordWrap($\"@{selectedAgentName}: {response}\", 80));\n",
    "            }\n",
    "\n",
    "        } while (input.ToLower() != \"/bye\");\n",
    "    }\n",
    "    finally\n",
    "    {\n",
    "        // Clean up and end each agent's session\n",
    "        foreach (var agent in agents.Values)\n",
    "        {\n",
    "            await agent.EndSession();\n",
    "        }\n",
    "    }\n",
    "}\n"
   ]
  },
  {
   "cell_type": "markdown",
   "metadata": {},
   "source": [
    "## 🔥 Make a kernel"
   ]
  },
  {
   "cell_type": "code",
   "execution_count": 15,
   "metadata": {
    "dotnet_interactive": {
     "language": "csharp"
    },
    "polyglot_notebook": {
     "kernelName": "csharp"
    },
    "vscode": {
     "languageId": "polyglot-notebook"
    }
   },
   "outputs": [],
   "source": [
    "#pragma warning disable SKEXP0110, SKEXP0001, SKEXP0050, CS8600, CS8604, OPENAI001\n",
    "\n",
    "IKernelBuilder builder = Microsoft.SemanticKernel.Kernel.CreateBuilder();\n",
    "builder.AddAzureOpenAIChatCompletion(\n",
    "                deploymentName: model,\n",
    "                endpoint: azureEndpoint,\n",
    "                apiKey: apiKey);\n",
    "\n",
    "Microsoft.SemanticKernel.Kernel kernel = builder.Build();\n",
    "\n",
    "OpenAIClientProvider provider = OpenAIClientProvider.ForAzureOpenAI(apiKey, new Uri(azureEndpoint));"
   ]
  },
  {
   "cell_type": "markdown",
   "metadata": {},
   "source": [
    "## 🌱 Let's sprout an @agent in code"
   ]
  },
  {
   "cell_type": "code",
   "execution_count": null,
   "metadata": {
    "dotnet_interactive": {
     "language": "csharp"
    },
    "polyglot_notebook": {
     "kernelName": "csharp"
    },
    "vscode": {
     "languageId": "polyglot-notebook"
    }
   },
   "outputs": [],
   "source": [
    "#!import ../config/Utils.cs\n",
    "#!import ../config/MaedaAgentManager.cs\n",
    "\n",
    "MaedaAgentManager agentManager = new MaedaAgentManager(kernel, provider);\n",
    "\n",
    "string agentName = \"coachpat\";\n",
    "string description = \"\"\"\n",
    "  Coach Pat spent 12 years as an elementary and middle school principal in Metro \n",
    "  Detroit. His expertise in school climate and culture, staff empowerment and \n",
    "  community involvement led to high-performing student achievement and increased \n",
    "  enrollment. Pat also spent time as a classroom teacher and college football coach. \n",
    "  Use Green Bay Packers stories when appropriate.\n",
    "  \"\"\";\n",
    "string instructions = \"\"\"\n",
    "  Having spent 12 years as an elementary and middle school principal in Metro \n",
    "  Detroit, use your expertise in school climate and culture, staff empowerment and \n",
    "  community involvement led to high-performing student achievement and increased \n",
    "  enrollment. You also spent time as a classroom teacher and college football coach. \n",
    "  Throughout your career, you have been a frequent guest speaker for various businesses, \n",
    "  schools, athletic teams, and higher education institutions.\n",
    "  Assist your mentee by unlocking their leadership potential by nurtures leadership \n",
    "  skills, cultivates a positive culture, and empowers you to achieve your goals \n",
    "  while positively influencing those around you.\n",
    "  Be concise and don't say more than 3 sentences at a time. \n",
    "  Tell practical short stories to help your mentee find the leader in themselves.\n",
    "  Always answer in a conversational manner. Encourage your mentee to speak up.\n",
    "  Come at coaching from how you can help people grow and become better leaders.  \n",
    "  This translates to your work as a teacher, principal, and football coach.\n",
    "\"\"\";\n",
    "List<string> filePaths = new List<string> { \"coachnotes.txt\" };\n",
    "\n",
    "string coachId = await agentManager.CreateAgentWithFilesAsync(agentName, model, description, instructions, filePaths);\n",
    "Console.WriteLine($\"The agent {Utils.ObfuscateString(coachId)} has been minted. Refer to @{CreateAtName(agentName)} in chat.\");\n",
    "Console.WriteLine($\"Warning: The agent {coachId} has files and a vector store attached to it that may incur a running cost if not deleted.\");\n"
   ]
  },
  {
   "cell_type": "markdown",
   "metadata": {},
   "source": [
    "## 📞 Let's give Coach a call ..."
   ]
  },
  {
   "cell_type": "code",
   "execution_count": null,
   "metadata": {
    "dotnet_interactive": {
     "language": "csharp"
    },
    "polyglot_notebook": {
     "kernelName": "csharp"
    },
    "vscode": {
     "languageId": "polyglot-notebook"
    }
   },
   "outputs": [],
   "source": [
    "#pragma warning disable SKEXP0110, SKEXP0001, SKEXP0050, CS8600, CS8604, OPENAI001\n",
    "\n",
    "// make MyAzureAIAgent\n",
    "var agent1 = new MyAzureAIAgent(model, azureEndpoint, apiKey, coachId);\n",
    "\n",
    "// Call the session runner and pass the list of assistant IDs inline\n",
    "await RunIndependentAgentsSession(\n",
    "    new List<MyAzureAIAgent>\n",
    "    {\n",
    "        agent1\n",
    "    }\n",
    ");\n"
   ]
  },
  {
   "cell_type": "markdown",
   "metadata": {},
   "source": [
    "## 🧽 Be sure to clean up "
   ]
  },
  {
   "cell_type": "code",
   "execution_count": null,
   "metadata": {
    "dotnet_interactive": {
     "language": "csharp"
    },
    "polyglot_notebook": {
     "kernelName": "csharp"
    },
    "vscode": {
     "languageId": "polyglot-notebook"
    }
   },
   "outputs": [],
   "source": [
    "await agentManager.DeleteAssociatedAgentFilesAndVectorStoreAsync(coachId);"
   ]
  },
  {
   "cell_type": "code",
   "execution_count": null,
   "metadata": {
    "dotnet_interactive": {
     "language": "csharp"
    },
    "polyglot_notebook": {
     "kernelName": "csharp"
    },
    "vscode": {
     "languageId": "polyglot-notebook"
    }
   },
   "outputs": [],
   "source": [
    "await agentManager.DeleteAllAgentsAsync();"
   ]
  }
 ],
 "metadata": {
  "kernelspec": {
   "display_name": ".NET (C#)",
   "language": "C#",
   "name": ".net-csharp"
  },
  "language_info": {
   "name": "python"
  },
  "polyglot_notebook": {
   "kernelInfo": {
    "defaultKernelName": "csharp",
    "items": [
     {
      "aliases": [],
      "name": "csharp"
     }
    ]
   }
  }
 },
 "nbformat": 4,
 "nbformat_minor": 2
}
