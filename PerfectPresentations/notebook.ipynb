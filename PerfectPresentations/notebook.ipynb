{
 "cells": [
  {
   "cell_type": "markdown",
   "metadata": {},
   "source": [
    "# Nancy Duarte: CEO of Duarte, Inc. and author of _slide:ology (2008), Resonate (2010), the HBR Guide to Persuasive Presentations (2012),_ and _Illuminate (2016)_\n",
    "\n",
    "### \"All the attention is on us. But in reality, the audience is **the one.** If they don’t leave with your idea adopted, your idea is going to die.\" —via [Stanford GSB Talk Smart: The Podcast](https://www.gsb.stanford.edu/insights/its-not-about-you-why-effective-communicators-put-others-first)\n",
    "\n",
    "### With Nancy, we create a couple of audience agents to respond to presentation content created with her [famous methodology](https://hbr.org/2012/10/structure-your-presentation-li) as featured in Harvard Business Review in 2012."
   ]
  },
  {
   "cell_type": "markdown",
   "metadata": {},
   "source": [
    "---\n",
    "\n",
    "# Version 🥱: Company Update Presentation\n",
    "\n",
    "## Slide 1: Title Slide\n",
    "- **Title**: \"Company Update\"\n",
    "- **Description**: A generic and vague title with no clear agenda or introduction.\n",
    "\n",
    "## Slide 2: Financial Overview\n",
    "- **Title**: \"Financial Overview\"\n",
    "- **Content**: \n",
    "  - Dense array of complex charts and graphs.\n",
    "  - No narrative or explanation provided.\n",
    "  - Difficult to interpret without guidance.\n",
    "\n",
    "## Slide 3: Challenges\n",
    "- **Title**: \"Challenges\"\n",
    "- **Content**:\n",
    "  - List of problems including 'Understaffing', 'Low Morale', 'Budget Cuts'.\n",
    "  - No solutions or context offered.\n",
    "  - Presents issues without addressing them.\n",
    "\n",
    "## Slide 4: Strategic Initiatives\n",
    "- **Title**: \"Strategic Initiatives\"\n",
    "- **Content**:\n",
    "  - Jargon-filled text, overly technical.\n",
    "  - Difficult for a general audience to understand.\n",
    "  - Lacks clarity and simplicity.\n",
    "\n",
    "## Slide 5: Closing Slide\n",
    "- **Title**: \"Thank You\"\n",
    "- **Content**:\n",
    "  - Generic 'Thank You' message.\n",
    "  - Lacks a clear call to action or inspiring ending.\n",
    "  - Ends abruptly without motivating or guiding the audience.\n"
   ]
  },
  {
   "cell_type": "markdown",
   "metadata": {},
   "source": [
    "---\n",
    "\n",
    "# Version 😎: Company Transformation Presentation\n",
    "\n",
    "## Slide 1: Introduction\n",
    "- **Title**: \"Embracing Change for a Brighter Future\"\n",
    "- **Description**: \n",
    "  - Introduce the current state of the company.\n",
    "  - Engage audience with a relatable scenario.\n",
    "  - Establish a bond by articulating shared experiences and challenges.\n",
    "\n",
    "## Slide 2: The Vision\n",
    "- **Title**: \"Our Potential: What Could Be\"\n",
    "- **Content**: \n",
    "  - Present a compelling vision of the future.\n",
    "  - Contrast current challenges with potential achievements.\n",
    "  - Example: \n",
    "    - Current: \"Q3 challenges due to understaffing.\"\n",
    "    - Vision: \"Q4 success with strategic hiring and focused goals.\"\n",
    "\n",
    "## Slide 3: Bridging the Gap\n",
    "- **Title**: \"Turning Challenges into Opportunities\"\n",
    "- **Content**:\n",
    "  - Discuss specific strategies to overcome current challenges.\n",
    "  - Move back and forth between 'what is' and 'what could be'.\n",
    "  - Example:\n",
    "    - What is: \"Missed targets in Q3.\"\n",
    "    - What could be: \"Innovative solutions for Q4 growth.\"\n",
    "\n",
    "## Slide 4: The Action Plan\n",
    "- **Title**: \"Our Roadmap to Success\"\n",
    "- **Content**:\n",
    "  - Outline clear, actionable steps.\n",
    "  - Motivate with achievable goals and milestones.\n",
    "  - Example:\n",
    "    - Action: \"Implement new client engagement strategies.\"\n",
    "    - Goal: \"Increase revenue and client satisfaction.\"\n",
    "\n",
    "## Slide 5: Inspiring Conclusion\n",
    "- **Title**: \"Together Towards Triumph\"\n",
    "- **Content**:\n",
    "  - End with a powerful and inspiring call to action.\n",
    "  - Paint a picture of the 'new bliss' – the improved future state.\n",
    "  - Example:\n",
    "    - Call to Action: \"Unified effort for exceptional Q4 results.\"\n",
    "    - New Bliss: \"Achieving our targets leads to bonuses and recognition.\"\n"
   ]
  },
  {
   "cell_type": "code",
   "execution_count": null,
   "metadata": {
    "dotnet_interactive": {
     "language": "csharp"
    },
    "polyglot_notebook": {
     "kernelName": "csharp"
    },
    "vscode": {
     "languageId": "polyglot-notebook"
    }
   },
   "outputs": [],
   "source": [
    "const string slidesV1 = \"\"\"\n",
    "# Company Presentation\n",
    "\n",
    "## Slide 1: Company Presentation\n",
    "- **Title**: \"Company Update\"\n",
    "- **Description**: A generic and vague title with no clear agenda or introduction.\n",
    "\n",
    "## Slide 2: Financial Overview\n",
    "- **Title**: \"Financial Overview\"\n",
    "- **Content**: \n",
    "  - Dense array of complex charts and graphs.\n",
    "  - No narrative or explanation provided.\n",
    "  - Difficult to interpret without guidance.\n",
    "\n",
    "## Slide 3: Challenges\n",
    "- **Title**: \"Challenges\"\n",
    "- **Content**:\n",
    "  - List of problems including 'Understaffing', 'Low Morale', 'Budget Cuts'.\n",
    "  - No solutions or context offered.\n",
    "  - Presents issues without addressing them.\n",
    "\n",
    "## Slide 4: Strategic Initiatives\n",
    "- **Title**: \"Strategic Initiatives\"\n",
    "- **Content**:\n",
    "  - Jargon-filled text, overly technical.\n",
    "  - Difficult for a general audience to understand.\n",
    "  - Lacks clarity and simplicity.\n",
    "\n",
    "## Slide 5: Closing Slide\n",
    "- **Title**: \"Thank You\"\n",
    "- **Content**:\n",
    "  - Generic 'Thank You' message.\n",
    "  - Lacks a clear call to action or inspiring ending.\n",
    "  - Ends abruptly without motivating or guiding the audience.\n",
    "\"\"\";\n",
    "\n",
    "const string slidesV2 = \"\"\"\n",
    "# Company Presentation\n",
    "\n",
    "## Slide 1: Introduction\n",
    "- **Title**: \"Embracing Change for a Brighter Future\"\n",
    "- **Description**: \n",
    "  - Introduce the current state of the company.\n",
    "  - Engage audience with a relatable scenario.\n",
    "  - Establish a bond by articulating shared experiences and challenges.\n",
    "\n",
    "## Slide 2: The Vision\n",
    "- **Title**: \"Our Potential: What Could Be\"\n",
    "- **Content**: \n",
    "  - Present a compelling vision of the future.\n",
    "  - Contrast current challenges with potential achievements.\n",
    "  - Example: \n",
    "    - Current: \"Q3 challenges due to understaffing.\"\n",
    "    - Vision: \"Q4 success with strategic hiring and focused goals.\"\n",
    "\n",
    "## Slide 3: Bridging the Gap\n",
    "- **Title**: \"Turning Challenges into Opportunities\"\n",
    "- **Content**:\n",
    "  - Discuss specific strategies to overcome current challenges.\n",
    "  - Move back and forth between 'what is' and 'what could be'.\n",
    "  - Example:\n",
    "    - What is: \"Missed targets in Q3.\"\n",
    "    - What could be: \"Innovative solutions for Q4 growth.\"\n",
    "\n",
    "## Slide 4: The Action Plan\n",
    "- **Title**: \"Our Roadmap to Success\"\n",
    "- **Content**:\n",
    "  - Outline clear, actionable steps.\n",
    "  - Motivate with achievable goals and milestones.\n",
    "  - Example:\n",
    "    - Action: \"Implement new client engagement strategies.\"\n",
    "    - Goal: \"Increase revenue and client satisfaction.\"\n",
    "\n",
    "## Slide 5: Inspiring Conclusion\n",
    "- **Title**: \"Together Towards Triumph\"\n",
    "- **Content**:\n",
    "  - End with a powerful and inspiring call to action.\n",
    "  - Paint a picture of the 'new bliss' – the improved future state.\n",
    "  - Example:\n",
    "    - Call to Action: \"Unified effort for exceptional Q4 results.\"\n",
    "    - New Bliss: \"Achieving our targets leads to bonuses and recognition.\"\n",
    "\"\"\";"
   ]
  },
  {
   "cell_type": "markdown",
   "metadata": {},
   "source": [
    "# 🕵️ Let's make a couple of AI agents to weigh in on this presentation"
   ]
  },
  {
   "cell_type": "markdown",
   "metadata": {},
   "source": [
    "## 🔥 We fire up Semantic Kernel's Experimental Agents ..."
   ]
  },
  {
   "cell_type": "code",
   "execution_count": null,
   "metadata": {
    "dotnet_interactive": {
     "language": "csharp"
    },
    "polyglot_notebook": {
     "kernelName": "csharp"
    },
    "vscode": {
     "languageId": "polyglot-notebook"
    }
   },
   "outputs": [],
   "source": [
    "#!import ../config/Settings.cs \n",
    "#!import ../config/Utils.cs\n",
    "\n",
    "#r \"nuget: Microsoft.SemanticKernel, 1.1.0\"\n",
    "#r \"nuget: Microsoft.SemanticKernel.Experimental.Agents, 1.1.0-alpha\"\n",
    "#r \"nuget: YamlDotNet, 13.7.1\"\n",
    "\n",
    "using System;\n",
    "using System.Collections.Generic;\n",
    "using System.Linq;\n",
    "using System.Threading.Tasks;\n",
    "using Microsoft.SemanticKernel.Experimental.Agents;\n",
    "\n",
    "var (useAzureOpenAI, model, azureEndpoint, apiKey, orgId) = Settings.LoadFromFile();\n",
    "\n",
    "const string OpenAIFunctionEnabledModel = \"gpt-4-1106-preview\";"
   ]
  },
  {
   "cell_type": "markdown",
   "metadata": {},
   "source": [
    "## 📖 We load up agent definitions in a .yaml format"
   ]
  },
  {
   "cell_type": "code",
   "execution_count": null,
   "metadata": {
    "dotnet_interactive": {
     "language": "csharp"
    },
    "polyglot_notebook": {
     "kernelName": "csharp"
    },
    "vscode": {
     "languageId": "polyglot-notebook"
    }
   },
   "outputs": [],
   "source": [
    "using System.IO;\n",
    "using YamlDotNet.Serialization;\n",
    "using YamlDotNet.Serialization.NamingConventions;\n",
    "\n",
    "public class Agenty\n",
    "{\n",
    "    public string Name { get; set; }\n",
    "    public string Instructions { get; set; }\n",
    "    public string Description { get; set; }\n",
    "}\n",
    "\n",
    "List<string> agentNames = [\"ConcernedEmployee\", \"SuccessfulMidlevelManager\"];\n",
    "string team = \"\";\n",
    "int i = 1;\n",
    "List<(string Name, string Instructions)> agentInfo = new();\n",
    "\n",
    "foreach(var a in agentNames)\n",
    "{\n",
    "    var yaml = File.ReadAllText($\"../agents/{a}.yaml\");\n",
    "    var deserializer = new DeserializerBuilder()\n",
    "        .WithNamingConvention(CamelCaseNamingConvention.Instance) // Use camel case naming convention\n",
    "        .Build();\n",
    "\n",
    "    var p = deserializer.Deserialize<Agenty>(yaml);\n",
    "    Console.WriteLine($\"Agent: {a}\");\n",
    "    team += $\"{i}) {p.Name}: {p.Description}, \";\n",
    "    i++;\n",
    "    agentInfo.Add((p.Name, p.Instructions));\n",
    "}\n",
    "\n",
    "agentInfo"
   ]
  },
  {
   "cell_type": "markdown",
   "metadata": {},
   "source": [
    "## 🐤 We're ready to hatch these AI agents"
   ]
  },
  {
   "cell_type": "code",
   "execution_count": null,
   "metadata": {
    "dotnet_interactive": {
     "language": "csharp"
    },
    "polyglot_notebook": {
     "kernelName": "csharp"
    },
    "vscode": {
     "languageId": "polyglot-notebook"
    }
   },
   "outputs": [],
   "source": [
    "#pragma warning disable SKEXP0101\n",
    "\n",
    "static readonly List<IAgent> s_agents = new();\n",
    "\n",
    "async Task<IAgent> CreateAgentAsync(string name, string jobDescription)\n",
    "{\n",
    "    return Track(\n",
    "        await new AgentBuilder()\n",
    "            .WithOpenAIChatCompletion(OpenAIFunctionEnabledModel, apiKey)\n",
    "            .WithInstructions(jobDescription)\n",
    "            .WithName(name)\n",
    "            .WithDescription(name)\n",
    "            .BuildAsync());\n",
    "}\n",
    "\n",
    "IAgent Track(IAgent agent)\n",
    "{\n",
    "    s_agents.Add(agent);\n",
    "\n",
    "    return agent;\n",
    "}\n",
    "\n",
    "var agents = new List<IAgent>();\n",
    "foreach (var (name, jobDescription) in agentInfo)\n",
    "{\n",
    "    var agent = await CreateAgentAsync(name, jobDescription);\n",
    "\n",
    "    agents.Add(agent);\n",
    "}\n",
    "\n",
    "agents"
   ]
  },
  {
   "cell_type": "markdown",
   "metadata": {},
   "source": [
    "# 📉🥱 Let's show preso 1 to the agents"
   ]
  },
  {
   "cell_type": "code",
   "execution_count": null,
   "metadata": {
    "dotnet_interactive": {
     "language": "csharp"
    },
    "polyglot_notebook": {
     "kernelName": "csharp"
    },
    "vscode": {
     "languageId": "polyglot-notebook"
    }
   },
   "outputs": [],
   "source": [
    "#pragma warning disable SKEXP0101\n",
    "\n",
    "IAgentThread? thread = null;\n",
    "\n",
    "thread = await agents[0].NewThreadAsync();\n",
    "await thread.AddUserMessageAsync($\"This is the presentation being presented by management: {slidesV1}. What is your honest reaction?\");"
   ]
  },
  {
   "cell_type": "markdown",
   "metadata": {},
   "source": [
    "## 🕵️ 1️⃣ Please stand up"
   ]
  },
  {
   "cell_type": "code",
   "execution_count": null,
   "metadata": {
    "dotnet_interactive": {
     "language": "csharp"
    },
    "polyglot_notebook": {
     "kernelName": "csharp"
    },
    "vscode": {
     "languageId": "polyglot-notebook"
    }
   },
   "outputs": [],
   "source": [
    "#pragma warning disable SKEXP0101\n",
    "\n",
    "var whichAgent = 0;\n",
    "\n",
    "Console.WriteLine($\"Agent `{agents[whichAgent].Name}` will respond to the presentation.\");\n",
    "\n",
    "var agentMessages = await thread.InvokeAsync(agents[whichAgent]).ToArrayAsync();\n",
    "\n",
    "Console.WriteLine(Utils.WordWrap(agentMessages[0].Content, 80));"
   ]
  },
  {
   "cell_type": "markdown",
   "metadata": {},
   "source": [
    "## 🕵️ 2️⃣ You're up!"
   ]
  },
  {
   "cell_type": "code",
   "execution_count": null,
   "metadata": {
    "dotnet_interactive": {
     "language": "csharp"
    },
    "polyglot_notebook": {
     "kernelName": "csharp"
    },
    "vscode": {
     "languageId": "polyglot-notebook"
    }
   },
   "outputs": [],
   "source": [
    "#pragma warning disable SKEXP0101\n",
    "\n",
    "var whichAgent = 1;\n",
    "\n",
    "Console.WriteLine($\"Agent `{agents[whichAgent].Name}` will respond to the presentation.\");\n",
    "\n",
    "var agentMessages = await thread.InvokeAsync(agents[whichAgent]).ToArrayAsync();\n",
    "\n",
    "Console.WriteLine(Utils.WordWrap(agentMessages[0].Content, 80));"
   ]
  },
  {
   "cell_type": "markdown",
   "metadata": {},
   "source": [
    "# 📈🥱 Let's show preso 2 to the agents"
   ]
  },
  {
   "cell_type": "code",
   "execution_count": null,
   "metadata": {
    "dotnet_interactive": {
     "language": "csharp"
    },
    "polyglot_notebook": {
     "kernelName": "csharp"
    },
    "vscode": {
     "languageId": "polyglot-notebook"
    }
   },
   "outputs": [],
   "source": [
    "#pragma warning disable SKEXP0101\n",
    "\n",
    "await thread.AddUserMessageAsync($\"This is the presentation being presented by management: {slidesV2}. What is your honest reaction?\");"
   ]
  },
  {
   "cell_type": "markdown",
   "metadata": {},
   "source": [
    "## 🕵️ 1️⃣ Please stand up"
   ]
  },
  {
   "cell_type": "code",
   "execution_count": null,
   "metadata": {
    "dotnet_interactive": {
     "language": "csharp"
    },
    "polyglot_notebook": {
     "kernelName": "csharp"
    },
    "vscode": {
     "languageId": "polyglot-notebook"
    }
   },
   "outputs": [],
   "source": [
    "#pragma warning disable SKEXP0101\n",
    "\n",
    "var whichAgent = 0;\n",
    "\n",
    "Console.WriteLine($\"Agent `{agents[whichAgent].Name}` will respond to the presentation.\");\n",
    "\n",
    "var agentMessages = await thread.InvokeAsync(agents[whichAgent]).ToArrayAsync();\n",
    "\n",
    "Console.WriteLine(Utils.WordWrap(agentMessages[0].Content, 80));"
   ]
  },
  {
   "cell_type": "markdown",
   "metadata": {},
   "source": [
    "## 🕵️ 2️⃣ You're up!"
   ]
  },
  {
   "cell_type": "code",
   "execution_count": null,
   "metadata": {
    "dotnet_interactive": {
     "language": "csharp"
    },
    "polyglot_notebook": {
     "kernelName": "csharp"
    },
    "vscode": {
     "languageId": "polyglot-notebook"
    }
   },
   "outputs": [],
   "source": [
    "#pragma warning disable SKEXP0101\n",
    "\n",
    "var whichAgent = 1;\n",
    "\n",
    "Console.WriteLine($\"Agent `{agents[whichAgent].Name}` will respond to the presentation.\");\n",
    "\n",
    "var agentMessages = await thread.InvokeAsync(agents[whichAgent]).ToArrayAsync();\n",
    "\n",
    "Console.WriteLine(Utils.WordWrap(agentMessages[0].Content, 80));"
   ]
  },
  {
   "cell_type": "markdown",
   "metadata": {},
   "source": [
    "# 1️⃣ 🥊 2️⃣ Let's establish a debate"
   ]
  },
  {
   "cell_type": "markdown",
   "metadata": {},
   "source": [
    "### Request to the two agents: _\"Give one simple justification for which slide presentation is better. Engage in a healthy debate of opinions and feel free to disagree. Don't go long with your argument and keep it short please.\"_"
   ]
  },
  {
   "cell_type": "code",
   "execution_count": null,
   "metadata": {
    "dotnet_interactive": {
     "language": "csharp"
    },
    "polyglot_notebook": {
     "kernelName": "csharp"
    },
    "vscode": {
     "languageId": "polyglot-notebook"
    }
   },
   "outputs": [],
   "source": [
    "#pragma warning disable SKEXP0101\n",
    "\n",
    "await thread.AddUserMessageAsync($\"Give one simple justification for which slide presentation is better. Engage in a healthy debate of opinions and feel free to disagree. Don't go long with your argument and keep it short please.\");"
   ]
  },
  {
   "cell_type": "code",
   "execution_count": null,
   "metadata": {
    "dotnet_interactive": {
     "language": "csharp"
    },
    "polyglot_notebook": {
     "kernelName": "csharp"
    },
    "vscode": {
     "languageId": "polyglot-notebook"
    }
   },
   "outputs": [],
   "source": [
    "#pragma warning disable SKEXP0101\n",
    "\n",
    "for( var i = 0; i < 3; i++)\n",
    "{\n",
    "    Console.WriteLine($\"=========\\nRound {i + 1} 🔔:=========\\n\");\n",
    "    foreach(IAgent a in agents)\n",
    "    {\n",
    "        Console.WriteLine($\"🕵️ Agent `{a.Name}`:\");\n",
    "        var agentMessages = await thread.InvokeAsync(a).ToArrayAsync();\n",
    "        Console.WriteLine(Utils.WordWrap(agentMessages[0].Content, 80));\n",
    "    }\n",
    "}"
   ]
  },
  {
   "cell_type": "markdown",
   "metadata": {},
   "source": [
    "## 🧽 Clean up the agents you've created"
   ]
  },
  {
   "cell_type": "code",
   "execution_count": null,
   "metadata": {
    "dotnet_interactive": {
     "language": "csharp"
    },
    "polyglot_notebook": {
     "kernelName": "csharp"
    },
    "vscode": {
     "languageId": "polyglot-notebook"
    }
   },
   "outputs": [],
   "source": [
    "#pragma warning disable SKEXP0101\n",
    "\n",
    "Console.WriteLine(\"🧽 Cleaning up ...\");\n",
    "if (thread != null)\n",
    "{\n",
    "    Console.WriteLine(\"Thread going away ...\");\n",
    "    thread.DeleteAsync();\n",
    "    thread = null;\n",
    "}\n",
    "\n",
    "if (s_agents.Any())\n",
    "{\n",
    "    Console.WriteLine(\"Agents going away ...\");\n",
    "    await Task.WhenAll(s_agents.Select(a => a.DeleteAsync()));\n",
    "    s_agents.Clear();\n",
    "}"
   ]
  }
 ],
 "metadata": {
  "language_info": {
   "name": "python"
  }
 },
 "nbformat": 4,
 "nbformat_minor": 2
}
