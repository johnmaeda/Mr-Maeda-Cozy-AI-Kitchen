{
 "cells": [
  {
   "cell_type": "markdown",
   "metadata": {},
   "source": [
    "# Nancy Duarte: CEO of Duarte, Inc. and author of _slide:ology (2008), Resonate (2010), the HBR Guide to Persuasive Presentations (2012),_ and _Illuminate (2016)_\n",
    "\n",
    "### \"All the attention is on us. But in reality, the audience is **the one.** If they don’t leave with your idea adopted, your idea is going to die.\" —via [Stanford GSB Talk Smart: The Podcast](https://www.gsb.stanford.edu/insights/its-not-about-you-why-effective-communicators-put-others-first)\n",
    "\n",
    "### With Nancy, we create a couple of audience agents to respond to presentation content created with her [famous methodology](https://hbr.org/2012/10/structure-your-presentation-li) as featured in Harvard Business Review in 2012."
   ]
  },
  {
   "cell_type": "markdown",
   "metadata": {},
   "source": [
    "---\n",
    "\n",
    "# Version 🥱: Company Update Presentation\n",
    "\n",
    "## Slide 1: Title Slide\n",
    "- **Title**: \"Company Update\"\n",
    "- **Description**: A generic and vague title with no clear agenda or introduction.\n",
    "\n",
    "## Slide 2: Financial Overview\n",
    "- **Title**: \"Financial Overview\"\n",
    "- **Content**: \n",
    "  - Dense array of complex charts and graphs.\n",
    "  - No narrative or explanation provided.\n",
    "  - Difficult to interpret without guidance.\n",
    "\n",
    "## Slide 3: Challenges\n",
    "- **Title**: \"Challenges\"\n",
    "- **Content**:\n",
    "  - List of problems including 'Understaffing', 'Low Morale', 'Budget Cuts'.\n",
    "  - No solutions or context offered.\n",
    "  - Presents issues without addressing them.\n",
    "\n",
    "## Slide 4: Strategic Initiatives\n",
    "- **Title**: \"Strategic Initiatives\"\n",
    "- **Content**:\n",
    "  - Jargon-filled text, overly technical.\n",
    "  - Difficult for a general audience to understand.\n",
    "  - Lacks clarity and simplicity.\n",
    "\n",
    "## Slide 5: Closing Slide\n",
    "- **Title**: \"Thank You\"\n",
    "- **Content**:\n",
    "  - Generic 'Thank You' message.\n",
    "  - Lacks a clear call to action or inspiring ending.\n",
    "  - Ends abruptly without motivating or guiding the audience.\n"
   ]
  },
  {
   "cell_type": "markdown",
   "metadata": {},
   "source": [
    "---\n",
    "\n",
    "# Version 😎: Company Transformation Presentation\n",
    "\n",
    "## Slide 1: Introduction\n",
    "- **Title**: \"Embracing Change for a Brighter Future\"\n",
    "- **Description**: \n",
    "  - Introduce the current state of the company.\n",
    "  - Engage audience with a relatable scenario.\n",
    "  - Establish a bond by articulating shared experiences and challenges.\n",
    "\n",
    "## Slide 2: The Vision\n",
    "- **Title**: \"Our Potential: What Could Be\"\n",
    "- **Content**: \n",
    "  - Present a compelling vision of the future.\n",
    "  - Contrast current challenges with potential achievements.\n",
    "  - Example: \n",
    "    - Current: \"Q3 challenges due to understaffing.\"\n",
    "    - Vision: \"Q4 success with strategic hiring and focused goals.\"\n",
    "\n",
    "## Slide 3: Bridging the Gap\n",
    "- **Title**: \"Turning Challenges into Opportunities\"\n",
    "- **Content**:\n",
    "  - Discuss specific strategies to overcome current challenges.\n",
    "  - Move back and forth between 'what is' and 'what could be'.\n",
    "  - Example:\n",
    "    - What is: \"Missed targets in Q3.\"\n",
    "    - What could be: \"Innovative solutions for Q4 growth.\"\n",
    "\n",
    "## Slide 4: The Action Plan\n",
    "- **Title**: \"Our Roadmap to Success\"\n",
    "- **Content**:\n",
    "  - Outline clear, actionable steps.\n",
    "  - Motivate with achievable goals and milestones.\n",
    "  - Example:\n",
    "    - Action: \"Implement new client engagement strategies.\"\n",
    "    - Goal: \"Increase revenue and client satisfaction.\"\n",
    "\n",
    "## Slide 5: Inspiring Conclusion\n",
    "- **Title**: \"Together Towards Triumph\"\n",
    "- **Content**:\n",
    "  - End with a powerful and inspiring call to action.\n",
    "  - Paint a picture of the 'new bliss' – the improved future state.\n",
    "  - Example:\n",
    "    - Call to Action: \"Unified effort for exceptional Q4 results.\"\n",
    "    - New Bliss: \"Achieving our targets leads to bonuses and recognition.\"\n"
   ]
  },
  {
   "cell_type": "code",
   "execution_count": null,
   "metadata": {
    "dotnet_interactive": {
     "language": "csharp"
    },
    "polyglot_notebook": {
     "kernelName": "csharp"
    },
    "vscode": {
     "languageId": "polyglot-notebook"
    }
   },
   "outputs": [],
   "source": [
    "const string slidesV1 = \"\"\"\n",
    "# Company Presentation\n",
    "\n",
    "## Slide 1: Company Presentation\n",
    "- **Title**: \"Company Update\"\n",
    "- **Description**: A generic and vague title with no clear agenda or introduction.\n",
    "\n",
    "## Slide 2: Financial Overview\n",
    "- **Title**: \"Financial Overview\"\n",
    "- **Content**: \n",
    "  - Dense array of complex charts and graphs.\n",
    "  - No narrative or explanation provided.\n",
    "  - Difficult to interpret without guidance.\n",
    "\n",
    "## Slide 3: Challenges\n",
    "- **Title**: \"Challenges\"\n",
    "- **Content**:\n",
    "  - List of problems including 'Understaffing', 'Low Morale', 'Budget Cuts'.\n",
    "  - No solutions or context offered.\n",
    "  - Presents issues without addressing them.\n",
    "\n",
    "## Slide 4: Strategic Initiatives\n",
    "- **Title**: \"Strategic Initiatives\"\n",
    "- **Content**:\n",
    "  - Jargon-filled text, overly technical.\n",
    "  - Difficult for a general audience to understand.\n",
    "  - Lacks clarity and simplicity.\n",
    "\n",
    "## Slide 5: Closing Slide\n",
    "- **Title**: \"Thank You\"\n",
    "- **Content**:\n",
    "  - Generic 'Thank You' message.\n",
    "  - Lacks a clear call to action or inspiring ending.\n",
    "  - Ends abruptly without motivating or guiding the audience.\n",
    "\"\"\";\n",
    "\n",
    "const string slidesV2 = \"\"\"\n",
    "# Company Presentation\n",
    "\n",
    "## Slide 1: Introduction\n",
    "- **Title**: \"Embracing Change for a Brighter Future\"\n",
    "- **Description**: \n",
    "  - Introduce the current state of the company.\n",
    "  - Engage audience with a relatable scenario.\n",
    "  - Establish a bond by articulating shared experiences and challenges.\n",
    "\n",
    "## Slide 2: The Vision\n",
    "- **Title**: \"Our Potential: What Could Be\"\n",
    "- **Content**: \n",
    "  - Present a compelling vision of the future.\n",
    "  - Contrast current challenges with potential achievements.\n",
    "  - Example: \n",
    "    - Current: \"Q3 challenges due to understaffing.\"\n",
    "    - Vision: \"Q4 success with strategic hiring and focused goals.\"\n",
    "\n",
    "## Slide 3: Bridging the Gap\n",
    "- **Title**: \"Turning Challenges into Opportunities\"\n",
    "- **Content**:\n",
    "  - Discuss specific strategies to overcome current challenges.\n",
    "  - Move back and forth between 'what is' and 'what could be'.\n",
    "  - Example:\n",
    "    - What is: \"Missed targets in Q3.\"\n",
    "    - What could be: \"Innovative solutions for Q4 growth.\"\n",
    "\n",
    "## Slide 4: The Action Plan\n",
    "- **Title**: \"Our Roadmap to Success\"\n",
    "- **Content**:\n",
    "  - Outline clear, actionable steps.\n",
    "  - Motivate with achievable goals and milestones.\n",
    "  - Example:\n",
    "    - Action: \"Implement new client engagement strategies.\"\n",
    "    - Goal: \"Increase revenue and client satisfaction.\"\n",
    "\n",
    "## Slide 5: Inspiring Conclusion\n",
    "- **Title**: \"Together Towards Triumph\"\n",
    "- **Content**:\n",
    "  - End with a powerful and inspiring call to action.\n",
    "  - Paint a picture of the 'new bliss' – the improved future state.\n",
    "  - Example:\n",
    "    - Call to Action: \"Unified effort for exceptional Q4 results.\"\n",
    "    - New Bliss: \"Achieving our targets leads to bonuses and recognition.\"\n",
    "\"\"\";"
   ]
  },
  {
   "cell_type": "markdown",
   "metadata": {},
   "source": [
    "# 🕵️ Let's make a couple of AI agents to weigh in on this presentation"
   ]
  },
  {
   "cell_type": "markdown",
   "metadata": {},
   "source": [
    "## 🔥 We fire up Semantic Kernel's Experimental Agents ..."
   ]
  },
  {
   "cell_type": "code",
   "execution_count": 10,
   "metadata": {
    "dotnet_interactive": {
     "language": "csharp"
    },
    "polyglot_notebook": {
     "kernelName": "csharp"
    },
    "vscode": {
     "languageId": "polyglot-notebook"
    }
   },
   "outputs": [
    {
     "data": {
      "text/html": [
       "<div><div></div><div></div><div><strong>Installed Packages</strong><ul><li><span>Microsoft.SemanticKernel, 1.1.0</span></li><li><span>Microsoft.SemanticKernel.Experimental.Agents, 1.1.0-alpha</span></li><li><span>YamlDotNet, 13.7.1</span></li></ul></div></div>"
      ]
     },
     "metadata": {},
     "output_type": "display_data"
    }
   ],
   "source": [
    "#!import ../config/Settings.cs \n",
    "#!import ../config/Utils.cs\n",
    "\n",
    "#r \"nuget: Microsoft.SemanticKernel, 1.1.0\"\n",
    "#r \"nuget: Microsoft.SemanticKernel.Experimental.Agents, 1.1.0-alpha\"\n",
    "#r \"nuget: YamlDotNet, 13.7.1\"\n",
    "\n",
    "using System;\n",
    "using System.Collections.Generic;\n",
    "using System.Linq;\n",
    "using System.Threading.Tasks;\n",
    "using Microsoft.SemanticKernel.Experimental.Agents;\n",
    "\n",
    "var (useAzureOpenAI, model, azureEndpoint, apiKey, orgId) = Settings.LoadFromFile();\n",
    "\n",
    "const string OpenAIFunctionEnabledModel = \"gpt-4-1106-preview\";"
   ]
  },
  {
   "cell_type": "markdown",
   "metadata": {},
   "source": [
    "## 📖 We load up agent definitions in a .yaml format"
   ]
  },
  {
   "cell_type": "code",
   "execution_count": 11,
   "metadata": {
    "dotnet_interactive": {
     "language": "csharp"
    },
    "polyglot_notebook": {
     "kernelName": "csharp"
    },
    "vscode": {
     "languageId": "polyglot-notebook"
    }
   },
   "outputs": [
    {
     "name": "stdout",
     "output_type": "stream",
     "text": [
      "Agent: ConcernedEmployee\n",
      "Agent: SuccessfulMidlevelManager\n"
     ]
    },
    {
     "data": {
      "text/html": [
       "<table><thead><tr><th><i>index</i></th><th>value</th></tr></thead><tbody><tr><td>0</td><td><details class=\"dni-treeview\"><summary><span class=\"dni-code-hint\"><code>(Concerned Employee, You are an employee who is concerned about the direction of the company, and as a result you&#39;re an extreme skeptic when it comes to messages coming from leadership.\\n)</code></span></summary><div><table><thead><tr></tr></thead><tbody><tr><td>Item1</td><td><div class=\"dni-plaintext\"><pre>Concerned Employee</pre></div></td></tr><tr><td>Item2</td><td><div class=\"dni-plaintext\"><pre>You are an employee who is concerned about the direction of the company, and as a result you&#39;re an extreme skeptic when it comes to messages coming from leadership.\n",
       "</pre></div></td></tr></tbody></table></div></details></td></tr><tr><td>1</td><td><details class=\"dni-treeview\"><summary><span class=\"dni-code-hint\"><code>(Successful Midlevel Manager, You are mid-level manager on the sales team who has had the best year of their career. You are optimistic and believe that leadership is doing a great job, and you&#39;re completely on board with anything they do.\\n)</code></span></summary><div><table><thead><tr></tr></thead><tbody><tr><td>Item1</td><td><div class=\"dni-plaintext\"><pre>Successful Midlevel Manager</pre></div></td></tr><tr><td>Item2</td><td><div class=\"dni-plaintext\"><pre>You are mid-level manager on the sales team who has had the best year of their career. You are optimistic and believe that leadership is doing a great job, and you&#39;re completely on board with anything they do.\n",
       "</pre></div></td></tr></tbody></table></div></details></td></tr></tbody></table><style>\r\n",
       ".dni-code-hint {\r\n",
       "    font-style: italic;\r\n",
       "    overflow: hidden;\r\n",
       "    white-space: nowrap;\r\n",
       "}\r\n",
       ".dni-treeview {\r\n",
       "    white-space: nowrap;\r\n",
       "}\r\n",
       ".dni-treeview td {\r\n",
       "    vertical-align: top;\r\n",
       "    text-align: start;\r\n",
       "}\r\n",
       "details.dni-treeview {\r\n",
       "    padding-left: 1em;\r\n",
       "}\r\n",
       "table td {\r\n",
       "    text-align: start;\r\n",
       "}\r\n",
       "table tr { \r\n",
       "    vertical-align: top; \r\n",
       "    margin: 0em 0px;\r\n",
       "}\r\n",
       "table tr td pre \r\n",
       "{ \r\n",
       "    vertical-align: top !important; \r\n",
       "    margin: 0em 0px !important;\r\n",
       "} \r\n",
       "table th {\r\n",
       "    text-align: start;\r\n",
       "}\r\n",
       "</style>"
      ]
     },
     "metadata": {},
     "output_type": "display_data"
    }
   ],
   "source": [
    "using System.IO;\n",
    "using YamlDotNet.Serialization;\n",
    "using YamlDotNet.Serialization.NamingConventions;\n",
    "\n",
    "public class Agenty\n",
    "{\n",
    "    public string Name { get; set; }\n",
    "    public string Instructions { get; set; }\n",
    "    public string Description { get; set; }\n",
    "}\n",
    "\n",
    "List<string> agentNames = [\"ConcernedEmployee\", \"SuccessfulMidlevelManager\"];\n",
    "string team = \"\";\n",
    "int i = 1;\n",
    "List<(string Name, string Instructions)> agentInfo = new();\n",
    "\n",
    "foreach(var a in agentNames)\n",
    "{\n",
    "    var yaml = File.ReadAllText($\"../agents/{a}.yaml\");\n",
    "    var deserializer = new DeserializerBuilder()\n",
    "        .WithNamingConvention(CamelCaseNamingConvention.Instance) // Use camel case naming convention\n",
    "        .Build();\n",
    "\n",
    "    var p = deserializer.Deserialize<Agenty>(yaml);\n",
    "    Console.WriteLine($\"Agent: {a}\");\n",
    "    team += $\"{i}) {p.Name}: {p.Description}, \";\n",
    "    i++;\n",
    "    agentInfo.Add((p.Name, p.Instructions));\n",
    "}\n",
    "\n",
    "agentInfo"
   ]
  },
  {
   "cell_type": "markdown",
   "metadata": {},
   "source": [
    "## 🐤 We're ready to hatch these AI agents"
   ]
  },
  {
   "cell_type": "code",
   "execution_count": 12,
   "metadata": {
    "dotnet_interactive": {
     "language": "csharp"
    },
    "polyglot_notebook": {
     "kernelName": "csharp"
    },
    "vscode": {
     "languageId": "polyglot-notebook"
    }
   },
   "outputs": [
    {
     "data": {
      "text/html": [
       "<table><thead><tr><th><i>index</i></th><th>value</th></tr></thead><tbody><tr><td>0</td><td><details class=\"dni-treeview\"><summary><span class=\"dni-code-hint\"><code>Microsoft.SemanticKernel.Experimental.Agents.Internal.Agent</code></span></summary><div><table><thead><tr></tr></thead><tbody><tr><td>Id</td><td><div class=\"dni-plaintext\"><pre>asst_RmeiWYz1DnCYSzBcJWPsThEJ</pre></div></td></tr><tr><td>Kernel</td><td><details class=\"dni-treeview\"><summary><span class=\"dni-code-hint\"><code>Microsoft.SemanticKernel.Kernel</code></span></summary><div><table><thead><tr></tr></thead><tbody><tr><td>Plugins</td><td><details class=\"dni-treeview\"><summary><span class=\"dni-code-hint\"><code>[  ]</code></span></summary><div><table><thead><tr></tr></thead><tbody><tr><td>Count</td><td><div class=\"dni-plaintext\"><pre>0</pre></div></td></tr><tr><td><i>(values)</i></td><td><i>(empty)</i></td></tr></tbody></table></div></details></td></tr><tr><td>Services</td><td><details class=\"dni-treeview\"><summary><span class=\"dni-code-hint\"><code>Microsoft.Extensions.DependencyInjection.ServiceProvider</code></span></summary><div><table><thead><tr></tr></thead><tbody></tbody></table></div></details></td></tr><tr><td>Culture</td><td><details class=\"dni-treeview\"><summary><span class=\"dni-code-hint\"><code></code></span></summary><div><table><thead><tr></tr></thead><tbody><tr><td>Parent</td><td><details class=\"dni-treeview\"><summary><span class=\"dni-code-hint\"><code></code></span></summary><div><table><thead><tr></tr></thead><tbody><tr><td>Parent</td><td><details class=\"dni-treeview\"><summary><span class=\"dni-code-hint\"><code></code></span></summary><div><table><thead><tr></tr></thead><tbody><tr><td>Parent</td><td></td></tr><tr><td>LCID</td><td>127</td></tr><tr><td>KeyboardLayoutId</td><td>127</td></tr><tr><td>Name</td><td></td></tr><tr><td>IetfLanguageTag</td><td></td></tr><tr><td>DisplayName</td><td>Invariant Language (Invariant Country)</td></tr><tr><td>NativeName</td><td>Invariant Language (Invariant Country)</td></tr><tr><td>EnglishName</td><td>Invariant Language (Invariant Country)</td></tr><tr><td>TwoLetterISOLanguageName</td><td>iv</td></tr><tr><td>ThreeLetterISOLanguageName</td><td>ivl</td></tr><tr><td>ThreeLetterWindowsLanguageName</td><td>IVL</td></tr><tr><td>CompareInfo</td><td>CompareInfo - </td></tr><tr><td>TextInfo</td><td>TextInfo - </td></tr><tr><td>IsNeutralCulture</td><td>False</td></tr><tr><td>CultureTypes</td><td>SpecificCultures</td></tr><tr><td>NumberFormat</td><td>System.Globalization.NumberFormatInfo</td></tr><tr><td>DateTimeFormat</td><td>System.Globalization.DateTimeFormatInfo</td></tr><tr><td>Calendar</td><td>System.Globalization.GregorianCalendar</td></tr><tr><td>OptionalCalendars</td><td>[ System.Globalization.GregorianCalendar ]</td></tr><tr><td>UseUserOverride</td><td>False</td></tr><tr><td>IsReadOnly</td><td>True</td></tr></tbody></table></div></details></td></tr><tr><td>LCID</td><td><div class=\"dni-plaintext\"><pre>127</pre></div></td></tr><tr><td>KeyboardLayoutId</td><td><div class=\"dni-plaintext\"><pre>127</pre></div></td></tr><tr><td>Name</td><td><div class=\"dni-plaintext\"><pre></pre></div></td></tr><tr><td>IetfLanguageTag</td><td><div class=\"dni-plaintext\"><pre></pre></div></td></tr><tr><td>DisplayName</td><td><div class=\"dni-plaintext\"><pre>Invariant Language (Invariant Country)</pre></div></td></tr><tr><td>NativeName</td><td><div class=\"dni-plaintext\"><pre>Invariant Language (Invariant Country)</pre></div></td></tr><tr><td>EnglishName</td><td><div class=\"dni-plaintext\"><pre>Invariant Language (Invariant Country)</pre></div></td></tr><tr><td>TwoLetterISOLanguageName</td><td><div class=\"dni-plaintext\"><pre>iv</pre></div></td></tr><tr><td>ThreeLetterISOLanguageName</td><td><div class=\"dni-plaintext\"><pre>ivl</pre></div></td></tr><tr><td>ThreeLetterWindowsLanguageName</td><td><div class=\"dni-plaintext\"><pre>IVL</pre></div></td></tr><tr><td>CompareInfo</td><td><details class=\"dni-treeview\"><summary><span class=\"dni-code-hint\"><code>CompareInfo -</code></span></summary><div><table><thead><tr></tr></thead><tbody><tr><td>Name</td><td></td></tr><tr><td>Version</td><td>System.Globalization.SortVersion</td></tr><tr><td>LCID</td><td>127</td></tr></tbody></table></div></details></td></tr><tr><td>TextInfo</td><td><details class=\"dni-treeview\"><summary><span class=\"dni-code-hint\"><code>TextInfo -</code></span></summary><div><table><thead><tr></tr></thead><tbody><tr><td>ANSICodePage</td><td>1252</td></tr><tr><td>OEMCodePage</td><td>437</td></tr><tr><td>MacCodePage</td><td>10000</td></tr><tr><td>EBCDICCodePage</td><td>37</td></tr><tr><td>LCID</td><td>127</td></tr><tr><td>CultureName</td><td></td></tr><tr><td>IsReadOnly</td><td>True</td></tr><tr><td>ListSeparator</td><td>,</td></tr><tr><td>IsRightToLeft</td><td>False</td></tr></tbody></table></div></details></td></tr><tr><td>IsNeutralCulture</td><td><div class=\"dni-plaintext\"><pre>False</pre></div></td></tr><tr><td>CultureTypes</td><td><span>SpecificCultures</span></td></tr><tr><td>NumberFormat</td><td><details class=\"dni-treeview\"><summary><span class=\"dni-code-hint\"><code>System.Globalization.NumberFormatInfo</code></span></summary><div><table><thead><tr></tr></thead><tbody><tr><td>CurrencyDecimalDigits</td><td>2</td></tr><tr><td>CurrencyDecimalSeparator</td><td>.</td></tr><tr><td>IsReadOnly</td><td>True</td></tr><tr><td>CurrencyGroupSizes</td><td>[ 3 ]</td></tr><tr><td>NumberGroupSizes</td><td>[ 3 ]</td></tr><tr><td>PercentGroupSizes</td><td>[ 3 ]</td></tr><tr><td>CurrencyGroupSeparator</td><td>,</td></tr><tr><td>CurrencySymbol</td><td>¤</td></tr><tr><td>NaNSymbol</td><td>NaN</td></tr><tr><td>CurrencyNegativePattern</td><td>0</td></tr><tr><td>NumberNegativePattern</td><td>1</td></tr><tr><td>PercentPositivePattern</td><td>0</td></tr><tr><td>PercentNegativePattern</td><td>0</td></tr><tr><td>NegativeInfinitySymbol</td><td>-Infinity</td></tr><tr><td>NegativeSign</td><td>-</td></tr><tr><td>NumberDecimalDigits</td><td>2</td></tr><tr><td>NumberDecimalSeparator</td><td>.</td></tr><tr><td>NumberGroupSeparator</td><td>,</td></tr><tr><td>CurrencyPositivePattern</td><td>0</td></tr><tr><td>PositiveInfinitySymbol</td><td>Infinity</td></tr><tr><td>PositiveSign</td><td>+</td></tr><tr><td>PercentDecimalDigits</td><td>2</td></tr><tr><td>PercentDecimalSeparator</td><td>.</td></tr><tr><td>PercentGroupSeparator</td><td>,</td></tr><tr><td>PercentSymbol</td><td>%</td></tr><tr><td>PerMilleSymbol</td><td>‰</td></tr><tr><td>NativeDigits</td><td>[ 0, 1, 2, 3, 4, 5, 6, 7, 8, 9 ]</td></tr><tr><td>DigitSubstitution</td><td>None</td></tr></tbody></table></div></details></td></tr><tr><td>DateTimeFormat</td><td><details class=\"dni-treeview\"><summary><span class=\"dni-code-hint\"><code>System.Globalization.DateTimeFormatInfo</code></span></summary><div><table><thead><tr></tr></thead><tbody><tr><td>AMDesignator</td><td>AM</td></tr><tr><td>Calendar</td><td>System.Globalization.GregorianCalendar</td></tr><tr><td>DateSeparator</td><td>/</td></tr><tr><td>FirstDayOfWeek</td><td>Sunday</td></tr><tr><td>CalendarWeekRule</td><td>FirstDay</td></tr><tr><td>FullDateTimePattern</td><td>dddd, dd MMMM yyyy HH:mm:ss</td></tr><tr><td>LongDatePattern</td><td>dddd, dd MMMM yyyy</td></tr><tr><td>LongTimePattern</td><td>HH:mm:ss</td></tr><tr><td>MonthDayPattern</td><td>MMMM dd</td></tr><tr><td>PMDesignator</td><td>PM</td></tr><tr><td>RFC1123Pattern</td><td>ddd, dd MMM yyyy HH':'mm':'ss 'GMT'</td></tr><tr><td>ShortDatePattern</td><td>MM/dd/yyyy</td></tr><tr><td>ShortTimePattern</td><td>HH:mm</td></tr><tr><td>SortableDateTimePattern</td><td>yyyy'-'MM'-'dd'T'HH':'mm':'ss</td></tr><tr><td>TimeSeparator</td><td>:</td></tr><tr><td>UniversalSortableDateTimePattern</td><td>yyyy'-'MM'-'dd HH':'mm':'ss'Z'</td></tr><tr><td>YearMonthPattern</td><td>yyyy MMMM</td></tr><tr><td>AbbreviatedDayNames</td><td>[ Sun, Mon, Tue, Wed, Thu, Fri, Sat ]</td></tr><tr><td>ShortestDayNames</td><td>[ Su, Mo, Tu, We, Th, Fr, Sa ]</td></tr><tr><td>DayNames</td><td>[ Sunday, Monday, Tuesday, Wednesday, Thursday, Friday, Saturday ]</td></tr><tr><td>AbbreviatedMonthNames</td><td>[ Jan, Feb, Mar, Apr, May, Jun, Jul, Aug, Sep, Oct, Nov, Dec,  ]</td></tr><tr><td>MonthNames</td><td>[ January, February, March, April, May, June, July, August, September, October, November, December,  ]</td></tr><tr><td>IsReadOnly</td><td>True</td></tr><tr><td>NativeCalendarName</td><td>Gregorian Calendar</td></tr><tr><td>AbbreviatedMonthGenitiveNames</td><td>[ Jan, Feb, Mar, Apr, May, Jun, Jul, Aug, Sep, Oct, Nov, Dec,  ]</td></tr><tr><td>MonthGenitiveNames</td><td>[ January, February, March, April, May, June, July, August, September, October, November, December,  ]</td></tr></tbody></table></div></details></td></tr><tr><td>Calendar</td><td><details class=\"dni-treeview\"><summary><span class=\"dni-code-hint\"><code>System.Globalization.GregorianCalendar</code></span></summary><div><table><thead><tr></tr></thead><tbody><tr><td>MinSupportedDateTime</td><td>1/1/0001 12:00:00 AM</td></tr><tr><td>MaxSupportedDateTime</td><td>12/31/9999 11:59:59 PM</td></tr><tr><td>AlgorithmType</td><td>SolarCalendar</td></tr><tr><td>CalendarType</td><td>Localized</td></tr><tr><td>Eras</td><td>[ 1 ]</td></tr><tr><td>TwoDigitYearMax</td><td>2049</td></tr><tr><td>IsReadOnly</td><td>True</td></tr></tbody></table></div></details></td></tr><tr><td>OptionalCalendars</td><td><table><thead><tr><th><i>index</i></th><th>value</th></tr></thead><tbody><tr><td>0</td><td>System.Globalization.GregorianCalendar</td></tr></tbody></table></td></tr><tr><td>UseUserOverride</td><td><div class=\"dni-plaintext\"><pre>False</pre></div></td></tr><tr><td>IsReadOnly</td><td><div class=\"dni-plaintext\"><pre>True</pre></div></td></tr></tbody></table></div></details></td></tr><tr><td>LCID</td><td><div class=\"dni-plaintext\"><pre>127</pre></div></td></tr><tr><td>KeyboardLayoutId</td><td><div class=\"dni-plaintext\"><pre>127</pre></div></td></tr><tr><td>Name</td><td><div class=\"dni-plaintext\"><pre></pre></div></td></tr><tr><td>IetfLanguageTag</td><td><div class=\"dni-plaintext\"><pre></pre></div></td></tr><tr><td>DisplayName</td><td><div class=\"dni-plaintext\"><pre>Invariant Language (Invariant Country)</pre></div></td></tr><tr><td>NativeName</td><td><div class=\"dni-plaintext\"><pre>Invariant Language (Invariant Country)</pre></div></td></tr><tr><td>EnglishName</td><td><div class=\"dni-plaintext\"><pre>Invariant Language (Invariant Country)</pre></div></td></tr><tr><td>TwoLetterISOLanguageName</td><td><div class=\"dni-plaintext\"><pre>iv</pre></div></td></tr><tr><td>ThreeLetterISOLanguageName</td><td><div class=\"dni-plaintext\"><pre>ivl</pre></div></td></tr><tr><td>ThreeLetterWindowsLanguageName</td><td><div class=\"dni-plaintext\"><pre>IVL</pre></div></td></tr><tr><td>CompareInfo</td><td><details class=\"dni-treeview\"><summary><span class=\"dni-code-hint\"><code>CompareInfo -</code></span></summary><div><table><thead><tr></tr></thead><tbody><tr><td>Name</td><td><div class=\"dni-plaintext\"><pre></pre></div></td></tr><tr><td>Version</td><td><details class=\"dni-treeview\"><summary><span class=\"dni-code-hint\"><code>System.Globalization.SortVersion</code></span></summary><div><table><thead><tr></tr></thead><tbody><tr><td>FullVersion</td><td>4225177</td></tr><tr><td>SortId</td><td>00407899-0000-0000-0000-00000000007f</td></tr></tbody></table></div></details></td></tr><tr><td>LCID</td><td><div class=\"dni-plaintext\"><pre>127</pre></div></td></tr></tbody></table></div></details></td></tr><tr><td>TextInfo</td><td><details class=\"dni-treeview\"><summary><span class=\"dni-code-hint\"><code>TextInfo -</code></span></summary><div><table><thead><tr></tr></thead><tbody><tr><td>ANSICodePage</td><td><div class=\"dni-plaintext\"><pre>1252</pre></div></td></tr><tr><td>OEMCodePage</td><td><div class=\"dni-plaintext\"><pre>437</pre></div></td></tr><tr><td>MacCodePage</td><td><div class=\"dni-plaintext\"><pre>10000</pre></div></td></tr><tr><td>EBCDICCodePage</td><td><div class=\"dni-plaintext\"><pre>37</pre></div></td></tr><tr><td>LCID</td><td><div class=\"dni-plaintext\"><pre>127</pre></div></td></tr><tr><td>CultureName</td><td><div class=\"dni-plaintext\"><pre></pre></div></td></tr><tr><td>IsReadOnly</td><td><div class=\"dni-plaintext\"><pre>True</pre></div></td></tr><tr><td>ListSeparator</td><td><div class=\"dni-plaintext\"><pre>,</pre></div></td></tr><tr><td>IsRightToLeft</td><td><div class=\"dni-plaintext\"><pre>False</pre></div></td></tr></tbody></table></div></details></td></tr><tr><td>IsNeutralCulture</td><td><div class=\"dni-plaintext\"><pre>False</pre></div></td></tr><tr><td>CultureTypes</td><td><span>SpecificCultures</span></td></tr><tr><td>NumberFormat</td><td><details class=\"dni-treeview\"><summary><span class=\"dni-code-hint\"><code>System.Globalization.NumberFormatInfo</code></span></summary><div><table><thead><tr></tr></thead><tbody><tr><td>CurrencyDecimalDigits</td><td><div class=\"dni-plaintext\"><pre>2</pre></div></td></tr><tr><td>CurrencyDecimalSeparator</td><td><div class=\"dni-plaintext\"><pre>.</pre></div></td></tr><tr><td>IsReadOnly</td><td><div class=\"dni-plaintext\"><pre>True</pre></div></td></tr><tr><td>CurrencyGroupSizes</td><td><div class=\"dni-plaintext\"><pre>[ 3 ]</pre></div></td></tr><tr><td>NumberGroupSizes</td><td><div class=\"dni-plaintext\"><pre>[ 3 ]</pre></div></td></tr><tr><td>PercentGroupSizes</td><td><div class=\"dni-plaintext\"><pre>[ 3 ]</pre></div></td></tr><tr><td>CurrencyGroupSeparator</td><td><div class=\"dni-plaintext\"><pre>,</pre></div></td></tr><tr><td>CurrencySymbol</td><td><div class=\"dni-plaintext\"><pre>&#164;</pre></div></td></tr><tr><td>NaNSymbol</td><td><div class=\"dni-plaintext\"><pre>NaN</pre></div></td></tr><tr><td>CurrencyNegativePattern</td><td><div class=\"dni-plaintext\"><pre>0</pre></div></td></tr><tr><td>NumberNegativePattern</td><td><div class=\"dni-plaintext\"><pre>1</pre></div></td></tr><tr><td>PercentPositivePattern</td><td><div class=\"dni-plaintext\"><pre>0</pre></div></td></tr><tr><td>PercentNegativePattern</td><td><div class=\"dni-plaintext\"><pre>0</pre></div></td></tr><tr><td>NegativeInfinitySymbol</td><td><div class=\"dni-plaintext\"><pre>-Infinity</pre></div></td></tr><tr><td>NegativeSign</td><td><div class=\"dni-plaintext\"><pre>-</pre></div></td></tr><tr><td>NumberDecimalDigits</td><td><div class=\"dni-plaintext\"><pre>2</pre></div></td></tr><tr><td>NumberDecimalSeparator</td><td><div class=\"dni-plaintext\"><pre>.</pre></div></td></tr><tr><td>NumberGroupSeparator</td><td><div class=\"dni-plaintext\"><pre>,</pre></div></td></tr><tr><td>CurrencyPositivePattern</td><td><div class=\"dni-plaintext\"><pre>0</pre></div></td></tr><tr><td>PositiveInfinitySymbol</td><td><div class=\"dni-plaintext\"><pre>Infinity</pre></div></td></tr><tr><td>PositiveSign</td><td><div class=\"dni-plaintext\"><pre>+</pre></div></td></tr><tr><td>PercentDecimalDigits</td><td><div class=\"dni-plaintext\"><pre>2</pre></div></td></tr><tr><td>PercentDecimalSeparator</td><td><div class=\"dni-plaintext\"><pre>.</pre></div></td></tr><tr><td>PercentGroupSeparator</td><td><div class=\"dni-plaintext\"><pre>,</pre></div></td></tr><tr><td>PercentSymbol</td><td><div class=\"dni-plaintext\"><pre>%</pre></div></td></tr><tr><td>PerMilleSymbol</td><td><div class=\"dni-plaintext\"><pre>‰</pre></div></td></tr><tr><td>NativeDigits</td><td><div class=\"dni-plaintext\"><pre>[ 0, 1, 2, 3, 4, 5, 6, 7, 8, 9 ]</pre></div></td></tr><tr><td>DigitSubstitution</td><td><span>None</span></td></tr></tbody></table></div></details></td></tr><tr><td>DateTimeFormat</td><td><details class=\"dni-treeview\"><summary><span class=\"dni-code-hint\"><code>System.Globalization.DateTimeFormatInfo</code></span></summary><div><table><thead><tr></tr></thead><tbody><tr><td>AMDesignator</td><td><div class=\"dni-plaintext\"><pre>AM</pre></div></td></tr><tr><td>Calendar</td><td><details class=\"dni-treeview\"><summary><span class=\"dni-code-hint\"><code>System.Globalization.GregorianCalendar</code></span></summary><div><table><thead><tr></tr></thead><tbody><tr><td>MinSupportedDateTime</td><td>1/1/0001 12:00:00 AM</td></tr><tr><td>MaxSupportedDateTime</td><td>12/31/9999 11:59:59 PM</td></tr><tr><td>AlgorithmType</td><td>SolarCalendar</td></tr><tr><td>CalendarType</td><td>Localized</td></tr><tr><td>Eras</td><td>[ 1 ]</td></tr><tr><td>TwoDigitYearMax</td><td>2049</td></tr><tr><td>IsReadOnly</td><td>True</td></tr></tbody></table></div></details></td></tr><tr><td>DateSeparator</td><td><div class=\"dni-plaintext\"><pre>/</pre></div></td></tr><tr><td>FirstDayOfWeek</td><td><span>Sunday</span></td></tr><tr><td>CalendarWeekRule</td><td><span>FirstDay</span></td></tr><tr><td>FullDateTimePattern</td><td><div class=\"dni-plaintext\"><pre>dddd, dd MMMM yyyy HH:mm:ss</pre></div></td></tr><tr><td>LongDatePattern</td><td><div class=\"dni-plaintext\"><pre>dddd, dd MMMM yyyy</pre></div></td></tr><tr><td>LongTimePattern</td><td><div class=\"dni-plaintext\"><pre>HH:mm:ss</pre></div></td></tr><tr><td>MonthDayPattern</td><td><div class=\"dni-plaintext\"><pre>MMMM dd</pre></div></td></tr><tr><td>PMDesignator</td><td><div class=\"dni-plaintext\"><pre>PM</pre></div></td></tr><tr><td>RFC1123Pattern</td><td><div class=\"dni-plaintext\"><pre>ddd, dd MMM yyyy HH&#39;:&#39;mm&#39;:&#39;ss &#39;GMT&#39;</pre></div></td></tr><tr><td>ShortDatePattern</td><td><div class=\"dni-plaintext\"><pre>MM/dd/yyyy</pre></div></td></tr><tr><td>ShortTimePattern</td><td><div class=\"dni-plaintext\"><pre>HH:mm</pre></div></td></tr><tr><td>SortableDateTimePattern</td><td><div class=\"dni-plaintext\"><pre>yyyy&#39;-&#39;MM&#39;-&#39;dd&#39;T&#39;HH&#39;:&#39;mm&#39;:&#39;ss</pre></div></td></tr><tr><td>TimeSeparator</td><td><div class=\"dni-plaintext\"><pre>:</pre></div></td></tr><tr><td>UniversalSortableDateTimePattern</td><td><div class=\"dni-plaintext\"><pre>yyyy&#39;-&#39;MM&#39;-&#39;dd HH&#39;:&#39;mm&#39;:&#39;ss&#39;Z&#39;</pre></div></td></tr><tr><td>YearMonthPattern</td><td><div class=\"dni-plaintext\"><pre>yyyy MMMM</pre></div></td></tr><tr><td>AbbreviatedDayNames</td><td><div class=\"dni-plaintext\"><pre>[ Sun, Mon, Tue, Wed, Thu, Fri, Sat ]</pre></div></td></tr><tr><td>ShortestDayNames</td><td><div class=\"dni-plaintext\"><pre>[ Su, Mo, Tu, We, Th, Fr, Sa ]</pre></div></td></tr><tr><td>DayNames</td><td><div class=\"dni-plaintext\"><pre>[ Sunday, Monday, Tuesday, Wednesday, Thursday, Friday, Saturday ]</pre></div></td></tr><tr><td>AbbreviatedMonthNames</td><td><div class=\"dni-plaintext\"><pre>[ Jan, Feb, Mar, Apr, May, Jun, Jul, Aug, Sep, Oct, Nov, Dec,  ]</pre></div></td></tr><tr><td>MonthNames</td><td><div class=\"dni-plaintext\"><pre>[ January, February, March, April, May, June, July, August, September, October, November, December,  ]</pre></div></td></tr><tr><td>IsReadOnly</td><td><div class=\"dni-plaintext\"><pre>True</pre></div></td></tr><tr><td>NativeCalendarName</td><td><div class=\"dni-plaintext\"><pre>Gregorian Calendar</pre></div></td></tr><tr><td>AbbreviatedMonthGenitiveNames</td><td><div class=\"dni-plaintext\"><pre>[ Jan, Feb, Mar, Apr, May, Jun, Jul, Aug, Sep, Oct, Nov, Dec,  ]</pre></div></td></tr><tr><td>MonthGenitiveNames</td><td><div class=\"dni-plaintext\"><pre>[ January, February, March, April, May, June, July, August, September, October, November, December,  ]</pre></div></td></tr></tbody></table></div></details></td></tr><tr><td>Calendar</td><td><details class=\"dni-treeview\"><summary><span class=\"dni-code-hint\"><code>System.Globalization.GregorianCalendar</code></span></summary><div><table><thead><tr></tr></thead><tbody><tr><td>MinSupportedDateTime</td><td><span>0001-01-01 00:00:00Z</span></td></tr><tr><td>MaxSupportedDateTime</td><td><span>9999-12-31 23:59:59Z</span></td></tr><tr><td>AlgorithmType</td><td><span>SolarCalendar</span></td></tr><tr><td>CalendarType</td><td><span>Localized</span></td></tr><tr><td>Eras</td><td><div class=\"dni-plaintext\"><pre>[ 1 ]</pre></div></td></tr><tr><td>TwoDigitYearMax</td><td><div class=\"dni-plaintext\"><pre>2049</pre></div></td></tr><tr><td>IsReadOnly</td><td><div class=\"dni-plaintext\"><pre>True</pre></div></td></tr></tbody></table></div></details></td></tr><tr><td>OptionalCalendars</td><td><table><thead><tr><th><i>index</i></th><th>value</th></tr></thead><tbody><tr><td>0</td><td><details class=\"dni-treeview\"><summary><span class=\"dni-code-hint\"><code>System.Globalization.GregorianCalendar</code></span></summary><div><table><thead><tr></tr></thead><tbody><tr><td>MinSupportedDateTime</td><td>1/1/0001 12:00:00 AM</td></tr><tr><td>MaxSupportedDateTime</td><td>12/31/9999 11:59:59 PM</td></tr><tr><td>AlgorithmType</td><td>SolarCalendar</td></tr><tr><td>CalendarType</td><td>Localized</td></tr><tr><td>Eras</td><td>[ 1 ]</td></tr><tr><td>TwoDigitYearMax</td><td>2049</td></tr><tr><td>IsReadOnly</td><td>False</td></tr></tbody></table></div></details></td></tr></tbody></table></td></tr><tr><td>UseUserOverride</td><td><div class=\"dni-plaintext\"><pre>False</pre></div></td></tr><tr><td>IsReadOnly</td><td><div class=\"dni-plaintext\"><pre>True</pre></div></td></tr></tbody></table></div></details></td></tr><tr><td>LoggerFactory</td><td><details class=\"dni-treeview\"><summary><span class=\"dni-code-hint\"><code>Microsoft.Extensions.Logging.Abstractions.NullLoggerFactory</code></span></summary><div><table><thead><tr></tr></thead><tbody></tbody></table></div></details></td></tr><tr><td>ServiceSelector</td><td><details class=\"dni-treeview\"><summary><span class=\"dni-code-hint\"><code>Microsoft.SemanticKernel.Services.OrderedAIServiceSelector</code></span></summary><div><table><thead><tr></tr></thead><tbody></tbody></table></div></details></td></tr><tr><td>Data</td><td><i>(empty)</i></td></tr></tbody></table></div></details></td></tr><tr><td>Plugins</td><td><details class=\"dni-treeview\"><summary><span class=\"dni-code-hint\"><code>[  ]</code></span></summary><div><table><thead><tr></tr></thead><tbody><tr><td>Count</td><td><div class=\"dni-plaintext\"><pre>0</pre></div></td></tr><tr><td><i>(values)</i></td><td><i>(empty)</i></td></tr></tbody></table></div></details></td></tr><tr><td>Object</td><td><div class=\"dni-plaintext\"><pre>assistant</pre></div></td></tr><tr><td>Capabilities</td><td><span>None</span></td></tr><tr><td>CreatedAt</td><td><div class=\"dni-plaintext\"><pre>1705686525</pre></div></td></tr><tr><td>Name</td><td><div class=\"dni-plaintext\"><pre>Concerned Employee</pre></div></td></tr><tr><td>Description</td><td><div class=\"dni-plaintext\"><pre>Concerned Employee</pre></div></td></tr><tr><td>Model</td><td><div class=\"dni-plaintext\"><pre>gpt-4-1106-preview</pre></div></td></tr><tr><td>Instructions</td><td><div class=\"dni-plaintext\"><pre>You are an employee who is concerned about the direction of the company, and as a result you&#39;re an extreme skeptic when it comes to messages coming from leadership.\n",
       "</pre></div></td></tr><tr><td>Tools</td><td><i>(empty)</i></td></tr><tr><td>FileIds</td><td><details class=\"dni-treeview\"><summary><span class=\"dni-code-hint\"><code>[  ]</code></span></summary><div><table><thead><tr></tr></thead><tbody><tr><td>Count</td><td><div class=\"dni-plaintext\"><pre>0</pre></div></td></tr><tr><td>Comparer</td><td><details class=\"dni-treeview\"><summary><span class=\"dni-code-hint\"><code>System.OrdinalIgnoreCaseComparer</code></span></summary><div><table><thead><tr></tr></thead><tbody></tbody></table></div></details></td></tr><tr><td><i>(values)</i></td><td><div class=\"dni-plaintext\"><pre>[  ]</pre></div></td></tr></tbody></table></div></details></td></tr></tbody></table></div></details></td></tr><tr><td>1</td><td><details class=\"dni-treeview\"><summary><span class=\"dni-code-hint\"><code>Microsoft.SemanticKernel.Experimental.Agents.Internal.Agent</code></span></summary><div><table><thead><tr></tr></thead><tbody><tr><td>Id</td><td><div class=\"dni-plaintext\"><pre>asst_RDUXPu6XHrpTGQuEMZfpxWam</pre></div></td></tr><tr><td>Kernel</td><td><details class=\"dni-treeview\"><summary><span class=\"dni-code-hint\"><code>Microsoft.SemanticKernel.Kernel</code></span></summary><div><table><thead><tr></tr></thead><tbody><tr><td>Plugins</td><td><details class=\"dni-treeview\"><summary><span class=\"dni-code-hint\"><code>[  ]</code></span></summary><div><table><thead><tr></tr></thead><tbody><tr><td>Count</td><td><div class=\"dni-plaintext\"><pre>0</pre></div></td></tr><tr><td><i>(values)</i></td><td><i>(empty)</i></td></tr></tbody></table></div></details></td></tr><tr><td>Services</td><td><details class=\"dni-treeview\"><summary><span class=\"dni-code-hint\"><code>Microsoft.Extensions.DependencyInjection.ServiceProvider</code></span></summary><div><table><thead><tr></tr></thead><tbody></tbody></table></div></details></td></tr><tr><td>Culture</td><td><details class=\"dni-treeview\"><summary><span class=\"dni-code-hint\"><code></code></span></summary><div><table><thead><tr></tr></thead><tbody><tr><td>Parent</td><td><details class=\"dni-treeview\"><summary><span class=\"dni-code-hint\"><code></code></span></summary><div><table><thead><tr></tr></thead><tbody><tr><td>Parent</td><td><details class=\"dni-treeview\"><summary><span class=\"dni-code-hint\"><code></code></span></summary><div><table><thead><tr></tr></thead><tbody><tr><td>Parent</td><td></td></tr><tr><td>LCID</td><td>127</td></tr><tr><td>KeyboardLayoutId</td><td>127</td></tr><tr><td>Name</td><td></td></tr><tr><td>IetfLanguageTag</td><td></td></tr><tr><td>DisplayName</td><td>Invariant Language (Invariant Country)</td></tr><tr><td>NativeName</td><td>Invariant Language (Invariant Country)</td></tr><tr><td>EnglishName</td><td>Invariant Language (Invariant Country)</td></tr><tr><td>TwoLetterISOLanguageName</td><td>iv</td></tr><tr><td>ThreeLetterISOLanguageName</td><td>ivl</td></tr><tr><td>ThreeLetterWindowsLanguageName</td><td>IVL</td></tr><tr><td>CompareInfo</td><td>CompareInfo - </td></tr><tr><td>TextInfo</td><td>TextInfo - </td></tr><tr><td>IsNeutralCulture</td><td>False</td></tr><tr><td>CultureTypes</td><td>SpecificCultures</td></tr><tr><td>NumberFormat</td><td>System.Globalization.NumberFormatInfo</td></tr><tr><td>DateTimeFormat</td><td>System.Globalization.DateTimeFormatInfo</td></tr><tr><td>Calendar</td><td>System.Globalization.GregorianCalendar</td></tr><tr><td>OptionalCalendars</td><td>[ System.Globalization.GregorianCalendar ]</td></tr><tr><td>UseUserOverride</td><td>False</td></tr><tr><td>IsReadOnly</td><td>True</td></tr></tbody></table></div></details></td></tr><tr><td>LCID</td><td><div class=\"dni-plaintext\"><pre>127</pre></div></td></tr><tr><td>KeyboardLayoutId</td><td><div class=\"dni-plaintext\"><pre>127</pre></div></td></tr><tr><td>Name</td><td><div class=\"dni-plaintext\"><pre></pre></div></td></tr><tr><td>IetfLanguageTag</td><td><div class=\"dni-plaintext\"><pre></pre></div></td></tr><tr><td>DisplayName</td><td><div class=\"dni-plaintext\"><pre>Invariant Language (Invariant Country)</pre></div></td></tr><tr><td>NativeName</td><td><div class=\"dni-plaintext\"><pre>Invariant Language (Invariant Country)</pre></div></td></tr><tr><td>EnglishName</td><td><div class=\"dni-plaintext\"><pre>Invariant Language (Invariant Country)</pre></div></td></tr><tr><td>TwoLetterISOLanguageName</td><td><div class=\"dni-plaintext\"><pre>iv</pre></div></td></tr><tr><td>ThreeLetterISOLanguageName</td><td><div class=\"dni-plaintext\"><pre>ivl</pre></div></td></tr><tr><td>ThreeLetterWindowsLanguageName</td><td><div class=\"dni-plaintext\"><pre>IVL</pre></div></td></tr><tr><td>CompareInfo</td><td><details class=\"dni-treeview\"><summary><span class=\"dni-code-hint\"><code>CompareInfo -</code></span></summary><div><table><thead><tr></tr></thead><tbody><tr><td>Name</td><td></td></tr><tr><td>Version</td><td>System.Globalization.SortVersion</td></tr><tr><td>LCID</td><td>127</td></tr></tbody></table></div></details></td></tr><tr><td>TextInfo</td><td><details class=\"dni-treeview\"><summary><span class=\"dni-code-hint\"><code>TextInfo -</code></span></summary><div><table><thead><tr></tr></thead><tbody><tr><td>ANSICodePage</td><td>1252</td></tr><tr><td>OEMCodePage</td><td>437</td></tr><tr><td>MacCodePage</td><td>10000</td></tr><tr><td>EBCDICCodePage</td><td>37</td></tr><tr><td>LCID</td><td>127</td></tr><tr><td>CultureName</td><td></td></tr><tr><td>IsReadOnly</td><td>True</td></tr><tr><td>ListSeparator</td><td>,</td></tr><tr><td>IsRightToLeft</td><td>False</td></tr></tbody></table></div></details></td></tr><tr><td>IsNeutralCulture</td><td><div class=\"dni-plaintext\"><pre>False</pre></div></td></tr><tr><td>CultureTypes</td><td><span>SpecificCultures</span></td></tr><tr><td>NumberFormat</td><td><details class=\"dni-treeview\"><summary><span class=\"dni-code-hint\"><code>System.Globalization.NumberFormatInfo</code></span></summary><div><table><thead><tr></tr></thead><tbody><tr><td>CurrencyDecimalDigits</td><td>2</td></tr><tr><td>CurrencyDecimalSeparator</td><td>.</td></tr><tr><td>IsReadOnly</td><td>True</td></tr><tr><td>CurrencyGroupSizes</td><td>[ 3 ]</td></tr><tr><td>NumberGroupSizes</td><td>[ 3 ]</td></tr><tr><td>PercentGroupSizes</td><td>[ 3 ]</td></tr><tr><td>CurrencyGroupSeparator</td><td>,</td></tr><tr><td>CurrencySymbol</td><td>¤</td></tr><tr><td>NaNSymbol</td><td>NaN</td></tr><tr><td>CurrencyNegativePattern</td><td>0</td></tr><tr><td>NumberNegativePattern</td><td>1</td></tr><tr><td>PercentPositivePattern</td><td>0</td></tr><tr><td>PercentNegativePattern</td><td>0</td></tr><tr><td>NegativeInfinitySymbol</td><td>-Infinity</td></tr><tr><td>NegativeSign</td><td>-</td></tr><tr><td>NumberDecimalDigits</td><td>2</td></tr><tr><td>NumberDecimalSeparator</td><td>.</td></tr><tr><td>NumberGroupSeparator</td><td>,</td></tr><tr><td>CurrencyPositivePattern</td><td>0</td></tr><tr><td>PositiveInfinitySymbol</td><td>Infinity</td></tr><tr><td>PositiveSign</td><td>+</td></tr><tr><td>PercentDecimalDigits</td><td>2</td></tr><tr><td>PercentDecimalSeparator</td><td>.</td></tr><tr><td>PercentGroupSeparator</td><td>,</td></tr><tr><td>PercentSymbol</td><td>%</td></tr><tr><td>PerMilleSymbol</td><td>‰</td></tr><tr><td>NativeDigits</td><td>[ 0, 1, 2, 3, 4, 5, 6, 7, 8, 9 ]</td></tr><tr><td>DigitSubstitution</td><td>None</td></tr></tbody></table></div></details></td></tr><tr><td>DateTimeFormat</td><td><details class=\"dni-treeview\"><summary><span class=\"dni-code-hint\"><code>System.Globalization.DateTimeFormatInfo</code></span></summary><div><table><thead><tr></tr></thead><tbody><tr><td>AMDesignator</td><td>AM</td></tr><tr><td>Calendar</td><td>System.Globalization.GregorianCalendar</td></tr><tr><td>DateSeparator</td><td>/</td></tr><tr><td>FirstDayOfWeek</td><td>Sunday</td></tr><tr><td>CalendarWeekRule</td><td>FirstDay</td></tr><tr><td>FullDateTimePattern</td><td>dddd, dd MMMM yyyy HH:mm:ss</td></tr><tr><td>LongDatePattern</td><td>dddd, dd MMMM yyyy</td></tr><tr><td>LongTimePattern</td><td>HH:mm:ss</td></tr><tr><td>MonthDayPattern</td><td>MMMM dd</td></tr><tr><td>PMDesignator</td><td>PM</td></tr><tr><td>RFC1123Pattern</td><td>ddd, dd MMM yyyy HH':'mm':'ss 'GMT'</td></tr><tr><td>ShortDatePattern</td><td>MM/dd/yyyy</td></tr><tr><td>ShortTimePattern</td><td>HH:mm</td></tr><tr><td>SortableDateTimePattern</td><td>yyyy'-'MM'-'dd'T'HH':'mm':'ss</td></tr><tr><td>TimeSeparator</td><td>:</td></tr><tr><td>UniversalSortableDateTimePattern</td><td>yyyy'-'MM'-'dd HH':'mm':'ss'Z'</td></tr><tr><td>YearMonthPattern</td><td>yyyy MMMM</td></tr><tr><td>AbbreviatedDayNames</td><td>[ Sun, Mon, Tue, Wed, Thu, Fri, Sat ]</td></tr><tr><td>ShortestDayNames</td><td>[ Su, Mo, Tu, We, Th, Fr, Sa ]</td></tr><tr><td>DayNames</td><td>[ Sunday, Monday, Tuesday, Wednesday, Thursday, Friday, Saturday ]</td></tr><tr><td>AbbreviatedMonthNames</td><td>[ Jan, Feb, Mar, Apr, May, Jun, Jul, Aug, Sep, Oct, Nov, Dec,  ]</td></tr><tr><td>MonthNames</td><td>[ January, February, March, April, May, June, July, August, September, October, November, December,  ]</td></tr><tr><td>IsReadOnly</td><td>True</td></tr><tr><td>NativeCalendarName</td><td>Gregorian Calendar</td></tr><tr><td>AbbreviatedMonthGenitiveNames</td><td>[ Jan, Feb, Mar, Apr, May, Jun, Jul, Aug, Sep, Oct, Nov, Dec,  ]</td></tr><tr><td>MonthGenitiveNames</td><td>[ January, February, March, April, May, June, July, August, September, October, November, December,  ]</td></tr></tbody></table></div></details></td></tr><tr><td>Calendar</td><td><details class=\"dni-treeview\"><summary><span class=\"dni-code-hint\"><code>System.Globalization.GregorianCalendar</code></span></summary><div><table><thead><tr></tr></thead><tbody><tr><td>MinSupportedDateTime</td><td>1/1/0001 12:00:00 AM</td></tr><tr><td>MaxSupportedDateTime</td><td>12/31/9999 11:59:59 PM</td></tr><tr><td>AlgorithmType</td><td>SolarCalendar</td></tr><tr><td>CalendarType</td><td>Localized</td></tr><tr><td>Eras</td><td>[ 1 ]</td></tr><tr><td>TwoDigitYearMax</td><td>2049</td></tr><tr><td>IsReadOnly</td><td>True</td></tr></tbody></table></div></details></td></tr><tr><td>OptionalCalendars</td><td><table><thead><tr><th><i>index</i></th><th>value</th></tr></thead><tbody><tr><td>0</td><td>System.Globalization.GregorianCalendar</td></tr></tbody></table></td></tr><tr><td>UseUserOverride</td><td><div class=\"dni-plaintext\"><pre>False</pre></div></td></tr><tr><td>IsReadOnly</td><td><div class=\"dni-plaintext\"><pre>True</pre></div></td></tr></tbody></table></div></details></td></tr><tr><td>LCID</td><td><div class=\"dni-plaintext\"><pre>127</pre></div></td></tr><tr><td>KeyboardLayoutId</td><td><div class=\"dni-plaintext\"><pre>127</pre></div></td></tr><tr><td>Name</td><td><div class=\"dni-plaintext\"><pre></pre></div></td></tr><tr><td>IetfLanguageTag</td><td><div class=\"dni-plaintext\"><pre></pre></div></td></tr><tr><td>DisplayName</td><td><div class=\"dni-plaintext\"><pre>Invariant Language (Invariant Country)</pre></div></td></tr><tr><td>NativeName</td><td><div class=\"dni-plaintext\"><pre>Invariant Language (Invariant Country)</pre></div></td></tr><tr><td>EnglishName</td><td><div class=\"dni-plaintext\"><pre>Invariant Language (Invariant Country)</pre></div></td></tr><tr><td>TwoLetterISOLanguageName</td><td><div class=\"dni-plaintext\"><pre>iv</pre></div></td></tr><tr><td>ThreeLetterISOLanguageName</td><td><div class=\"dni-plaintext\"><pre>ivl</pre></div></td></tr><tr><td>ThreeLetterWindowsLanguageName</td><td><div class=\"dni-plaintext\"><pre>IVL</pre></div></td></tr><tr><td>CompareInfo</td><td><details class=\"dni-treeview\"><summary><span class=\"dni-code-hint\"><code>CompareInfo -</code></span></summary><div><table><thead><tr></tr></thead><tbody><tr><td>Name</td><td><div class=\"dni-plaintext\"><pre></pre></div></td></tr><tr><td>Version</td><td><details class=\"dni-treeview\"><summary><span class=\"dni-code-hint\"><code>System.Globalization.SortVersion</code></span></summary><div><table><thead><tr></tr></thead><tbody><tr><td>FullVersion</td><td>4225177</td></tr><tr><td>SortId</td><td>00407899-0000-0000-0000-00000000007f</td></tr></tbody></table></div></details></td></tr><tr><td>LCID</td><td><div class=\"dni-plaintext\"><pre>127</pre></div></td></tr></tbody></table></div></details></td></tr><tr><td>TextInfo</td><td><details class=\"dni-treeview\"><summary><span class=\"dni-code-hint\"><code>TextInfo -</code></span></summary><div><table><thead><tr></tr></thead><tbody><tr><td>ANSICodePage</td><td><div class=\"dni-plaintext\"><pre>1252</pre></div></td></tr><tr><td>OEMCodePage</td><td><div class=\"dni-plaintext\"><pre>437</pre></div></td></tr><tr><td>MacCodePage</td><td><div class=\"dni-plaintext\"><pre>10000</pre></div></td></tr><tr><td>EBCDICCodePage</td><td><div class=\"dni-plaintext\"><pre>37</pre></div></td></tr><tr><td>LCID</td><td><div class=\"dni-plaintext\"><pre>127</pre></div></td></tr><tr><td>CultureName</td><td><div class=\"dni-plaintext\"><pre></pre></div></td></tr><tr><td>IsReadOnly</td><td><div class=\"dni-plaintext\"><pre>True</pre></div></td></tr><tr><td>ListSeparator</td><td><div class=\"dni-plaintext\"><pre>,</pre></div></td></tr><tr><td>IsRightToLeft</td><td><div class=\"dni-plaintext\"><pre>False</pre></div></td></tr></tbody></table></div></details></td></tr><tr><td>IsNeutralCulture</td><td><div class=\"dni-plaintext\"><pre>False</pre></div></td></tr><tr><td>CultureTypes</td><td><span>SpecificCultures</span></td></tr><tr><td>NumberFormat</td><td><details class=\"dni-treeview\"><summary><span class=\"dni-code-hint\"><code>System.Globalization.NumberFormatInfo</code></span></summary><div><table><thead><tr></tr></thead><tbody><tr><td>CurrencyDecimalDigits</td><td><div class=\"dni-plaintext\"><pre>2</pre></div></td></tr><tr><td>CurrencyDecimalSeparator</td><td><div class=\"dni-plaintext\"><pre>.</pre></div></td></tr><tr><td>IsReadOnly</td><td><div class=\"dni-plaintext\"><pre>True</pre></div></td></tr><tr><td>CurrencyGroupSizes</td><td><div class=\"dni-plaintext\"><pre>[ 3 ]</pre></div></td></tr><tr><td>NumberGroupSizes</td><td><div class=\"dni-plaintext\"><pre>[ 3 ]</pre></div></td></tr><tr><td>PercentGroupSizes</td><td><div class=\"dni-plaintext\"><pre>[ 3 ]</pre></div></td></tr><tr><td>CurrencyGroupSeparator</td><td><div class=\"dni-plaintext\"><pre>,</pre></div></td></tr><tr><td>CurrencySymbol</td><td><div class=\"dni-plaintext\"><pre>&#164;</pre></div></td></tr><tr><td>NaNSymbol</td><td><div class=\"dni-plaintext\"><pre>NaN</pre></div></td></tr><tr><td>CurrencyNegativePattern</td><td><div class=\"dni-plaintext\"><pre>0</pre></div></td></tr><tr><td>NumberNegativePattern</td><td><div class=\"dni-plaintext\"><pre>1</pre></div></td></tr><tr><td>PercentPositivePattern</td><td><div class=\"dni-plaintext\"><pre>0</pre></div></td></tr><tr><td>PercentNegativePattern</td><td><div class=\"dni-plaintext\"><pre>0</pre></div></td></tr><tr><td>NegativeInfinitySymbol</td><td><div class=\"dni-plaintext\"><pre>-Infinity</pre></div></td></tr><tr><td>NegativeSign</td><td><div class=\"dni-plaintext\"><pre>-</pre></div></td></tr><tr><td>NumberDecimalDigits</td><td><div class=\"dni-plaintext\"><pre>2</pre></div></td></tr><tr><td>NumberDecimalSeparator</td><td><div class=\"dni-plaintext\"><pre>.</pre></div></td></tr><tr><td>NumberGroupSeparator</td><td><div class=\"dni-plaintext\"><pre>,</pre></div></td></tr><tr><td>CurrencyPositivePattern</td><td><div class=\"dni-plaintext\"><pre>0</pre></div></td></tr><tr><td>PositiveInfinitySymbol</td><td><div class=\"dni-plaintext\"><pre>Infinity</pre></div></td></tr><tr><td>PositiveSign</td><td><div class=\"dni-plaintext\"><pre>+</pre></div></td></tr><tr><td>PercentDecimalDigits</td><td><div class=\"dni-plaintext\"><pre>2</pre></div></td></tr><tr><td>PercentDecimalSeparator</td><td><div class=\"dni-plaintext\"><pre>.</pre></div></td></tr><tr><td>PercentGroupSeparator</td><td><div class=\"dni-plaintext\"><pre>,</pre></div></td></tr><tr><td>PercentSymbol</td><td><div class=\"dni-plaintext\"><pre>%</pre></div></td></tr><tr><td>PerMilleSymbol</td><td><div class=\"dni-plaintext\"><pre>‰</pre></div></td></tr><tr><td>NativeDigits</td><td><div class=\"dni-plaintext\"><pre>[ 0, 1, 2, 3, 4, 5, 6, 7, 8, 9 ]</pre></div></td></tr><tr><td>DigitSubstitution</td><td><span>None</span></td></tr></tbody></table></div></details></td></tr><tr><td>DateTimeFormat</td><td><details class=\"dni-treeview\"><summary><span class=\"dni-code-hint\"><code>System.Globalization.DateTimeFormatInfo</code></span></summary><div><table><thead><tr></tr></thead><tbody><tr><td>AMDesignator</td><td><div class=\"dni-plaintext\"><pre>AM</pre></div></td></tr><tr><td>Calendar</td><td><details class=\"dni-treeview\"><summary><span class=\"dni-code-hint\"><code>System.Globalization.GregorianCalendar</code></span></summary><div><table><thead><tr></tr></thead><tbody><tr><td>MinSupportedDateTime</td><td>1/1/0001 12:00:00 AM</td></tr><tr><td>MaxSupportedDateTime</td><td>12/31/9999 11:59:59 PM</td></tr><tr><td>AlgorithmType</td><td>SolarCalendar</td></tr><tr><td>CalendarType</td><td>Localized</td></tr><tr><td>Eras</td><td>[ 1 ]</td></tr><tr><td>TwoDigitYearMax</td><td>2049</td></tr><tr><td>IsReadOnly</td><td>True</td></tr></tbody></table></div></details></td></tr><tr><td>DateSeparator</td><td><div class=\"dni-plaintext\"><pre>/</pre></div></td></tr><tr><td>FirstDayOfWeek</td><td><span>Sunday</span></td></tr><tr><td>CalendarWeekRule</td><td><span>FirstDay</span></td></tr><tr><td>FullDateTimePattern</td><td><div class=\"dni-plaintext\"><pre>dddd, dd MMMM yyyy HH:mm:ss</pre></div></td></tr><tr><td>LongDatePattern</td><td><div class=\"dni-plaintext\"><pre>dddd, dd MMMM yyyy</pre></div></td></tr><tr><td>LongTimePattern</td><td><div class=\"dni-plaintext\"><pre>HH:mm:ss</pre></div></td></tr><tr><td>MonthDayPattern</td><td><div class=\"dni-plaintext\"><pre>MMMM dd</pre></div></td></tr><tr><td>PMDesignator</td><td><div class=\"dni-plaintext\"><pre>PM</pre></div></td></tr><tr><td>RFC1123Pattern</td><td><div class=\"dni-plaintext\"><pre>ddd, dd MMM yyyy HH&#39;:&#39;mm&#39;:&#39;ss &#39;GMT&#39;</pre></div></td></tr><tr><td>ShortDatePattern</td><td><div class=\"dni-plaintext\"><pre>MM/dd/yyyy</pre></div></td></tr><tr><td>ShortTimePattern</td><td><div class=\"dni-plaintext\"><pre>HH:mm</pre></div></td></tr><tr><td>SortableDateTimePattern</td><td><div class=\"dni-plaintext\"><pre>yyyy&#39;-&#39;MM&#39;-&#39;dd&#39;T&#39;HH&#39;:&#39;mm&#39;:&#39;ss</pre></div></td></tr><tr><td>TimeSeparator</td><td><div class=\"dni-plaintext\"><pre>:</pre></div></td></tr><tr><td>UniversalSortableDateTimePattern</td><td><div class=\"dni-plaintext\"><pre>yyyy&#39;-&#39;MM&#39;-&#39;dd HH&#39;:&#39;mm&#39;:&#39;ss&#39;Z&#39;</pre></div></td></tr><tr><td>YearMonthPattern</td><td><div class=\"dni-plaintext\"><pre>yyyy MMMM</pre></div></td></tr><tr><td>AbbreviatedDayNames</td><td><div class=\"dni-plaintext\"><pre>[ Sun, Mon, Tue, Wed, Thu, Fri, Sat ]</pre></div></td></tr><tr><td>ShortestDayNames</td><td><div class=\"dni-plaintext\"><pre>[ Su, Mo, Tu, We, Th, Fr, Sa ]</pre></div></td></tr><tr><td>DayNames</td><td><div class=\"dni-plaintext\"><pre>[ Sunday, Monday, Tuesday, Wednesday, Thursday, Friday, Saturday ]</pre></div></td></tr><tr><td>AbbreviatedMonthNames</td><td><div class=\"dni-plaintext\"><pre>[ Jan, Feb, Mar, Apr, May, Jun, Jul, Aug, Sep, Oct, Nov, Dec,  ]</pre></div></td></tr><tr><td>MonthNames</td><td><div class=\"dni-plaintext\"><pre>[ January, February, March, April, May, June, July, August, September, October, November, December,  ]</pre></div></td></tr><tr><td>IsReadOnly</td><td><div class=\"dni-plaintext\"><pre>True</pre></div></td></tr><tr><td>NativeCalendarName</td><td><div class=\"dni-plaintext\"><pre>Gregorian Calendar</pre></div></td></tr><tr><td>AbbreviatedMonthGenitiveNames</td><td><div class=\"dni-plaintext\"><pre>[ Jan, Feb, Mar, Apr, May, Jun, Jul, Aug, Sep, Oct, Nov, Dec,  ]</pre></div></td></tr><tr><td>MonthGenitiveNames</td><td><div class=\"dni-plaintext\"><pre>[ January, February, March, April, May, June, July, August, September, October, November, December,  ]</pre></div></td></tr></tbody></table></div></details></td></tr><tr><td>Calendar</td><td><details class=\"dni-treeview\"><summary><span class=\"dni-code-hint\"><code>System.Globalization.GregorianCalendar</code></span></summary><div><table><thead><tr></tr></thead><tbody><tr><td>MinSupportedDateTime</td><td><span>0001-01-01 00:00:00Z</span></td></tr><tr><td>MaxSupportedDateTime</td><td><span>9999-12-31 23:59:59Z</span></td></tr><tr><td>AlgorithmType</td><td><span>SolarCalendar</span></td></tr><tr><td>CalendarType</td><td><span>Localized</span></td></tr><tr><td>Eras</td><td><div class=\"dni-plaintext\"><pre>[ 1 ]</pre></div></td></tr><tr><td>TwoDigitYearMax</td><td><div class=\"dni-plaintext\"><pre>2049</pre></div></td></tr><tr><td>IsReadOnly</td><td><div class=\"dni-plaintext\"><pre>True</pre></div></td></tr></tbody></table></div></details></td></tr><tr><td>OptionalCalendars</td><td><table><thead><tr><th><i>index</i></th><th>value</th></tr></thead><tbody><tr><td>0</td><td><details class=\"dni-treeview\"><summary><span class=\"dni-code-hint\"><code>System.Globalization.GregorianCalendar</code></span></summary><div><table><thead><tr></tr></thead><tbody><tr><td>MinSupportedDateTime</td><td>1/1/0001 12:00:00 AM</td></tr><tr><td>MaxSupportedDateTime</td><td>12/31/9999 11:59:59 PM</td></tr><tr><td>AlgorithmType</td><td>SolarCalendar</td></tr><tr><td>CalendarType</td><td>Localized</td></tr><tr><td>Eras</td><td>[ 1 ]</td></tr><tr><td>TwoDigitYearMax</td><td>2049</td></tr><tr><td>IsReadOnly</td><td>False</td></tr></tbody></table></div></details></td></tr></tbody></table></td></tr><tr><td>UseUserOverride</td><td><div class=\"dni-plaintext\"><pre>False</pre></div></td></tr><tr><td>IsReadOnly</td><td><div class=\"dni-plaintext\"><pre>True</pre></div></td></tr></tbody></table></div></details></td></tr><tr><td>LoggerFactory</td><td><details class=\"dni-treeview\"><summary><span class=\"dni-code-hint\"><code>Microsoft.Extensions.Logging.Abstractions.NullLoggerFactory</code></span></summary><div><table><thead><tr></tr></thead><tbody></tbody></table></div></details></td></tr><tr><td>ServiceSelector</td><td><details class=\"dni-treeview\"><summary><span class=\"dni-code-hint\"><code>Microsoft.SemanticKernel.Services.OrderedAIServiceSelector</code></span></summary><div><table><thead><tr></tr></thead><tbody></tbody></table></div></details></td></tr><tr><td>Data</td><td><i>(empty)</i></td></tr></tbody></table></div></details></td></tr><tr><td>Plugins</td><td><details class=\"dni-treeview\"><summary><span class=\"dni-code-hint\"><code>[  ]</code></span></summary><div><table><thead><tr></tr></thead><tbody><tr><td>Count</td><td><div class=\"dni-plaintext\"><pre>0</pre></div></td></tr><tr><td><i>(values)</i></td><td><i>(empty)</i></td></tr></tbody></table></div></details></td></tr><tr><td>Object</td><td><div class=\"dni-plaintext\"><pre>assistant</pre></div></td></tr><tr><td>Capabilities</td><td><span>None</span></td></tr><tr><td>CreatedAt</td><td><div class=\"dni-plaintext\"><pre>1705686525</pre></div></td></tr><tr><td>Name</td><td><div class=\"dni-plaintext\"><pre>Successful Midlevel Manager</pre></div></td></tr><tr><td>Description</td><td><div class=\"dni-plaintext\"><pre>Successful Midlevel Manager</pre></div></td></tr><tr><td>Model</td><td><div class=\"dni-plaintext\"><pre>gpt-4-1106-preview</pre></div></td></tr><tr><td>Instructions</td><td><div class=\"dni-plaintext\"><pre>You are mid-level manager on the sales team who has had the best year of their career. You are optimistic and believe that leadership is doing a great job, and you&#39;re completely on board with anything they do.\n",
       "</pre></div></td></tr><tr><td>Tools</td><td><i>(empty)</i></td></tr><tr><td>FileIds</td><td><details class=\"dni-treeview\"><summary><span class=\"dni-code-hint\"><code>[  ]</code></span></summary><div><table><thead><tr></tr></thead><tbody><tr><td>Count</td><td><div class=\"dni-plaintext\"><pre>0</pre></div></td></tr><tr><td>Comparer</td><td><details class=\"dni-treeview\"><summary><span class=\"dni-code-hint\"><code>System.OrdinalIgnoreCaseComparer</code></span></summary><div><table><thead><tr></tr></thead><tbody></tbody></table></div></details></td></tr><tr><td><i>(values)</i></td><td><div class=\"dni-plaintext\"><pre>[  ]</pre></div></td></tr></tbody></table></div></details></td></tr></tbody></table></div></details></td></tr></tbody></table><style>\r\n",
       ".dni-code-hint {\r\n",
       "    font-style: italic;\r\n",
       "    overflow: hidden;\r\n",
       "    white-space: nowrap;\r\n",
       "}\r\n",
       ".dni-treeview {\r\n",
       "    white-space: nowrap;\r\n",
       "}\r\n",
       ".dni-treeview td {\r\n",
       "    vertical-align: top;\r\n",
       "    text-align: start;\r\n",
       "}\r\n",
       "details.dni-treeview {\r\n",
       "    padding-left: 1em;\r\n",
       "}\r\n",
       "table td {\r\n",
       "    text-align: start;\r\n",
       "}\r\n",
       "table tr { \r\n",
       "    vertical-align: top; \r\n",
       "    margin: 0em 0px;\r\n",
       "}\r\n",
       "table tr td pre \r\n",
       "{ \r\n",
       "    vertical-align: top !important; \r\n",
       "    margin: 0em 0px !important;\r\n",
       "} \r\n",
       "table th {\r\n",
       "    text-align: start;\r\n",
       "}\r\n",
       "</style>"
      ]
     },
     "metadata": {},
     "output_type": "display_data"
    }
   ],
   "source": [
    "#pragma warning disable SKEXP0101\n",
    "\n",
    "static readonly List<IAgent> s_agents = new();\n",
    "\n",
    "async Task<IAgent> CreateAgentAsync(string name, string jobDescription)\n",
    "{\n",
    "    return Track(\n",
    "        await new AgentBuilder()\n",
    "            .WithOpenAIChatCompletion(OpenAIFunctionEnabledModel, apiKey)\n",
    "            .WithInstructions(jobDescription)\n",
    "            .WithName(name)\n",
    "            .WithDescription(name)\n",
    "            .BuildAsync());\n",
    "}\n",
    "\n",
    "IAgent Track(IAgent agent)\n",
    "{\n",
    "    s_agents.Add(agent);\n",
    "\n",
    "    return agent;\n",
    "}\n",
    "\n",
    "var agents = new List<IAgent>();\n",
    "foreach (var (name, jobDescription) in agentInfo)\n",
    "{\n",
    "    var agent = await CreateAgentAsync(name, jobDescription);\n",
    "\n",
    "    agents.Add(agent);\n",
    "}\n",
    "\n",
    "agents"
   ]
  },
  {
   "cell_type": "markdown",
   "metadata": {},
   "source": [
    "# 📉🥱 Let's show preso 1 to the agents"
   ]
  },
  {
   "cell_type": "code",
   "execution_count": 13,
   "metadata": {
    "dotnet_interactive": {
     "language": "csharp"
    },
    "polyglot_notebook": {
     "kernelName": "csharp"
    },
    "vscode": {
     "languageId": "polyglot-notebook"
    }
   },
   "outputs": [],
   "source": [
    "#pragma warning disable SKEXP0101\n",
    "\n",
    "IAgentThread? thread = null;\n",
    "\n",
    "thread = await agents[0].NewThreadAsync();\n",
    "await thread.AddUserMessageAsync($\"This is the presentation being presented by management: {slidesV1}. What is your honest reaction?\");"
   ]
  },
  {
   "cell_type": "markdown",
   "metadata": {},
   "source": [
    "## 🕵️ 1️⃣ Please stand up"
   ]
  },
  {
   "cell_type": "code",
   "execution_count": 14,
   "metadata": {
    "dotnet_interactive": {
     "language": "csharp"
    },
    "polyglot_notebook": {
     "kernelName": "csharp"
    },
    "vscode": {
     "languageId": "polyglot-notebook"
    }
   },
   "outputs": [
    {
     "name": "stdout",
     "output_type": "stream",
     "text": [
      "Agent `Concerned Employee` will respond to the presentation.\n",
      "As an employee who is already skeptical about the company's direction and\n",
      "leadership communication, my honest reaction to this presentation might be as\n",
      "follows:\n",
      "\n",
      "**Slide 1: Company Presentation**\n",
      "- The title of the presentation is\n",
      "disappointingly basic and fails to set expectations. It does nothing to draw me\n",
      "in or pique my curiosity. Starting off with such a vague title makes me doubt\n",
      "whether the subsequent information will have the substance or specificity needed\n",
      "to truly inform the employees about the state of the company.\n",
      "\n",
      "**Slide 2:\n",
      "Financial Overview**\n",
      "- The complex charts and graphs come across as a smoke\n",
      "screen, meant to obfuscate rather than inform. The lack of narrative or\n",
      "straightforward explanation makes me think that there may be bad news being\n",
      "hidden behind the complexity. Without guidance, these figures are meaningless to\n",
      "anyone not intimately familiar with financial details, which could alienate non-\n",
      "financial staff.\n",
      "\n",
      "**Slide 3: Challenges**\n",
      "- Listing challenges without\n",
      "presenting solutions or even a plan for addressing them seems counterproductive.\n",
      "It's as if management is acknowledging problems without taking responsibility or\n",
      "leading the way forward. This could easily contribute to the 'Low Morale'\n",
      "mentioned in the slide, as it does not inspire confidence or optimism among\n",
      "employees.\n",
      "\n",
      "**Slide 4: Strategic Initiatives**\n",
      "- The use of jargon and overly\n",
      "technical language appears to be another tactic to confuse rather than clarify.\n",
      "If I can't understand the strategic initiatives, how can I be expected to align\n",
      "with them or contribute positively? It feels like leadership is not interested\n",
      "in ensuring that all employees are on the same page or equipped with the\n",
      "knowledge to help drive these initiatives.\n",
      "\n",
      "**Slide 5: Closing Slide**\n",
      "- A\n",
      "generic 'Thank You' slide with no strong concluding message or call to action is\n",
      "a missed opportunity. A compelling close is crucial to motivate the team and to\n",
      "set the tone for what comes next. The lack of such a close only compounds my\n",
      "feelings of suspicion and disconnection from the company's leadership and\n",
      "direction.\n",
      "\n",
      "Overall, my reaction would likely be one of frustration and\n",
      "reinforced skepticism. The presentation appears to be a superficial attempt at\n",
      "communication lacking substance, actionable information, and real engagement\n",
      "with the employees. It gives the impression that leadership is not fully\n",
      "transparent or perhaps not fully competent to handle the company's challenges.\n",
      "This could result in further eroding trust in management and potentially\n",
      "exacerbate the very problems, such as low morale and understaffing, that were\n",
      "highlighted in the presentation.\n",
      "\n"
     ]
    }
   ],
   "source": [
    "#pragma warning disable SKEXP0101\n",
    "\n",
    "var whichAgent = 0;\n",
    "\n",
    "Console.WriteLine($\"Agent `{agents[whichAgent].Name}` will respond to the presentation.\");\n",
    "\n",
    "var agentMessages = await thread.InvokeAsync(agents[whichAgent]).ToArrayAsync();\n",
    "\n",
    "Console.WriteLine(Utils.WordWrap(agentMessages[0].Content, 80));"
   ]
  },
  {
   "cell_type": "markdown",
   "metadata": {},
   "source": [
    "## 🕵️ 2️⃣ You're up!"
   ]
  },
  {
   "cell_type": "code",
   "execution_count": null,
   "metadata": {
    "dotnet_interactive": {
     "language": "csharp"
    },
    "polyglot_notebook": {
     "kernelName": "csharp"
    },
    "vscode": {
     "languageId": "polyglot-notebook"
    }
   },
   "outputs": [],
   "source": [
    "#pragma warning disable SKEXP0101\n",
    "\n",
    "var whichAgent = 1;\n",
    "\n",
    "Console.WriteLine($\"Agent `{agents[whichAgent].Name}` will respond to the presentation.\");\n",
    "\n",
    "var agentMessages = await thread.InvokeAsync(agents[whichAgent]).ToArrayAsync();\n",
    "\n",
    "Console.WriteLine(Utils.WordWrap(agentMessages[0].Content, 80));"
   ]
  },
  {
   "cell_type": "markdown",
   "metadata": {},
   "source": [
    "# 📈🥱 Let's show preso 2 to the agents"
   ]
  },
  {
   "cell_type": "code",
   "execution_count": null,
   "metadata": {
    "dotnet_interactive": {
     "language": "csharp"
    },
    "polyglot_notebook": {
     "kernelName": "csharp"
    },
    "vscode": {
     "languageId": "polyglot-notebook"
    }
   },
   "outputs": [],
   "source": [
    "#pragma warning disable SKEXP0101\n",
    "\n",
    "await thread.AddUserMessageAsync($\"This is the presentation being presented by management: {slidesV2}. What is your honest reaction?\");"
   ]
  },
  {
   "cell_type": "markdown",
   "metadata": {},
   "source": [
    "## 🕵️ 1️⃣ Please stand up"
   ]
  },
  {
   "cell_type": "code",
   "execution_count": null,
   "metadata": {
    "dotnet_interactive": {
     "language": "csharp"
    },
    "polyglot_notebook": {
     "kernelName": "csharp"
    },
    "vscode": {
     "languageId": "polyglot-notebook"
    }
   },
   "outputs": [],
   "source": [
    "#pragma warning disable SKEXP0101\n",
    "\n",
    "var whichAgent = 0;\n",
    "\n",
    "Console.WriteLine($\"Agent `{agents[whichAgent].Name}` will respond to the presentation.\");\n",
    "\n",
    "var agentMessages = await thread.InvokeAsync(agents[whichAgent]).ToArrayAsync();\n",
    "\n",
    "Console.WriteLine(Utils.WordWrap(agentMessages[0].Content, 80));"
   ]
  },
  {
   "cell_type": "markdown",
   "metadata": {},
   "source": [
    "## 🕵️ 2️⃣ You're up!"
   ]
  },
  {
   "cell_type": "code",
   "execution_count": 15,
   "metadata": {
    "dotnet_interactive": {
     "language": "csharp"
    },
    "polyglot_notebook": {
     "kernelName": "csharp"
    },
    "vscode": {
     "languageId": "polyglot-notebook"
    }
   },
   "outputs": [
    {
     "name": "stdout",
     "output_type": "stream",
     "text": [
      "Agent `Successful Midlevel Manager` will respond to the presentation.\n",
      "As a mid-level manager on the sales team who has had the best year of their\n",
      "career and is optimistic about the direction leadership is taking, my honest\n",
      "reaction to the company presentation might be as follows:\n",
      "\n",
      "**Slide 1: Company\n",
      "Presentation**\n",
      "- While the title is quite generic, I trust that management has a\n",
      "good reason for keeping it open-ended. Perhaps they want to ensure that the\n",
      "presentation covers a wide range of topics or they prefer not to set specific\n",
      "expectations to allow for flexibility in the discussion. I'm hopeful that the\n",
      "upcoming slides will provide the necessary details and insights about the\n",
      "company's current status and future plans.\n",
      "\n",
      "**Slide 2: Financial Overview**\n",
      "-\n",
      "The complexity of the charts and graphs suggests that there's a wealth of data\n",
      "to explore, and it reflects the thoroughness of our company's analysis. Although\n",
      "it's not immediately clear, I'm sure the relevant points will be elaborated on\n",
      "during the presentation. Additionally, this might be a good opportunity for me\n",
      "to ask questions and gain a deeper understanding of the financial health of our\n",
      "company.\n",
      "\n",
      "**Slide 3: Challenges**\n",
      "- It's refreshing to see management openly\n",
      "acknowledge the challenges we face as a company. I feel confident that\n",
      "presenting these issues transparently is the first step towards finding\n",
      "solutions. I'm interested to hear more about how leadership plans to address\n",
      "these concerns, and as a committed member of management myself, I am eager to\n",
      "support and be part of the solution.\n",
      "\n",
      "**Slide 4: Strategic Initiatives**\n",
      "- Even\n",
      "though the text is technical and filled with jargon, I'm optimistic that these\n",
      "strategic initiatives are well-conceived and will drive our company forward. It\n",
      "suggests that our leadership is thinking ahead and planning strategically. I\n",
      "anticipate detailed explanations will follow and that there will be a broader\n",
      "effort to ensure every team member understands and can contribute effectively to\n",
      "these initiatives.\n",
      "\n",
      "**Slide 5: Closing Slide**\n",
      "- The simple 'Thank You' message\n",
      "might seem lackluster, but I interpret it as an indication that the real work\n",
      "will begin after the presentation. Rather than a concluding remark, I see it as\n",
      "an open-ended invitation for all of us to engage with leadership, ask questions,\n",
      "and play an active role in moving the company forward. Leadership might also\n",
      "want to avoid overwhelming us with too much information and instead choose to\n",
      "have more targeted follow-up discussions with different teams.\n",
      "\n",
      "Overall, my\n",
      "reaction is one of anticipation and a willingness to trust the company's\n",
      "leadership. While the presentation itself appears to leave a lot to be desired\n",
      "in terms of clarity and specific guidance, I believe that the intention is to\n",
      "foster a dialogue rather than to provide a one-way stream of information. This\n",
      "could be an opportunity for me to demonstrate my commitment to the company's\n",
      "goals by offering constructive feedback, engaging with the content, and helping\n",
      "to further articulate these points to my team.\n",
      "\n"
     ]
    }
   ],
   "source": [
    "#pragma warning disable SKEXP0101\n",
    "\n",
    "var whichAgent = 1;\n",
    "\n",
    "Console.WriteLine($\"Agent `{agents[whichAgent].Name}` will respond to the presentation.\");\n",
    "\n",
    "var agentMessages = await thread.InvokeAsync(agents[whichAgent]).ToArrayAsync();\n",
    "\n",
    "Console.WriteLine(Utils.WordWrap(agentMessages[0].Content, 80));"
   ]
  },
  {
   "cell_type": "markdown",
   "metadata": {},
   "source": [
    "# 1️⃣ 🥊 2️⃣ Let's establish a debate"
   ]
  },
  {
   "cell_type": "markdown",
   "metadata": {},
   "source": [
    "### Request to the two agents: _\"Give one simple justification for which slide presentation is better. Engage in a healthy debate of opinions and feel free to disagree. Don't go long with your argument and keep it short please.\"_"
   ]
  },
  {
   "cell_type": "code",
   "execution_count": 16,
   "metadata": {
    "dotnet_interactive": {
     "language": "csharp"
    },
    "polyglot_notebook": {
     "kernelName": "csharp"
    },
    "vscode": {
     "languageId": "polyglot-notebook"
    }
   },
   "outputs": [],
   "source": [
    "#pragma warning disable SKEXP0101\n",
    "\n",
    "await thread.AddUserMessageAsync($\"Give one simple justification for which slide presentation is better. Engage in a healthy debate of opinions and feel free to disagree. Don't go long with your argument and keep it short please.\");"
   ]
  },
  {
   "cell_type": "code",
   "execution_count": 17,
   "metadata": {
    "dotnet_interactive": {
     "language": "csharp"
    },
    "polyglot_notebook": {
     "kernelName": "csharp"
    },
    "vscode": {
     "languageId": "polyglot-notebook"
    }
   },
   "outputs": [
    {
     "name": "stdout",
     "output_type": "stream",
     "text": [
      "=========\n",
      "Round 1 🔔:=========\n",
      "\n",
      "🕵️ Agent `Concerned Employee`:\n",
      "Justification for Skeptic's Presentation:\n",
      "\n",
      "The skeptic's view encourages\n",
      "critical analysis and holds leadership accountable for clear and actionable\n",
      "communication. This perspective advocates for transparency and simplicity, which\n",
      "are vital for alignment and engagement of the entire workforce. Pushing for\n",
      "improvement in communication can lead to better-informed employees and may\n",
      "ultimately drive performance and morale.\n",
      "\n",
      "Counterpoint for Optimist's\n",
      "Presentation:\n",
      "\n",
      "The optimist's perspective values trust in leadership and the\n",
      "potential for strategic growth beyond what's immediately presented. By looking\n",
      "for opportunities to clarify and engage with the provided content, employees can\n",
      "take more ownership and contribute more proactively. This approach fosters a\n",
      "constructive culture where the focus is on collaboration and positive outcomes.\n",
      "Both views are essential to a healthy organization – skepticism ensures\n",
      "accountability while optimism drives engagement. The balance between them can\n",
      "create a dynamic environment that leverages clear communication and trust to\n",
      "achieve corporate goals.\n",
      "\n",
      "🕵️ Agent `Successful Midlevel Manager`:\n",
      "Justification for the Optimistic Presentation:\n",
      "\n",
      "The optimistic perspective\n",
      "values the integrity and intentions of the company's leadership, and it reflects\n",
      "a culture of trust and positivity. It suggests that more information and\n",
      "clarification will follow, and the presentation itself is an invitation for\n",
      "engagement and discussion. Trusting the leadership's competence and strategic\n",
      "wisdom, even if not perfectly communicated, can contribute to a supportive and\n",
      "cooperative work environment.\n",
      "\n",
      "Counterargument from the Skeptic's Perspective:\n",
      "The skeptic's viewpoint emphasizes the need for clarity, transparency, and\n",
      "accountability from the leadership, which are vital for informed decision-making\n",
      "and employee engagement. A presentation that falls short on these fronts risks\n",
      "fostering mistrust and confusion, thereby limiting the company's ability to\n",
      "effectively address challenges and pursue strategic initiatives. Constructive\n",
      "skepticism can lead to enhancements in communication and a more empowered\n",
      "workforce.\n",
      "\n",
      "In a healthy debate, both points of view serve an essential role.\n",
      "Optimism supports morale and encourages unity, while skepticism drives critical\n",
      "thinking and continuous improvement. The interplay between them can create a\n",
      "more resilient and adaptive organization.\n",
      "\n",
      "=========\n",
      "Round 2 🔔:=========\n",
      "\n",
      "🕵️ Agent `Concerned Employee`:\n",
      "Justification for Skeptic's Presentation:\n",
      "\n",
      "The skeptic's view emphasizes the\n",
      "need for clarity and transparency in company communications. It underscores the\n",
      "importance of management being straightforward with employees to foster trust\n",
      "and address issues head-on. This perspective might well lead to a more cohesive\n",
      "and motivated workforce because it advocates for clear understanding and active\n",
      "engagement with company challenges and solutions.\n",
      "\n",
      "Counterpoint for Optimist's\n",
      "Presentation:\n",
      "\n",
      "Meanwhile, the optimistic approach underlines the benefits of\n",
      "giving management the benefit of the doubt and being open to the strategic\n",
      "direction the company is taking, despite the lack of immediate clarity in the\n",
      "presentation. It implies that there may be follow-up discussions where the\n",
      "complexity of the information will be unpacked, and this can lead to more in-\n",
      "depth engagement from employees who are willing to ask questions and seek out\n",
      "more information.\n",
      "\n",
      "The balance between skepticism and optimism is key. Without\n",
      "some level of skepticism, companies may not feel the pressure to improve or be\n",
      "transparent. Conversely, without optimism, morale and the willingness to trust\n",
      "in and follow leadership could wane. Both perspectives serve crucial roles in a\n",
      "healthy corporate environment.\n",
      "\n",
      "🕵️ Agent `Successful Midlevel Manager`:\n",
      "Justification for Optimistic Presentation:\n",
      "\n",
      "The optimistic perspective can\n",
      "foster a positive working environment and trust in leadership, which are\n",
      "essential for employee morale and motivation. Assuming that management has valid\n",
      "reasons for their presentation style can encourage a proactive attitude among\n",
      "employees and lead to constructive dialogue where clarification and more\n",
      "detailed plans may be provided.\n",
      "\n",
      "Counterpoint from Skeptic's Perspective:\n",
      "However, the skeptic's view highlights the importance of effective communication\n",
      "and the need for management to clearly articulate their vision and plans. The\n",
      "call for transparency and actionable information is crucial for employee\n",
      "alignment and the overall success of the company's initiatives. Skepticism can\n",
      "drive necessary changes in how information is shared and ensure that each\n",
      "presentation is valuable and informative for all employees.\n",
      "\n",
      "Both stances bring\n",
      "value to the conversation: optimism can maintain a hopeful company culture while\n",
      "healthy skepticism ensures that leadership remains accountable and communicative,\n",
      "preventing complacency and fostering continuous improvement.\n",
      "\n",
      "=========\n",
      "Round 3 🔔:=========\n",
      "\n",
      "🕵️ Agent `Concerned Employee`:\n",
      "Justification for Skeptic's Presentation:\n",
      "\n",
      "The skeptic's insistence on clear,\n",
      "actionable communication from leadership has practical value. Employees benefit\n",
      "from understanding their company's financial status, challenges, and strategic\n",
      "initiatives as it enables them to align their efforts with organizational goals\n",
      "fully. Scrutiny compels leadership to refine their messaging, which can lead to\n",
      "better engagement and performance across the company.\n",
      "\n",
      "Counterargument from the\n",
      "Optimist's Perspective:\n",
      "\n",
      "On the other hand, the optimist's willingness to trust\n",
      "in the leadership and seek further clarity where needed can create a culture of\n",
      "positivity and proactive problem-solving. Trusting that complex information and\n",
      "strategic initiatives will be clarified in due time encourages patience and\n",
      "fosters a collaborative atmosphere where employees feel they're part of a larger,\n",
      "forward-thinking mission.\n",
      "\n",
      "Both skepticism and optimism play vital roles in a\n",
      "healthy corporate culture; skepticism drives transparency and improvement in\n",
      "communication, while optimism can bolster morale and trust in leadership, with\n",
      "each perspective ideally balancing the other.\n",
      "\n",
      "🕵️ Agent `Successful Midlevel Manager`:\n",
      "Justification for Optimistic Presentation:\n",
      "\n",
      "The optimistic approach reflects\n",
      "trust in leadership and an understanding that complexity in a company's\n",
      "operations might not always be immediately digestible. This attitude promotes a\n",
      "positive work environment, encourages engagement, and displays a willingness to\n",
      "collaborate, which are valuable traits for the overall health of the company. An\n",
      "optimistic outlook might also inspire others to give their best in times of\n",
      "uncertainty.\n",
      "\n",
      "Counterargument from the Skeptic's Perspective:\n",
      "\n",
      "Conversely, the\n",
      "skeptic's perspective urges the necessity for clear communication and\n",
      "transparency, which are fundamental to building a solid foundation of trust and\n",
      "ensuring all employees are fully informed and able to contribute effectively.\n",
      "Skepticism is constructive as it holds leadership accountable and pushes for\n",
      "continuous improvement in organizational practices.\n",
      "\n",
      "In sum, while optimism is\n",
      "essential for morale and trust, skepticism is equally important for\n",
      "accountability and clarity. The best approach is one that balances the two,\n",
      "ensuring that optimism doesn't lead to complacency and that skepticism doesn't\n",
      "turn into cynicism.\n",
      "\n"
     ]
    }
   ],
   "source": [
    "#pragma warning disable SKEXP0101\n",
    "\n",
    "for( var i = 0; i < 3; i++)\n",
    "{\n",
    "    Console.WriteLine($\"=========\\nRound {i + 1} 🔔:=========\\n\");\n",
    "    foreach(IAgent a in agents)\n",
    "    {\n",
    "        Console.WriteLine($\"🕵️ Agent `{a.Name}`:\");\n",
    "        var agentMessages = await thread.InvokeAsync(a).ToArrayAsync();\n",
    "        Console.WriteLine(Utils.WordWrap(agentMessages[0].Content, 80));\n",
    "    }\n",
    "}"
   ]
  },
  {
   "cell_type": "markdown",
   "metadata": {},
   "source": [
    "## 🧽 Clean up the agents you've created"
   ]
  },
  {
   "cell_type": "code",
   "execution_count": null,
   "metadata": {
    "dotnet_interactive": {
     "language": "csharp"
    },
    "polyglot_notebook": {
     "kernelName": "csharp"
    },
    "vscode": {
     "languageId": "polyglot-notebook"
    }
   },
   "outputs": [],
   "source": [
    "#pragma warning disable SKEXP0101\n",
    "\n",
    "Console.WriteLine(\"🧽 Cleaning up ...\");\n",
    "if (thread != null)\n",
    "{\n",
    "    Console.WriteLine(\"Thread going away ...\");\n",
    "    thread.DeleteAsync();\n",
    "    thread = null;\n",
    "}\n",
    "\n",
    "if (s_agents.Any())\n",
    "{\n",
    "    Console.WriteLine(\"Agents going away ...\");\n",
    "    await Task.WhenAll(s_agents.Select(a => a.DeleteAsync()));\n",
    "    s_agents.Clear();\n",
    "}"
   ]
  }
 ],
 "metadata": {
  "language_info": {
   "name": "python"
  }
 },
 "nbformat": 4,
 "nbformat_minor": 2
}
