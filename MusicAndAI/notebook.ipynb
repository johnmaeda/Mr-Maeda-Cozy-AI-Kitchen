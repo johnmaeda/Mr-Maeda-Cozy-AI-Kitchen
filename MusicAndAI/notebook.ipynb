{
 "cells": [
  {
   "cell_type": "markdown",
   "metadata": {},
   "source": [
    "# Kaki King: World Renowned Artist and Virtuoso Guitarist\n",
    "\n",
    "### “I don't remember a time that I didn't know how to play the guitar.”\n",
    "\n",
    "<iframe width=\"560\" height=\"315\" src=\"https://www.youtube.com/embed/_7LX4FW7TEI?si=vEI_91rXJCq5OZYL\" title=\"YouTube video player\" frameborder=\"0\" allow=\"accelerometer; autoplay; clipboard-write; encrypted-media; gyroscope; picture-in-picture; web-share\" allowfullscreen></iframe>\n",
    "\n",
    "### With Rolling Stone Magazine's \"Guitar God\" Kaki King, we think about music and AI together.\n",
    "\n"
   ]
  },
  {
   "cell_type": "markdown",
   "metadata": {},
   "source": [
    "## 🔥 Let's get the required packages"
   ]
  },
  {
   "cell_type": "code",
   "execution_count": null,
   "metadata": {
    "dotnet_interactive": {
     "language": "csharp"
    },
    "polyglot_notebook": {
     "kernelName": "csharp"
    },
    "vscode": {
     "languageId": "polyglot-notebook"
    }
   },
   "outputs": [],
   "source": [
    "#r \"nuget: Microsoft.SemanticKernel, 1.6.1\"\n",
    "#r \"nuget: Microsoft.SemanticKernel.Plugins.Core, 1.6.1-alpha\"\n",
    "#r \"nuget: Microsoft.Extensions.Logging.Console, 8.0.0\"\n",
    "#r \"nuget: NetCoreAudio, 2.0.0\"\n",
    "#r \"nuget: SkiaSharp, 2.88.3\""
   ]
  },
  {
   "cell_type": "code",
   "execution_count": null,
   "metadata": {
    "dotnet_interactive": {
     "language": "csharp"
    },
    "polyglot_notebook": {
     "kernelName": "csharp"
    },
    "vscode": {
     "languageId": "polyglot-notebook"
    }
   },
   "outputs": [],
   "source": [
    "#!import ../config/Settings.cs\n",
    "#!import ../config/Utils.cs\n",
    "#!import ../config/SoundUtils.cs\n",
    "\n",
    "using Microsoft.SemanticKernel;\n",
    "using Microsoft.SemanticKernel.Connectors.OpenAI;\n",
    "using Microsoft.Extensions.Logging;\n",
    "using Kernel = Microsoft.SemanticKernel.Kernel;\n",
    "\n",
    "Kernel kernel;\n",
    "\n",
    "var (useAzureOpenAI, model, azureEndpoint, apiKey, orgId) = Settings.LoadFromFile();\n",
    "\n",
    "if (useAzureOpenAI) {\n",
    "    kernel = Kernel.CreateBuilder()\n",
    "        .AddAzureOpenAIChatCompletion(model, azureEndpoint, apiKey)\n",
    "        .Build();\n",
    "} else {\n",
    "    kernel = Kernel.CreateBuilder()\n",
    "        .AddOpenAIChatCompletion(\"gpt-4-1106-preview\", apiKey, orgId)\n",
    "        .Build();\n",
    "}"
   ]
  },
  {
   "cell_type": "markdown",
   "metadata": {},
   "source": [
    "## 🧑‍🍳 Let's get cooking together!"
   ]
  },
  {
   "cell_type": "code",
   "execution_count": null,
   "metadata": {
    "dotnet_interactive": {
     "language": "csharp"
    },
    "polyglot_notebook": {
     "kernelName": "csharp"
    },
    "vscode": {
     "languageId": "polyglot-notebook"
    }
   },
   "outputs": [],
   "source": [
    "string target = \"an American country music style song\";"
   ]
  },
  {
   "cell_type": "markdown",
   "metadata": {},
   "source": [
    "## 🍲 Generating some sound ideas ..."
   ]
  },
  {
   "cell_type": "code",
   "execution_count": null,
   "metadata": {
    "dotnet_interactive": {
     "language": "csharp"
    },
    "polyglot_notebook": {
     "kernelName": "csharp"
    },
    "vscode": {
     "languageId": "polyglot-notebook"
    }
   },
   "outputs": [],
   "source": [
    "using System.IO;\n",
    "using System.Net.Http;\n",
    "\n",
    "string code = @\"\n",
    "This is a way to generate sounds in JS\n",
    "\n",
    "const synth = new Tone.Synth().toDestination();\n",
    "const now = Tone.now()\n",
    "synth.triggerAttackRelease(\"\"C4\"\", \"\"8n\"\", now)\n",
    "synth.triggerAttackRelease(\"\"E4\"\", \"\"8n\"\", now + 0.5)\n",
    "synth.triggerAttackRelease(\"\"G4\"\", \"\"8n\"\", now + 1)\n",
    "\n",
    "The library is\n",
    "\n",
    "https://cdnjs.cloudflare.com/ajax/libs/tone/14.8.49/Tone.js\n",
    "\n",
    "Generate the music for \";\n",
    "\n",
    "StringBuilder allUpdates = new StringBuilder();\n",
    "\n",
    "await foreach (var update in kernel.InvokePromptStreamingAsync(code + target + \" that gets played with a button on the web page. Think out loud how such a melody needs to sound.\"))\n",
    "{\n",
    "    Console.Write(update);\n",
    "    allUpdates.Append(update); // Append each update to the StringBuilder\n",
    "}\n",
    "\n",
    "string allUpdatesString = allUpdates.ToString();"
   ]
  },
  {
   "cell_type": "markdown",
   "metadata": {},
   "source": [
    "## 👀 Let's look at what the LLM said again"
   ]
  },
  {
   "cell_type": "code",
   "execution_count": null,
   "metadata": {
    "dotnet_interactive": {
     "language": "csharp"
    },
    "polyglot_notebook": {
     "kernelName": "csharp"
    },
    "vscode": {
     "languageId": "polyglot-notebook"
    }
   },
   "outputs": [],
   "source": [
    "string kk = Utils.WordWrap(allUpdatesString, 80);\n",
    "Console.WriteLine(kk);"
   ]
  },
  {
   "cell_type": "markdown",
   "metadata": {},
   "source": [
    "## 🌅 Let's make a relevant image"
   ]
  },
  {
   "cell_type": "code",
   "execution_count": null,
   "metadata": {
    "dotnet_interactive": {
     "language": "csharp"
    },
    "polyglot_notebook": {
     "kernelName": "csharp"
    },
    "vscode": {
     "languageId": "polyglot-notebook"
    }
   },
   "outputs": [],
   "source": [
    "#!import ../config/SkiaUtils.cs\n",
    "\n",
    "#pragma warning disable SKEXP0001, SKEXP0010, SKEXP0012\n",
    "\n",
    "\n",
    "using Microsoft.SemanticKernel.ChatCompletion;\n",
    "using Microsoft.SemanticKernel.TextToImage;\n",
    "\n",
    "HttpClient httpClient = new HttpClient();\n",
    "\n",
    "async Task DownloadImageAsync(string uri, string localPath)\n",
    "{\n",
    "    using (HttpResponseMessage response = await httpClient.GetAsync(uri))\n",
    "    {\n",
    "        response.EnsureSuccessStatusCode();\n",
    "\n",
    "        using (Stream contentStream = await response.Content.ReadAsStreamAsync(), \n",
    "                fileStream = new FileStream(localPath, FileMode.Create, FileAccess.Write, FileShare.None))\n",
    "        {\n",
    "            await contentStream.CopyToAsync(fileStream);\n",
    "        }\n",
    "    }\n",
    "}\n",
    "\n",
    "Kernel painterKernel = Kernel.CreateBuilder()\n",
    "    .AddOpenAITextToImage(apiKey) // Add your text to image service\n",
    "    .Build();\n",
    "\n",
    "ITextToImageService dallE = painterKernel.GetRequiredService<ITextToImageService>();\n",
    "\n",
    "var image = await dallE.GenerateImageAsync(target, 256, 256);\n",
    "\n",
    "Console.WriteLine(image);\n",
    "\n",
    "string uniqueFileName = \"abc-\" + Guid.NewGuid().ToString() + \".png\";\n",
    "Console.WriteLine(uniqueFileName);\n",
    "await DownloadImageAsync(image,uniqueFileName);\n",
    "await SkiaUtils.ShowImage(image, 256, 256);"
   ]
  },
  {
   "cell_type": "markdown",
   "metadata": {},
   "source": [
    "## 🕸️ Let's make a webpage to listen and watch it"
   ]
  },
  {
   "cell_type": "code",
   "execution_count": null,
   "metadata": {
    "dotnet_interactive": {
     "language": "csharp"
    },
    "polyglot_notebook": {
     "kernelName": "csharp"
    },
    "vscode": {
     "languageId": "polyglot-notebook"
    }
   },
   "outputs": [],
   "source": [
    "string code = @\"Generate an HTML file from the following instructions. Do not include any explanatory text and just output the HTML file as is with no code block. Include all Javascript inline and include this image url in the file: \" + image + \" \";\n",
    "\n",
    "StringBuilder allUpdates = new StringBuilder();\n",
    "\n",
    "await foreach (var update in kernel.InvokePromptStreamingAsync(code + allUpdatesString))\n",
    "{\n",
    "    Console.Write(update);\n",
    "    allUpdates.Append(update); // Append each update to the StringBuilder\n",
    "}\n",
    "\n",
    "string htmlFileString = allUpdates.ToString();\n",
    "\n",
    "// write the string to a file called music.html\n",
    "System.IO.File.WriteAllText(\"music.html\", htmlFileString);\n",
    "Console.WriteLine(\"music.html file written\");"
   ]
  },
  {
   "cell_type": "code",
   "execution_count": null,
   "metadata": {
    "dotnet_interactive": {
     "language": "csharp"
    },
    "polyglot_notebook": {
     "kernelName": "csharp"
    },
    "vscode": {
     "languageId": "polyglot-notebook"
    }
   },
   "outputs": [],
   "source": [
    "http://127.0.0.1:5501/MusicAndAI/music.html"
   ]
  }
 ],
 "metadata": {
  "language_info": {
   "name": "python"
  }
 },
 "nbformat": 4,
 "nbformat_minor": 2
}
