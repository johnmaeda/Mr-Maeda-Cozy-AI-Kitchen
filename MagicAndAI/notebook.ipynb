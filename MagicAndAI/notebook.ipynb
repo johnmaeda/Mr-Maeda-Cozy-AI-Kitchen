{
 "cells": [
  {
   "cell_type": "markdown",
   "metadata": {},
   "source": [
    "# Marco Tempest: Master of Cyber Illusion, Founding Director of MagicLab\n",
    "\n",
    "### “The takeaway [from Marco's new, realtime storytelling AI project on Ada Lovelace]? \n",
    "\n",
    "### AI has the capability to revolutionize how we connect with history, bringing stories like Ada's into a vivid, relatable frame for today and tomorrow's generations. Imagine the untapped potential of generative AI within your industry.” —via [LinkedIn](https://www.linkedin.com/posts/marcotempest_adalovelace-storytelling-ai-activity-7161375652854542336-EkTT?utm_source=share&utm_medium=member_desktop)\n",
    "\n",
    "### With Marco, there's nothing we can really cook for him because he's the greatest chef of AI and storytelling of all times. Uh oh ..."
   ]
  },
  {
   "cell_type": "markdown",
   "metadata": {},
   "source": [
    "## 🔥 Let's get the required packages"
   ]
  },
  {
   "cell_type": "code",
   "execution_count": null,
   "metadata": {
    "dotnet_interactive": {
     "language": "csharp"
    },
    "polyglot_notebook": {
     "kernelName": "csharp"
    },
    "vscode": {
     "languageId": "polyglot-notebook"
    }
   },
   "outputs": [],
   "source": [
    "#!import ../config/Settings.cs \n",
    "#!import ../config/Utils.cs\n",
    "\n",
    "#r \"nuget: Microsoft.SemanticKernel, 1.4.0\"\n",
    "#r \"nuget: NetCoreAudio, 2.0.0\""
   ]
  },
  {
   "cell_type": "code",
   "execution_count": null,
   "metadata": {
    "dotnet_interactive": {
     "language": "csharp"
    },
    "polyglot_notebook": {
     "kernelName": "csharp"
    },
    "vscode": {
     "languageId": "polyglot-notebook"
    }
   },
   "outputs": [],
   "source": [
    "#!import ../config/Settings.cs\n",
    "#!import ../config/Utils.cs\n",
    "#!import ../config/SoundUtils.cs\n",
    "\n",
    "using Microsoft.SemanticKernel;\n",
    "using Microsoft.SemanticKernel.Connectors.OpenAI;\n",
    "using Microsoft.Extensions.Logging;\n",
    "using Kernel = Microsoft.SemanticKernel.Kernel;\n",
    "\n",
    "Kernel kernel;\n",
    "\n",
    "var (useAzureOpenAI, model, azureEndpoint, apiKey, orgId) = Settings.LoadFromFile();"
   ]
  },
  {
   "cell_type": "markdown",
   "metadata": {},
   "source": [
    "## 🧑‍🍳 Let's get cooking with the greatest cyber-illusionist of all times!"
   ]
  },
  {
   "cell_type": "markdown",
   "metadata": {},
   "source": [
    "![](marcotimesequence.jpg)\n",
    "via [TED](https://youtu.be/fumsXEuiLyk?feature=shared)"
   ]
  },
  {
   "cell_type": "markdown",
   "metadata": {},
   "source": [
    "## 🗣️ We bring in the ability to speak"
   ]
  },
  {
   "cell_type": "code",
   "execution_count": null,
   "metadata": {
    "dotnet_interactive": {
     "language": "csharp"
    },
    "polyglot_notebook": {
     "kernelName": "csharp"
    },
    "vscode": {
     "languageId": "polyglot-notebook"
    }
   },
   "outputs": [],
   "source": [
    "using Microsoft.SemanticKernel.TextToAudio;\n",
    "using Microsoft.SemanticKernel.AudioToText;\n",
    "using Microsoft.SemanticKernel.Contents;\n",
    "\n",
    "string myQuestion = \"This is a time series capture of part of Marco Tempest's performance. What is he doing?\";\n",
    "const string audioFileName = \"output.mp3\";\n",
    "\n",
    "#pragma warning disable SKEXP0005\n",
    "\n",
    "// Create the service\n",
    "ITextToAudioService textToAudioService = new OpenAITextToAudioService(\n",
    "    modelId: \"tts-1\",\n",
    "    apiKey: apiKey);\n",
    "\n",
    "\n",
    "// Generate audio content using the OpenAI text-to-audio service\n",
    "AudioContent audioResult = await textToAudioService\n",
    "    .GetAudioContentAsync( myQuestion,\n",
    "        new OpenAITextToAudioExecutionSettings(\"alloy\") {\n",
    "            ResponseFormat = \"mp3\", Speed = 1.0f \n",
    "        }\n",
    "    );\n",
    "\n",
    "await File.WriteAllBytesAsync(audioFileName, audioResult.Data!.ToArray());\n",
    "SoundUtils.PlaySound(audioFileName);"
   ]
  },
  {
   "cell_type": "markdown",
   "metadata": {},
   "source": [
    "## 👁️ We bring in the ability to process images"
   ]
  },
  {
   "cell_type": "code",
   "execution_count": null,
   "metadata": {
    "dotnet_interactive": {
     "language": "csharp"
    },
    "polyglot_notebook": {
     "kernelName": "csharp"
    },
    "vscode": {
     "languageId": "polyglot-notebook"
    }
   },
   "outputs": [],
   "source": [
    "using System;\n",
    "using System.Threading.Tasks;\n",
    "using Microsoft.SemanticKernel.ChatCompletion;\n",
    "\n",
    "const string ImageUri = \"https://maeda.pm/wp-content/uploads/2024/02/marcotimesequence.jpg\";\n",
    "\n",
    "const string OpenAIVisionEnabledModel = \"gpt-4-vision-preview\";\n",
    "\n",
    "var visionKernel = Kernel.CreateBuilder()\n",
    "    .AddOpenAIChatCompletion(OpenAIVisionEnabledModel, apiKey)\n",
    "    .Build();\n",
    "\n",
    "var visionChatCompletionService = visionKernel.GetRequiredService<IChatCompletionService>();\n",
    "\n",
    "var visionChatHistory = new ChatHistory(\"You are a friendly assistant.\");\n",
    "\n",
    "visionChatHistory.AddUserMessage(new ChatMessageContentItemCollection\n",
    "{\n",
    "    new TextContent(myQuestion),\n",
    "    new ImageContent(new Uri(ImageUri))\n",
    "});\n",
    "\n",
    "OpenAIPromptExecutionSettings settings = new() { MaxTokens = 500, Temperature = 0.1  };\n",
    "\n",
    "var reply = await visionChatCompletionService.GetChatMessageContentAsync(visionChatHistory, settings);\n",
    "\n",
    "Console.WriteLine(Utils.WordWrap(reply.Content, 80));"
   ]
  },
  {
   "cell_type": "markdown",
   "metadata": {},
   "source": [
    "## 🧠 We ask an innocent question"
   ]
  },
  {
   "cell_type": "code",
   "execution_count": null,
   "metadata": {
    "dotnet_interactive": {
     "language": "csharp"
    },
    "polyglot_notebook": {
     "kernelName": "csharp"
    },
    "vscode": {
     "languageId": "polyglot-notebook"
    }
   },
   "outputs": [],
   "source": [
    "myQuestion = \"What's the secret to this magic trick?\";\n",
    "\n",
    "#pragma warning disable SKEXP0005\n",
    "\n",
    "AudioContent audioResult = await textToAudioService\n",
    "    .GetAudioContentAsync( myQuestion,\n",
    "        new OpenAITextToAudioExecutionSettings(\"alloy\") {\n",
    "            ResponseFormat = \"mp3\", Speed = 1.0f \n",
    "        }\n",
    "    );\n",
    "\n",
    "await File.WriteAllBytesAsync(audioFileName, audioResult.Data!.ToArray());\n",
    "SoundUtils.PlaySound(audioFileName);"
   ]
  },
  {
   "cell_type": "code",
   "execution_count": null,
   "metadata": {
    "dotnet_interactive": {
     "language": "csharp"
    },
    "polyglot_notebook": {
     "kernelName": "csharp"
    },
    "vscode": {
     "languageId": "polyglot-notebook"
    }
   },
   "outputs": [],
   "source": [
    "visionChatHistory.AddUserMessage(new ChatMessageContentItemCollection\n",
    "{\n",
    "    new TextContent(myQuestion),\n",
    "});\n",
    "\n",
    "OpenAIPromptExecutionSettings settings = new() { MaxTokens = 500, Temperature = 0.1  };\n",
    "\n",
    "var reply = await visionChatCompletionService.GetChatMessageContentAsync(visionChatHistory, settings);\n",
    "\n",
    "Console.WriteLine(Utils.WordWrap(reply.Content, 80));"
   ]
  },
  {
   "cell_type": "markdown",
   "metadata": {},
   "source": [
    "## 📖 Marco's performances are mesmerizing stories"
   ]
  },
  {
   "cell_type": "code",
   "execution_count": null,
   "metadata": {
    "dotnet_interactive": {
     "language": "csharp"
    },
    "polyglot_notebook": {
     "kernelName": "csharp"
    },
    "vscode": {
     "languageId": "polyglot-notebook"
    }
   },
   "outputs": [],
   "source": [
    "const string marco2011 = @\"\n",
    "TED 2011 performance by Marco Tempest: The magic of truth and lies (and iPods)\n",
    "\n",
    "00:00\n",
    "\n",
    "So the type of magic I like, and I'm a magician, is magic that uses technology to create illusions. So I would like to show you something I've been working on. It's an application that I think will be useful for artists -- multimedia artists in particular. It synchronizes videos across multiple screens of mobile devices. I borrowed these three iPods from people here in the audience to show you what I mean. And I'm going to use them to tell you a little bit about my favorite subject: deception.\n",
    "\n",
    "00:36\n",
    "(Music)\n",
    "\n",
    "00:38\n",
    "One of my favorite magicians is Karl Germain. He had this wonderful trick where a rosebush would bloom right in front of your eyes. But it was his production of a butterfly that was the most beautiful.\n",
    "\n",
    "00:55\n",
    "(Recording) Announcer: Ladies and gentlemen, the creation of life.\n",
    "\n",
    "01:01\n",
    "(Applause)\n",
    "\n",
    "01:03\n",
    "(Music)\n",
    "\n",
    "01:06\n",
    "When asked about deception, he said this:\n",
    "\n",
    "01:11\n",
    "Announcer: Magic is the only honest profession. A magician promises to deceive you -- and he does.\n",
    "\n",
    "01:19\n",
    "MT: I like to think of myself as an honest magician. I use a lot of tricks, which means that sometimes I have to lie to you. Now I feel bad about that. But people lie every day.\n",
    "\n",
    "01:35\n",
    "(Ringing)\n",
    "\n",
    "01:36\n",
    "Hold on.\n",
    "\n",
    "01:37\n",
    "Phone: Hey, where are you?\n",
    "\n",
    "01:38\n",
    "MT: Stuck in traffic. I'll be there soon. You've all done it.\n",
    "\n",
    "01:43\n",
    "(Laughter)\n",
    "\n",
    "01:45\n",
    "(Music)\n",
    "\n",
    "01:46\n",
    "Right Phone: I'll be ready in just a minute, darling.\n",
    "\n",
    "01:48\n",
    "Center Phone: It's just what I've always wanted.\n",
    "\n",
    "01:51\n",
    "Left Phone: You were great.\n",
    "\n",
    "01:53\n",
    "MT: Deception, it's a fundamental part of life. Now polls show that men tell twice as many lies as women -- assuming the women they asked told the truth.\n",
    "\n",
    "02:07\n",
    "(Laughing)\n",
    "\n",
    "02:09\n",
    "We deceive to gain advantage and to hide our weaknesses. The Chinese general Sun Tzu said that all war was based on deception. Oscar Wilde said the same thing of romance.\n",
    "\n",
    "02:26\n",
    "Some people deceive for money. Let's play a game. Three cards, three chances.\n",
    "\n",
    "02:36\n",
    "Announcer: One five will get you 10, 10 will get you 20. Now, where's the lady? Where is the queen?\n",
    "\n",
    "02:43\n",
    "MT: This one? Sorry. You lose. Well, I didn't deceive you. You deceived yourself. Self-deception. That's when we convince ourselves that a lie is the truth. Sometimes it's hard to tell the two apart. Compulsive gamblers are experts at self-deception.\n",
    "\n",
    "03:08\n",
    "(Slot machine)\n",
    "\n",
    "03:10\n",
    "They believe they can win. They forget the times they lose.\n",
    "\n",
    "03:15\n",
    "The brain is very good at forgetting. Bad experiences are quickly forgotten. Bad experiences quickly disappear. Which is why in this vast and lonely cosmos, we are so wonderfully optimistic. Our self-deception becomes a positive illusion -- why movies are able to take us onto extraordinary adventures; why we believe Romeo when he says he loves Juliet; and why single notes of music, when played together, become a sonata and conjure up meaning.\n",
    "\n",
    "03:54\n",
    "That's 'Clair De lune.' Its composer, called Debussy, said that art was the greatest deception of all. Art is a deception that creates real emotions -- a lie that creates a truth. And when you give yourself over to that deception, it becomes magic.\n",
    "\";"
   ]
  },
  {
   "cell_type": "code",
   "execution_count": null,
   "metadata": {
    "dotnet_interactive": {
     "language": "csharp"
    },
    "polyglot_notebook": {
     "kernelName": "csharp"
    },
    "vscode": {
     "languageId": "polyglot-notebook"
    }
   },
   "outputs": [],
   "source": [
    "visionChatHistory.AddUserMessage(new ChatMessageContentItemCollection\n",
    "{\n",
    "    new TextContent($\"This is the transcript from Marco's magic performance: {marco2011}\"),\n",
    "});\n",
    "\n",
    "myQuestion = \"What are the key ideas to take away from how Marco performs his magic?\";\n",
    "\n",
    "#pragma warning disable SKEXP0005\n",
    "\n",
    "AudioContent audioResult = await textToAudioService\n",
    "    .GetAudioContentAsync( myQuestion,\n",
    "        new OpenAITextToAudioExecutionSettings(\"alloy\") {\n",
    "            ResponseFormat = \"mp3\", Speed = 1.0f \n",
    "        }\n",
    "    );\n",
    "\n",
    "await File.WriteAllBytesAsync(audioFileName, audioResult.Data!.ToArray());\n",
    "SoundUtils.PlaySound(audioFileName);\n",
    "\n",
    "visionChatHistory.AddUserMessage(new ChatMessageContentItemCollection\n",
    "{\n",
    "    new TextContent($\"What are the key ideas to take away from how Marco performs his magic? Be concise and limit to three sentences.\"),\n",
    "});\n",
    "\n",
    "OpenAIPromptExecutionSettings settings = new() { MaxTokens = 500, Temperature = 0.1  };\n",
    "\n",
    "var reply = await visionChatCompletionService.GetChatMessageContentAsync(visionChatHistory, settings);\n",
    "\n",
    "Console.WriteLine(Utils.WordWrap(reply.Content, 80));\n"
   ]
  },
  {
   "cell_type": "markdown",
   "metadata": {},
   "source": [
    "## 🗣️ We let AI do the rest of the magic"
   ]
  },
  {
   "cell_type": "code",
   "execution_count": null,
   "metadata": {
    "dotnet_interactive": {
     "language": "csharp"
    },
    "polyglot_notebook": {
     "kernelName": "csharp"
    },
    "vscode": {
     "languageId": "polyglot-notebook"
    }
   },
   "outputs": [],
   "source": [
    "#pragma warning disable SKEXP0005\n",
    "\n",
    "AudioContent audioResult = await textToAudioService\n",
    "    .GetAudioContentAsync( reply.Content,\n",
    "        new OpenAITextToAudioExecutionSettings(\"alloy\") {\n",
    "            ResponseFormat = \"mp3\", Speed = 1.0f \n",
    "        }\n",
    "    );\n",
    "\n",
    "await File.WriteAllBytesAsync(audioFileName, audioResult.Data!.ToArray());\n",
    "SoundUtils.PlaySound(audioFileName);"
   ]
  }
 ],
 "metadata": {
  "language_info": {
   "name": "python"
  }
 },
 "nbformat": 4,
 "nbformat_minor": 2
}
