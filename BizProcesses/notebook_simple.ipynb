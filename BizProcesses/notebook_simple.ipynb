{
 "cells": [
  {
   "cell_type": "markdown",
   "metadata": {
    "vscode": {
     "languageId": "polyglot-notebook"
    }
   },
   "source": [
    "# Process Framework Notebook\n",
    "\n",
    "## Simple Process\n",
    "\n",
    "![](simple.png)\n",
    "\n",
    "### Step 1: Importing the Required Libraries"
   ]
  },
  {
   "cell_type": "code",
   "execution_count": 1,
   "metadata": {
    "dotnet_interactive": {
     "language": "csharp"
    },
    "polyglot_notebook": {
     "kernelName": "csharp"
    },
    "vscode": {
     "languageId": "polyglot-notebook"
    }
   },
   "outputs": [
    {
     "data": {
      "text/html": [
       "<div><div></div><div></div><div><strong>Installed Packages</strong><ul><li><span>Microsoft.SemanticKernel, 1.21.1</span></li><li><span>Microsoft.SemanticKernel.Process.Abstractions, 1.21.1-alpha</span></li><li><span>Microsoft.SemanticKernel.Process.Core, 1.21.1-alpha</span></li><li><span>Microsoft.SemanticKernel.Process.LocalRuntime, 1.21.1-alpha</span></li></ul></div></div>"
      ]
     },
     "metadata": {},
     "output_type": "display_data"
    }
   ],
   "source": [
    "#r \"nuget: Microsoft.SemanticKernel, 1.21.1\"\n",
    "#r \"nuget: Microsoft.SemanticKernel.Process.Core, 1.21.1-alpha\"\n",
    "#r \"nuget: Microsoft.SemanticKernel.Process.Abstractions, 1.21.1-alpha\"\n",
    "#r \"nuget: Microsoft.SemanticKernel.Process.LocalRuntime, 1.21.1-alpha\"\n",
    "\n",
    "#!import ../config/Settings.cs\n",
    "\n",
    "using Microsoft.SemanticKernel;\n",
    "using Microsoft.SemanticKernel.Connectors.OpenAI;\n",
    "using Kernel = Microsoft.SemanticKernel.Kernel;\n",
    "using Microsoft.SemanticKernel.ChatCompletion;\n",
    "using Microsoft.SemanticKernel.Process;\n",
    "using System.ComponentModel;\n",
    "using System.Reflection;\n",
    "using System.Text.Json;\n",
    "using System.Text.Json.Serialization;\n",
    "using Microsoft.Extensions.DependencyInjection;\n",
    "/////////////////////////////////////////////////////////////////////////\n",
    "\n",
    "/////////////////////////////////////////////////////////////////////////\n",
    "//Create the kernel\n",
    "var builder = Kernel.CreateBuilder();\n",
    "/////////////////////////////////////////////////////////////////////////\n",
    "\n",
    "/////////////////////////////////////////////////////////////////////////\n",
    "// Configure AI service credentials used by the kernel\n",
    "var (useAzureOpenAI, model, azureEndpoint, apiKey, orgId) = Settings.LoadFromFile();\n",
    "\n",
    "if (useAzureOpenAI)\n",
    "    builder.AddAzureOpenAIChatCompletion(model, azureEndpoint, apiKey);\n",
    "else\n",
    "    builder.AddOpenAIChatCompletion(model, apiKey, orgId);\n",
    "/////////////////////////////////////////////////////////////////////////\n",
    "\n",
    "/////////////////////////////////////////////////////////////////////////\n",
    "// Build the kernel\n",
    "var kernel = builder.Build();\n",
    "/////////////////////////////////////////////////////////////////////////\n",
    "#pragma warning disable SKEXP0001, SKEXP0010, SKEXP0080\n",
    "\n",
    "/////////////////////////////////////////////////////////////////////////\n",
    "// Create a new Process\n",
    "ProcessBuilder process = new(\"BasicChatBot\");\n",
    "/////////////////////////////////////////////////////////////////////////\n"
   ]
  },
  {
   "cell_type": "markdown",
   "metadata": {},
   "source": [
    "## Setup the Classes for the Account Process\n",
    "\n",
    "### Step 2: Define the Account Process Step Classes\n"
   ]
  },
  {
   "cell_type": "code",
   "execution_count": 2,
   "metadata": {
    "dotnet_interactive": {
     "language": "csharp"
    },
    "polyglot_notebook": {
     "kernelName": "csharp"
    },
    "vscode": {
     "languageId": "polyglot-notebook"
    }
   },
   "outputs": [],
   "source": [
    "#pragma warning disable SKEXP0001, SKEXP0010,SKEXP0080\n",
    "/////////////////////////////////////////////////////////////////////////\n",
    "//Setup all of the classes to be used in the process\n",
    "////////////////////////////////////////////////////////////////////////\n",
    "\n",
    "\n",
    "/////////////////////////////////////////////////////////////////////////\n",
    "//Setup CommonEvents that can be used across multiple processes\n",
    "public static class CommonEvents\n",
    "{\n",
    "    public static readonly string UserInputReceived = nameof(UserInputReceived);\n",
    "    public static readonly string AssistantResponseGenerated = nameof(AssistantResponseGenerated);\n",
    "}\n",
    "/////////////////////////////////////////////////////////////////////////\n",
    "\n",
    "\n",
    "/////////////////////////////////////////////////////////////////////////\n",
    "//Setup ScriptedUserInput Step to act as a user\n",
    "public class ScriptedUserInputStep : KernelProcessStep<UserInputState>\n",
    "{\n",
    "    public static class Functions\n",
    "    {\n",
    "        public const string GetUserInput = nameof(GetUserInput);\n",
    "    }\n",
    "\n",
    "    /// <summary>\n",
    "    /// The state object for the user input step. This object holds the user inputs and the current input index.\n",
    "    /// </summary>\n",
    "    protected UserInputState? _state;\n",
    "\n",
    "    /// <summary>\n",
    "    /// Method to be overridden by the user to populate with custom user messages\n",
    "    /// </summary>\n",
    "    public virtual void PopulateUserInputs()\n",
    "    {\n",
    "        return;\n",
    "    }\n",
    "\n",
    "    /// <summary>\n",
    "    /// Activates the user input step by initializing the state object. This method is called when the process is started\n",
    "    /// and before any of the KernelFunctions are invoked.\n",
    "    /// </summary>\n",
    "    /// <param name=\"state\">The state object for the step.</param>\n",
    "    /// <returns>A <see cref=\"ValueTask\"/></returns>\n",
    "    public override ValueTask ActivateAsync(KernelProcessStepState<UserInputState> state)\n",
    "    {\n",
    "        state.State ??= new();\n",
    "        _state = state.State;\n",
    "\n",
    "        PopulateUserInputs();\n",
    "\n",
    "        return ValueTask.CompletedTask;\n",
    "    }\n",
    "\n",
    "    /// <summary>\n",
    "    /// Gets the user input.\n",
    "    /// </summary>\n",
    "    /// <param name=\"context\">An instance of <see cref=\"KernelProcessStepContext\"/> which can be\n",
    "    /// used to emit events from within a KernelFunction.</param>\n",
    "    /// <returns>A <see cref=\"ValueTask\"/></returns>\n",
    "    [KernelFunction(Functions.GetUserInput)]\n",
    "    public async ValueTask GetUserInputAsync(KernelProcessStepContext context)\n",
    "    {\n",
    "        var userMessage = _state!.UserInputs[_state.CurrentInputIndex];\n",
    "        _state.CurrentInputIndex++;\n",
    "\n",
    "        Console.ForegroundColor = ConsoleColor.Yellow;\n",
    "        Console.WriteLine($\"USER: {userMessage}\");\n",
    "        Console.ResetColor();\n",
    "\n",
    "        // Emit the user input\n",
    "        await context.EmitEventAsync(new() { Id = CommonEvents.UserInputReceived, Data = userMessage });\n",
    "    }\n",
    "}\n",
    "/////////////////////////////////////////////////////////////////////////\n",
    "\n",
    "/// <summary>\n",
    "/// The state object for the <see cref=\"ScriptedUserInputStep\"/>\n",
    "/// </summary>\n",
    "\n",
    "\n",
    "/////////////////////////////////////////////////////////////////////////\n",
    "//Setup UserInput State to hold the user inputs\n",
    "public record UserInputState\n",
    "{\n",
    "    public List<string> UserInputs { get; init; } = [];\n",
    "\n",
    "    public int CurrentInputIndex { get; set; } = 0;\n",
    "}\n",
    "/////////////////////////////////////////////////////////////////////////\n",
    "\n",
    "\n",
    "/////////////////////////////////////////////////////////////////////////\n",
    "//Setup DisplayAssistantMessage Step to act as an assistant\n",
    "public class DisplayAssistantMessageStep : KernelProcessStep\n",
    "{\n",
    "    public static class Functions\n",
    "    {\n",
    "        public const string DisplayAssistantMessage = nameof(DisplayAssistantMessage);\n",
    "    }\n",
    "\n",
    "    [KernelFunction(Functions.DisplayAssistantMessage)]\n",
    "    public async ValueTask DisplayAssistantMessageAsync(KernelProcessStepContext context, string assistantMessage)\n",
    "    {\n",
    "        Console.ForegroundColor = ConsoleColor.Blue;\n",
    "        Console.WriteLine($\"ASSISTANT: {assistantMessage}\\n\");\n",
    "        Console.ResetColor();\n",
    "\n",
    "        // Emit the assistantMessageGenerated\n",
    "        await context.EmitEventAsync(new() { Id = CommonEvents.AssistantResponseGenerated, Data = assistantMessage });\n",
    "    }\n",
    "}\n",
    "/////////////////////////////////////////////////////////////////////////\n",
    "\n",
    "\n",
    "/////////////////////////////////////////////////////////////////////////\n",
    "//Setup Intro Step to get the first request from the user\n",
    " private sealed class IntroStep : KernelProcessStep\n",
    "    {\n",
    "        /// <summary>\n",
    "        /// Prints an introduction message to the console.\n",
    "        /// </summary>\n",
    "        [KernelFunction]\n",
    "        public void PrintIntroMessage()\n",
    "        {\n",
    "            System.Console.WriteLine(\"Welcome to Processes in Semantic Kernel.\\n\");\n",
    "        }\n",
    "    }\n",
    "/////////////////////////////////////////////////////////////////////////\n",
    "\n",
    "\n",
    "    /// <summary>\n",
    "    /// A step that elicits user input.\n",
    "    /// </summary>\n",
    "\n",
    "    /////////////////////////////////////////////////////////////////////////\n",
    "    //Setup ChatUserInput Step to get the chat input\n",
    "    private sealed class ChatUserInputStep : ScriptedUserInputStep\n",
    "    {\n",
    "        public override void PopulateUserInputs()\n",
    "        {\n",
    "            if (_state != null)\n",
    "            {\n",
    "                _state.UserInputs.Add(\"Hello\");\n",
    "                _state.UserInputs.Add(\"How tall is the tallest mountain?\");\n",
    "                _state.UserInputs.Add(\"How low is the lowest valley?\");\n",
    "                _state.UserInputs.Add(\"How wide is the widest river?\");\n",
    "                _state.UserInputs.Add(\"exit\");\n",
    "            }\n",
    "        }\n",
    "    }\n",
    "    /////////////////////////////////////////////////////////////////////////\n",
    "\n",
    "\n",
    "    /// <summary>\n",
    "    /// A step that takes the user input from a previous step and generates a response from the chat completion service.\n",
    "    /// </summary>\n",
    "\n",
    "\n",
    "    /////////////////////////////////////////////////////////////////////////\n",
    "    //Setup ChatBotResponse Step to get the response\n",
    "    private sealed class ChatBotResponseStep : KernelProcessStep<ChatBotState>\n",
    "    {\n",
    "        public static class Functions\n",
    "        {\n",
    "            public const string GetChatResponse = nameof(GetChatResponse);\n",
    "        }\n",
    "\n",
    "        /// <summary>\n",
    "        /// The internal state object for the chat bot response step.\n",
    "        /// </summary>\n",
    "        internal ChatBotState? _state;\n",
    "\n",
    "        /// <summary>\n",
    "        /// ActivateAsync is the place to initialize the state object for the step.\n",
    "        /// </summary>\n",
    "        /// <param name=\"state\">An instance of <see cref=\"ChatBotState\"/></param>\n",
    "        /// <returns>A <see cref=\"ValueTask\"/></returns>\n",
    "        public override ValueTask ActivateAsync(KernelProcessStepState<ChatBotState> state)\n",
    "        {\n",
    "            _state = state.State ?? new();\n",
    "            _state.ChatMessages ??= new();\n",
    "            return ValueTask.CompletedTask;\n",
    "        }\n",
    "\n",
    "        /// <summary>\n",
    "        /// Generates a response from the chat completion service.\n",
    "        /// </summary>\n",
    "        /// <param name=\"context\">The context for the current step and process. <see cref=\"KernelProcessStepContext\"/></param>\n",
    "        /// <param name=\"userMessage\">The user message from a previous step.</param>\n",
    "        /// <param name=\"_kernel\">A <see cref=\"Kernel\"/> instance.</param>\n",
    "        /// <returns></returns>\n",
    "        [KernelFunction(Functions.GetChatResponse)]\n",
    "        public async Task GetChatResponseAsync(KernelProcessStepContext context, string userMessage, Kernel _kernel)\n",
    "        {\n",
    "            _state!.ChatMessages.Add(new(AuthorRole.User, userMessage));\n",
    "            IChatCompletionService chatService = _kernel.Services.GetRequiredService<IChatCompletionService>();\n",
    "            ChatMessageContent response = await chatService.GetChatMessageContentAsync(_state.ChatMessages).ConfigureAwait(false);\n",
    "            if (response == null)\n",
    "            {\n",
    "                throw new InvalidOperationException(\"Failed to get a response from the chat completion service.\");\n",
    "            }\n",
    "\n",
    "            System.Console.ForegroundColor = ConsoleColor.Yellow;\n",
    "            System.Console.Write(\"Assistant: \");\n",
    "            System.Console.ResetColor();\n",
    "            System.Console.WriteLine(response.Content);\n",
    "\n",
    "            // Update state with the response\n",
    "            _state.ChatMessages.Add(response);\n",
    "\n",
    "            // emit event: assistantResponse\n",
    "            await context.EmitEventAsync(new KernelProcessEvent { Id = ChatBotEvents.AssistantResponseGenerated, Data = response });\n",
    "        }\n",
    "    }\n",
    "    /////////////////////////////////////////////////////////////////////////\n",
    "\n",
    "\n",
    "\n",
    "    /// <summary>\n",
    "    /// The state object for the <see cref=\"ChatBotResponseStep\"/>.\n",
    "    /// </summary>\n",
    "\n",
    "    \n",
    "    private sealed class ChatBotState\n",
    "    {\n",
    "        internal ChatHistory ChatMessages { get; set; } = new();\n",
    "    }\n",
    "\n",
    "    /// <summary>\n",
    "    /// A class that defines the events that can be emitted by the chat bot process. This is\n",
    "    /// not required but used to ensure that the event names are consistent.\n",
    "    /// </summary>\n",
    "    private static class ChatBotEvents\n",
    "    {\n",
    "        public const string StartProcess = \"startProcess\";\n",
    "        public const string IntroComplete = \"introComplete\";\n",
    "        public const string AssistantResponseGenerated = \"assistantResponseGenerated\";\n",
    "        public const string Exit = \"exit\";\n",
    "    }"
   ]
  },
  {
   "cell_type": "markdown",
   "metadata": {},
   "source": [
    "### Step 3: Create the Step Objects"
   ]
  },
  {
   "cell_type": "code",
   "execution_count": 3,
   "metadata": {
    "dotnet_interactive": {
     "language": "csharp"
    },
    "polyglot_notebook": {
     "kernelName": "csharp"
    },
    "vscode": {
     "languageId": "polyglot-notebook"
    }
   },
   "outputs": [],
   "source": [
    " #pragma warning disable SKEXP0001, SKEXP0010,SKEXP0080\n",
    " \n",
    "        var introStep = process.AddStepFromType<IntroStep>();\n",
    "        var userInputStep = process.AddStepFromType<ChatUserInputStep>();\n",
    "        var responseStep = process.AddStepFromType<ChatBotResponseStep>();"
   ]
  },
  {
   "cell_type": "markdown",
   "metadata": {},
   "source": [
    "### Step 4: Define the patterns for each step"
   ]
  },
  {
   "cell_type": "code",
   "execution_count": 4,
   "metadata": {
    "dotnet_interactive": {
     "language": "csharp"
    },
    "polyglot_notebook": {
     "kernelName": "csharp"
    },
    "vscode": {
     "languageId": "polyglot-notebook"
    }
   },
   "outputs": [],
   "source": [
    " #pragma warning disable SKEXP0001, SKEXP0010,SKEXP0080\n",
    "\n",
    "        process\n",
    "            .OnExternalEvent(ChatBotEvents.StartProcess)\n",
    "            .SendEventTo(new ProcessFunctionTargetBuilder(introStep));\n",
    "\n",
    "        // When the intro is complete, notify the userInput step\n",
    "        introStep\n",
    "            .OnFunctionResult(nameof(IntroStep.PrintIntroMessage))\n",
    "            .SendEventTo(new ProcessFunctionTargetBuilder(userInputStep));\n",
    "\n",
    "        // When the userInput step emits an exit event, send it to the end steprt\n",
    "        userInputStep\n",
    "            .OnFunctionResult(\"GetUserInput\")\n",
    "            .StopProcess();\n",
    "\n",
    "        // When the userInput step emits a user input event, send it to the assistantResponse step\n",
    "        userInputStep\n",
    "            .OnEvent(CommonEvents.UserInputReceived)\n",
    "            .SendEventTo(new ProcessFunctionTargetBuilder(responseStep, parameterName: \"userMessage\"));\n",
    "\n",
    "        // When the assistantResponse step emits a response, send it to the userInput step\n",
    "        responseStep\n",
    "            .OnEvent(ChatBotEvents.AssistantResponseGenerated)\n",
    "            .SendEventTo(new ProcessFunctionTargetBuilder(userInputStep));\n",
    "\n",
    "        KernelProcess kernelProcess = process.Build();"
   ]
  },
  {
   "cell_type": "markdown",
   "metadata": {},
   "source": [
    "### Start the Process"
   ]
  },
  {
   "cell_type": "code",
   "execution_count": 5,
   "metadata": {
    "dotnet_interactive": {
     "language": "csharp"
    },
    "polyglot_notebook": {
     "kernelName": "csharp"
    },
    "vscode": {
     "languageId": "polyglot-notebook"
    }
   },
   "outputs": [
    {
     "name": "stdout",
     "output_type": "stream",
     "text": [
      "Welcome to Processes in Semantic Kernel.\n",
      "\n",
      "USER: Hello\n",
      "Assistant: Hi there! How can I assist you today?\n",
      "USER: How tall is the tallest mountain?\n",
      "Assistant: The tallest mountain in the world is Mount Everest, which stands at approximately 29,032 feet (8,848 meters) above sea level. This measurement can vary slightly due to snow and other atmospheric conditions. Mount Everest is located in the Himalaya mountain range, on the border between Nepal and the Tibet Autonomous Region of China.\n",
      "USER: How low is the lowest valley?\n",
      "Assistant: The lowest point on Earth's land surface is the shoreline of the Dead Sea Depression. The Dead Sea itself sits at approximately 1,410 feet (430 meters) below sea level, but this depth can vary due to changes in water level. The Dead Sea Depression is located in the Jordan Rift Valley, bordered by Jordan to the east and Israel and the West Bank to the west. This unique area is well-known for its extremely high salinity levels, which create a harsh environment for most forms of life and allow people to float effortlessly on the water's surface.\n",
      "USER: How wide is the widest river?\n",
      "Assistant: The Amazon River is often considered the widest river in the world. During the rainy season, it can reach widths of up to 30 miles (48 kilometers) or more in some areas. The Amazon is not only extraordinarily wide but also one of the longest and most voluminous rivers globally, discharging more water than the next seven largest rivers combined. It flows through several South American countries, with the majority of its basin in Brazil. The sheer scale of the Amazon River makes it a critical part of the continent's geography and ecology.\n",
      "USER: exit\n",
      "Assistant: If you have any more questions in the future, feel free to ask. Have a great day!\n"
     ]
    }
   ],
   "source": [
    " #pragma warning disable SKEXP0001, SKEXP0010,SKEXP0080\n",
    " \n",
    "// Start the process with an initial external event\n",
    "var runningProcess = await kernelProcess.StartAsync(kernel, new KernelProcessEvent() { Id = ChatBotEvents.StartProcess, Data = null });"
   ]
  }
 ],
 "metadata": {
  "kernelspec": {
   "display_name": ".NET (C#)",
   "language": "C#",
   "name": ".net-csharp"
  },
  "language_info": {
   "name": "python"
  },
  "polyglot_notebook": {
   "kernelInfo": {
    "defaultKernelName": "csharp",
    "items": [
     {
      "aliases": [],
      "name": "csharp"
     }
    ]
   }
  }
 },
 "nbformat": 4,
 "nbformat_minor": 2
}
