{
 "cells": [
  {
   "cell_type": "markdown",
   "metadata": {
    "vscode": {
     "languageId": "polyglot-notebook"
    }
   },
   "source": [
    "# Process Framework Notebook\n",
    "\n",
    "## Simple Process\n",
    "\n",
    "![](simple.png)\n",
    "\n",
    "### Step 1: Importing the Required Libraries"
   ]
  },
  {
   "cell_type": "code",
   "execution_count": null,
   "metadata": {
    "dotnet_interactive": {
     "language": "csharp"
    },
    "polyglot_notebook": {
     "kernelName": "csharp"
    },
    "vscode": {
     "languageId": "polyglot-notebook"
    }
   },
   "outputs": [],
   "source": [
    "#r \"nuget: Microsoft.SemanticKernel, 1.21.1\"\n",
    "#r \"nuget: Microsoft.SemanticKernel.Process.Core, 1.21.1-alpha\"\n",
    "#r \"nuget: Microsoft.SemanticKernel.Process.Abstractions, 1.21.1-alpha\"\n",
    "#r \"nuget: Microsoft.SemanticKernel.Process.LocalRuntime, 1.21.1-alpha\"\n",
    "\n",
    "#!import ../config/Settings.cs\n",
    "\n",
    "using Microsoft.SemanticKernel;\n",
    "using Microsoft.SemanticKernel.Connectors.OpenAI;\n",
    "using Kernel = Microsoft.SemanticKernel.Kernel;\n",
    "using Microsoft.SemanticKernel.ChatCompletion;\n",
    "using Microsoft.SemanticKernel.Process;\n",
    "using System.ComponentModel;\n",
    "using System.Reflection;\n",
    "using System.Text.Json;\n",
    "using System.Text.Json.Serialization;\n",
    "using Microsoft.Extensions.DependencyInjection;\n",
    "\n",
    "var builder = Kernel.CreateBuilder();\n",
    "\n",
    "var (useAzureOpenAI, model, azureEndpoint, apiKey, orgId) = Settings.LoadFromFile();\n",
    "\n",
    "if (useAzureOpenAI)\n",
    "    builder.AddAzureOpenAIChatCompletion(model, azureEndpoint, apiKey);\n",
    "else\n",
    "    builder.AddOpenAIChatCompletion(model, apiKey, orgId);\n",
    "\n",
    "var kernel = builder.Build();\n",
    "\n",
    "#pragma warning disable SKEXP0001, SKEXP0010, SKEXP0080\n",
    "\n",
    "ProcessBuilder process = new(\"BasicChatBot\");"
   ]
  },
  {
   "cell_type": "markdown",
   "metadata": {},
   "source": [
    "## Setup the Classes for the Account Process\n",
    "\n",
    "### Step 2: Define the Account Process Step Classes\n"
   ]
  },
  {
   "cell_type": "code",
   "execution_count": 7,
   "metadata": {
    "dotnet_interactive": {
     "language": "csharp"
    },
    "polyglot_notebook": {
     "kernelName": "csharp"
    },
    "vscode": {
     "languageId": "polyglot-notebook"
    }
   },
   "outputs": [],
   "source": [
    "#pragma warning disable SKEXP0001, SKEXP0010,SKEXP0080\n",
    "\n",
    "public static class CommonEvents\n",
    "{\n",
    "    public static readonly string UserInputReceived = nameof(UserInputReceived);\n",
    "    public static readonly string AssistantResponseGenerated = nameof(AssistantResponseGenerated);\n",
    "}\n",
    "\n",
    "public class ScriptedUserInputStep : KernelProcessStep<UserInputState>\n",
    "{\n",
    "    public static class Functions\n",
    "    {\n",
    "        public const string GetUserInput = nameof(GetUserInput);\n",
    "    }\n",
    "    protected UserInputState? _state;\n",
    "    public virtual void PopulateUserInputs()\n",
    "    {\n",
    "        return;\n",
    "    }\n",
    "    public override ValueTask ActivateAsync(KernelProcessStepState<UserInputState> state)\n",
    "    {\n",
    "        state.State ??= new();\n",
    "        _state = state.State;\n",
    "\n",
    "        PopulateUserInputs();\n",
    "\n",
    "        return ValueTask.CompletedTask;\n",
    "    }\n",
    "\n",
    "    /// <summary>\n",
    "    /// Gets the user input.\n",
    "    /// </summary>\n",
    "    [KernelFunction(Functions.GetUserInput)]\n",
    "    public async ValueTask GetUserInputAsync(KernelProcessStepContext context)\n",
    "    {\n",
    "        var userMessage = _state!.UserInputs[_state.CurrentInputIndex];\n",
    "        _state.CurrentInputIndex++;\n",
    "\n",
    "        Console.ForegroundColor = ConsoleColor.Yellow;\n",
    "        Console.WriteLine($\"USER: {userMessage}\");\n",
    "        Console.ResetColor();\n",
    "\n",
    "        // Emit the user input\n",
    "        await context.EmitEventAsync(new() { Id = CommonEvents.UserInputReceived, Data = userMessage });\n",
    "    }\n",
    "}\n",
    "\n",
    "public record UserInputState\n",
    "{\n",
    "    public List<string> UserInputs { get; init; } = [];\n",
    "\n",
    "    public int CurrentInputIndex { get; set; } = 0;\n",
    "}\n",
    "\n",
    "public class DisplayAssistantMessageStep : KernelProcessStep\n",
    "{\n",
    "    public static class Functions\n",
    "    {\n",
    "        public const string DisplayAssistantMessage = nameof(DisplayAssistantMessage);\n",
    "    }\n",
    "\n",
    "    [KernelFunction(Functions.DisplayAssistantMessage)]\n",
    "    public async ValueTask DisplayAssistantMessageAsync(KernelProcessStepContext context, string assistantMessage)\n",
    "    {\n",
    "        Console.ForegroundColor = ConsoleColor.Blue;\n",
    "        Console.WriteLine($\"ASSISTANT: {assistantMessage}\\n\");\n",
    "        Console.ResetColor();\n",
    "\n",
    "        // Emit the assistantMessageGenerated\n",
    "        await context.EmitEventAsync(new() { Id = CommonEvents.AssistantResponseGenerated, Data = assistantMessage });\n",
    "    }\n",
    "}\n",
    "\n",
    "private sealed class IntroStep : KernelProcessStep\n",
    "{\n",
    "    /// <summary>\n",
    "    /// Prints an introduction message to the console.\n",
    "    /// </summary>\n",
    "    [KernelFunction]\n",
    "    public void PrintIntroMessage()\n",
    "    {\n",
    "        System.Console.WriteLine(\"Welcome to Processes in Semantic Kernel.\\n\");\n",
    "    }\n",
    "}\n",
    "    //Setup ChatUserInput Step to get the chat input\n",
    "    private sealed class ChatUserInputStep : ScriptedUserInputStep\n",
    "    {\n",
    "        public override void PopulateUserInputs()\n",
    "        {\n",
    "            if (_state != null)\n",
    "            {\n",
    "                _state.UserInputs.Add(\"Hello\");\n",
    "                _state.UserInputs.Add(\"How tall is the tallest mountain?\");\n",
    "                _state.UserInputs.Add(\"How low is the lowest valley?\");\n",
    "                _state.UserInputs.Add(\"How wide is the widest river?\");\n",
    "                _state.UserInputs.Add(\"exit\");\n",
    "            }\n",
    "        }\n",
    "    }\n",
    "\n",
    "    private sealed class ChatBotResponseStep : KernelProcessStep<ChatBotState>\n",
    "    {\n",
    "        public static class Functions\n",
    "        {\n",
    "            public const string GetChatResponse = nameof(GetChatResponse);\n",
    "        }\n",
    "\n",
    "        internal ChatBotState? _state;\n",
    "\n",
    "        public override ValueTask ActivateAsync(KernelProcessStepState<ChatBotState> state)\n",
    "        {\n",
    "            _state = state.State ?? new();\n",
    "            _state.ChatMessages ??= new();\n",
    "            return ValueTask.CompletedTask;\n",
    "        }\n",
    "\n",
    "        [KernelFunction(Functions.GetChatResponse)]\n",
    "        public async Task GetChatResponseAsync(KernelProcessStepContext context, string userMessage, Kernel _kernel)\n",
    "        {\n",
    "            _state!.ChatMessages.Add(new(AuthorRole.User, userMessage));\n",
    "            IChatCompletionService chatService = _kernel.Services.GetRequiredService<IChatCompletionService>();\n",
    "            ChatMessageContent response = await chatService.GetChatMessageContentAsync(_state.ChatMessages).ConfigureAwait(false);\n",
    "            if (response == null)\n",
    "            {\n",
    "                throw new InvalidOperationException(\"Failed to get a response from the chat completion service.\");\n",
    "            }\n",
    "\n",
    "            System.Console.ForegroundColor = ConsoleColor.Yellow;\n",
    "            System.Console.Write(\"Assistant: \");\n",
    "            System.Console.ResetColor();\n",
    "            System.Console.WriteLine(response.Content);\n",
    "\n",
    "            // Update state with the response\n",
    "            _state.ChatMessages.Add(response);\n",
    "\n",
    "            // emit event: assistantResponse\n",
    "            await context.EmitEventAsync(new KernelProcessEvent { Id = ChatBotEvents.AssistantResponseGenerated, Data = response });\n",
    "        }\n",
    "    }\n",
    "    private sealed class ChatBotState\n",
    "    {\n",
    "        internal ChatHistory ChatMessages { get; set; } = new();\n",
    "    }\n",
    "    private static class ChatBotEvents\n",
    "    {\n",
    "        public const string StartProcess = \"startProcess\";\n",
    "        public const string IntroComplete = \"introComplete\";\n",
    "        public const string AssistantResponseGenerated = \"assistantResponseGenerated\";\n",
    "        public const string Exit = \"exit\";\n",
    "    }"
   ]
  },
  {
   "cell_type": "markdown",
   "metadata": {},
   "source": [
    "### Step 3: Create the Step Objects"
   ]
  },
  {
   "cell_type": "code",
   "execution_count": 8,
   "metadata": {
    "dotnet_interactive": {
     "language": "csharp"
    },
    "polyglot_notebook": {
     "kernelName": "csharp"
    },
    "vscode": {
     "languageId": "polyglot-notebook"
    }
   },
   "outputs": [],
   "source": [
    "#pragma warning disable SKEXP0001, SKEXP0010,SKEXP0080\n",
    "\n",
    "var introStep = process.AddStepFromType<IntroStep>();\n",
    "var userInputStep = process.AddStepFromType<ChatUserInputStep>();\n",
    "var responseStep = process.AddStepFromType<ChatBotResponseStep>();"
   ]
  },
  {
   "cell_type": "markdown",
   "metadata": {},
   "source": [
    "### Step 4: Define the patterns for each step"
   ]
  },
  {
   "cell_type": "code",
   "execution_count": 5,
   "metadata": {
    "dotnet_interactive": {
     "language": "csharp"
    },
    "polyglot_notebook": {
     "kernelName": "csharp"
    },
    "vscode": {
     "languageId": "polyglot-notebook"
    }
   },
   "outputs": [],
   "source": [
    "#pragma warning disable SKEXP0001, SKEXP0010,SKEXP0080\n",
    "\n",
    "process\n",
    "    .OnExternalEvent(ChatBotEvents.StartProcess)\n",
    "    .SendEventTo(new ProcessFunctionTargetBuilder(introStep));\n",
    "\n",
    "// When the intro is complete, notify the userInput step\n",
    "introStep\n",
    "    .OnFunctionResult(nameof(IntroStep.PrintIntroMessage))\n",
    "    .SendEventTo(new ProcessFunctionTargetBuilder(userInputStep));\n",
    "\n",
    "// When the userInput step emits an exit event, send it to the end steprt\n",
    "userInputStep\n",
    "    .OnFunctionResult(\"GetUserInput\")\n",
    "    .StopProcess();\n",
    "\n",
    "// When the userInput step emits a user input event, send it to the assistantResponse step\n",
    "userInputStep\n",
    "    .OnEvent(CommonEvents.UserInputReceived)\n",
    "    .SendEventTo(new ProcessFunctionTargetBuilder(responseStep, parameterName: \"userMessage\"));\n",
    "\n",
    "// When the assistantResponse step emits a response, send it to the userInput step\n",
    "responseStep\n",
    "    .OnEvent(ChatBotEvents.AssistantResponseGenerated)\n",
    "    .SendEventTo(new ProcessFunctionTargetBuilder(userInputStep));\n",
    "\n",
    "KernelProcess kernelProcess = process.Build();"
   ]
  },
  {
   "cell_type": "markdown",
   "metadata": {},
   "source": [
    "### Start the Process"
   ]
  },
  {
   "cell_type": "code",
   "execution_count": null,
   "metadata": {
    "dotnet_interactive": {
     "language": "csharp"
    },
    "polyglot_notebook": {
     "kernelName": "csharp"
    },
    "vscode": {
     "languageId": "polyglot-notebook"
    }
   },
   "outputs": [],
   "source": [
    " #pragma warning disable SKEXP0001, SKEXP0010,SKEXP0080\n",
    " \n",
    "// Start the process with an initial external event\n",
    "var runningProcess = await kernelProcess.StartAsync(kernel, new KernelProcessEvent() { Id = ChatBotEvents.StartProcess, Data = null });"
   ]
  }
 ],
 "metadata": {
  "kernelspec": {
   "display_name": ".NET (C#)",
   "language": "C#",
   "name": ".net-csharp"
  },
  "language_info": {
   "name": "python"
  },
  "polyglot_notebook": {
   "kernelInfo": {
    "defaultKernelName": "csharp",
    "items": [
     {
      "aliases": [],
      "name": "csharp"
     }
    ]
   }
  }
 },
 "nbformat": 4,
 "nbformat_minor": 2
}
