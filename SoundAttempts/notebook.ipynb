{
 "cells": [
  {
   "cell_type": "markdown",
   "metadata": {},
   "source": [
    "# This is code that didn't get to where I wanted it to get ... yet."
   ]
  },
  {
   "cell_type": "code",
   "execution_count": null,
   "metadata": {
    "vscode": {
     "languageId": "polyglot-notebook"
    }
   },
   "outputs": [],
   "source": [
    "#r \"nuget: NetCoreAudio, 2.0.0\""
   ]
  },
  {
   "cell_type": "code",
   "execution_count": null,
   "metadata": {
    "dotnet_interactive": {
     "language": "csharp"
    },
    "polyglot_notebook": {
     "kernelName": "csharp"
    },
    "vscode": {
     "languageId": "polyglot-notebook"
    }
   },
   "outputs": [],
   "source": [
    "#r \"nuget: FFMpegCore, 5.1.0\""
   ]
  },
  {
   "cell_type": "code",
   "execution_count": null,
   "metadata": {
    "dotnet_interactive": {
     "language": "csharp"
    },
    "polyglot_notebook": {
     "kernelName": "csharp"
    },
    "vscode": {
     "languageId": "polyglot-notebook"
    }
   },
   "outputs": [],
   "source": [
    "using System;\n",
    "using System.Threading.Tasks;\n",
    "using FFMpegCore;\n",
    "\n",
    "static async Task RecordAudio(string outputFilePath, int durationInSeconds)\n",
    "    {\n",
    "        var args = FFMpegArguments\n",
    "            .FromDeviceInput(\"\", options => \n",
    "                options.ForceFormat(\"avfoundation\")\n",
    "                       .WithCustomArgument(\"-i \\\":1\\\"\")) // Specify the input device\n",
    "            .OutputToFile(outputFilePath, overwrite: true, options => \n",
    "                options.WithDuration(TimeSpan.FromSeconds(durationInSeconds))); // Specify the output file and duration\n",
    "\n",
    "        try\n",
    "        {\n",
    "            await args.ProcessAsynchronously();\n",
    "            Console.WriteLine(\"Audio recording completed successfully.\");\n",
    "        }\n",
    "        catch (Exception ex)\n",
    "        {\n",
    "            Console.WriteLine(\"Exception during recording: \" + ex.Message);\n",
    "        }\n",
    "    }\n"
   ]
  },
  {
   "cell_type": "code",
   "execution_count": null,
   "metadata": {
    "dotnet_interactive": {
     "language": "csharp"
    },
    "polyglot_notebook": {
     "kernelName": "csharp"
    },
    "vscode": {
     "languageId": "polyglot-notebook"
    }
   },
   "outputs": [],
   "source": [
    "        await RecordAudio(\"output.wav\", 3); // Record for 10 seconds\n"
   ]
  },
  {
   "cell_type": "code",
   "execution_count": null,
   "metadata": {
    "dotnet_interactive": {
     "language": "csharp"
    },
    "polyglot_notebook": {
     "kernelName": "csharp"
    },
    "vscode": {
     "languageId": "polyglot-notebook"
    }
   },
   "outputs": [],
   "source": [
    "using System;\n",
    "using System.Threading.Tasks;\n",
    "using NetCoreAudio;\n",
    "\n",
    "    var recorder = new Recorder();\n",
    "\n",
    "    var fileName=\"example.wav\";\n",
    "\n",
    "        await recorder.Record(fileName);"
   ]
  },
  {
   "cell_type": "code",
   "execution_count": null,
   "metadata": {
    "dotnet_interactive": {
     "language": "csharp"
    },
    "polyglot_notebook": {
     "kernelName": "csharp"
    },
    "vscode": {
     "languageId": "polyglot-notebook"
    }
   },
   "outputs": [],
   "source": [
    "            await recorder.Stop();\n"
   ]
  },
  {
   "cell_type": "code",
   "execution_count": null,
   "metadata": {
    "vscode": {
     "languageId": "polyglot-notebook"
    }
   },
   "outputs": [],
   "source": [
    "using System;\n",
    "using System.Threading.Tasks;\n",
    "using NetCoreAudio;\n",
    "\n",
    "async Task RecordForDuration(string fileName, int durationInSeconds)\n",
    "{\n",
    "    var recorder = new Recorder();\n",
    "\n",
    "    try\n",
    "    {\n",
    "        Console.WriteLine($\"Recording into {fileName} for {durationInSeconds} seconds\");\n",
    "        await recorder.Record(fileName);\n",
    "\n",
    "        if (recorder.Recording)\n",
    "        {\n",
    "            Console.WriteLine(\"Recording started\");\n",
    "            // Wait for the specified duration\n",
    "            await Task.Delay(durationInSeconds * 1000);\n",
    "            // Stop the recording\n",
    "            await recorder.Stop();\n",
    "            Console.WriteLine(\"Recording stopped\");\n",
    "        }\n",
    "        else\n",
    "        {\n",
    "            Console.WriteLine(\"Could not start recording\");\n",
    "        }\n",
    "    }\n",
    "    catch (Exception ex)\n",
    "    {\n",
    "        Console.WriteLine(ex.Message);\n",
    "    }\n",
    "}\n",
    "\n",
    "await RecordForDuration(\"example.wav\", 3);\n"
   ]
  },
  {
   "cell_type": "code",
   "execution_count": null,
   "metadata": {
    "vscode": {
     "languageId": "polyglot-notebook"
    }
   },
   "outputs": [],
   "source": [
    "await RecordForDuration(\"yourFileName.wav\", 3);"
   ]
  },
  {
   "cell_type": "code",
   "execution_count": null,
   "metadata": {
    "dotnet_interactive": {
     "language": "csharp"
    },
    "polyglot_notebook": {
     "kernelName": "csharp"
    },
    "vscode": {
     "languageId": "polyglot-notebook"
    }
   },
   "outputs": [],
   "source": [
    "\n",
    "using System;\n",
    "using System.Threading.Tasks;\n",
    "using NetCoreAudio;\n",
    "\n",
    "        static async Task PlaySound(string fileName)\n",
    "        {\n",
    "            var player = new Player();\n",
    "            player.PlaybackFinished += OnPlaybackFinished;\n",
    "\n",
    "            try\n",
    "            {\n",
    "                Console.WriteLine($\"Playing {fileName}\");\n",
    "                await player.Play(fileName);\n",
    "                Console.WriteLine(player.Playing ? \"Playback started\" : \"Could not start the playback\");\n",
    "\n",
    "                // Wait for playback to finish\n",
    "                while (player.Playing)\n",
    "                {\n",
    "                    await Task.Delay(500); // Check every half-second if still playing\n",
    "                }\n",
    "            }\n",
    "            catch (Exception ex)\n",
    "            {\n",
    "                Console.WriteLine($\"An error occurred: {ex.Message}\");\n",
    "            }\n",
    "        }\n",
    "\n",
    "        static void OnPlaybackFinished(object sender, EventArgs e)\n",
    "        {\n",
    "            Console.WriteLine(\"Playback finished\");\n",
    "        }"
   ]
  }
 ],
 "metadata": {
  "language_info": {
   "name": "python"
  }
 },
 "nbformat": 4,
 "nbformat_minor": 2
}
