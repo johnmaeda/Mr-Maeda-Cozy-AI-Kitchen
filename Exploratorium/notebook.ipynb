{
 "cells": [
  {
   "cell_type": "markdown",
   "metadata": {},
   "source": [
    "# Exploratorium 🐄👁️ Cow Eye Ball Cooking\n",
    "\n",
    "### “Scientists and artists are the world's noticers. Their job is simply to notice what other people cannot.” —Frank Oppenheimer (1912–1985) founder of the Exploratorium\n"
   ]
  },
  {
   "cell_type": "markdown",
   "metadata": {},
   "source": [
    "## 🔥 Let's get the required packages"
   ]
  },
  {
   "cell_type": "code",
   "execution_count": null,
   "metadata": {
    "dotnet_interactive": {
     "language": "csharp"
    },
    "polyglot_notebook": {
     "kernelName": "csharp"
    },
    "vscode": {
     "languageId": "polyglot-notebook"
    }
   },
   "outputs": [],
   "source": [
    "#!import ../config/Settings.cs \n",
    "#!import ../config/Utils.cs\n",
    "\n",
    "#r \"nuget: Microsoft.SemanticKernel, 1.11.0\"\n",
    "#r \"nuget: Microsoft.SemanticKernel.Experimental.Agents, 1.11.0-alpha\"\n",
    "#r \"nuget: Microsoft.SemanticKernel.Planners.Handlebars, 1.11.0-alpha\"\n",
    "#r \"nuget: Microsoft.SemanticKernel.Plugins.Core, 1.11.0-alpha\"\n",
    "#r \"nuget: Microsoft.Extensions.Logging.Console, 8.0.0\"\n",
    "#r \"nuget: YamlDotNet, 13.7.1\"\n",
    "#r \"nuget: SkiaSharp, 2.88.3\""
   ]
  },
  {
   "cell_type": "code",
   "execution_count": 2,
   "metadata": {
    "dotnet_interactive": {
     "language": "csharp"
    },
    "polyglot_notebook": {
     "kernelName": "csharp"
    },
    "vscode": {
     "languageId": "polyglot-notebook"
    }
   },
   "outputs": [],
   "source": [
    "#!import ../config/Settings.cs\n",
    "#!import ../config/Utils.cs\n",
    "\n",
    "using Microsoft.SemanticKernel;\n",
    "using Microsoft.SemanticKernel.Connectors.OpenAI;\n",
    "using Microsoft.SemanticKernel.Planning.Handlebars;\n",
    "using Microsoft.Extensions.Logging;\n",
    "using Kernel = Microsoft.SemanticKernel.Kernel;\n",
    "\n",
    "Kernel kernel;\n",
    "\n",
    "var (useAzureOpenAI, model, azureEndpoint, apiKey, orgId) = Settings.LoadFromFile();"
   ]
  },
  {
   "cell_type": "markdown",
   "metadata": {},
   "source": [
    "## 🧑‍🍳 Let's get cooking on learning about cow eye dissection"
   ]
  },
  {
   "cell_type": "markdown",
   "metadata": {},
   "source": [
    "### 🧠 There's an 8 page PDF available. This is the first two pages:\n",
    "\n",
    "![](coweye2.jpg)\n",
    "![](coweye3.jpg)"
   ]
  },
  {
   "cell_type": "markdown",
   "metadata": {},
   "source": [
    "### 👁️ Let's set up a foundation model that can see/understand"
   ]
  },
  {
   "cell_type": "code",
   "execution_count": null,
   "metadata": {
    "dotnet_interactive": {
     "language": "csharp"
    },
    "polyglot_notebook": {
     "kernelName": "csharp"
    },
    "vscode": {
     "languageId": "polyglot-notebook"
    }
   },
   "outputs": [],
   "source": [
    "using System;\n",
    "using System.Threading.Tasks;\n",
    "using Microsoft.SemanticKernel.ChatCompletion;\n",
    "\n",
    "const string ImageUri = \"https://maeda.pm/wp-content/uploads/2024/05/coweye2.jpg\";\n",
    "\n",
    "const string OpenAIVisionEnabledModel = \"gpt-4-vision-preview\";\n",
    "\n",
    "var visionKernel = Kernel.CreateBuilder()\n",
    "    .AddOpenAIChatCompletion(OpenAIVisionEnabledModel, apiKey)\n",
    "    .Build();\n",
    "\n",
    "var visionChatCompletionService = visionKernel.GetRequiredService<IChatCompletionService>();\n",
    "\n",
    "var visionChatHistory = new ChatHistory(\n",
    "    @\"You are a friendly explainer with four years of experience working at \n",
    "    the Exploratorium with a background in biology or scientific communication.\");\n",
    "\n",
    "visionChatHistory.AddUserMessage(new ChatMessageContentItemCollection\n",
    "{\n",
    "    new TextContent(\n",
    "        @\"For this image, what are the key details to take away for a \n",
    "        person to explain how to dissect a cow's eye?\"),\n",
    "    new ImageContent(new Uri(ImageUri))\n",
    "});\n",
    "\n",
    "OpenAIPromptExecutionSettings settings = new() { MaxTokens = 500, Temperature = 0.1  };\n",
    "\n",
    "var reply = await visionChatCompletionService.GetChatMessageContentAsync(visionChatHistory, settings);\n",
    "Console.WriteLine(Utils.WordWrap(reply.Content, 80));"
   ]
  },
  {
   "cell_type": "markdown",
   "metadata": {},
   "source": [
    "### 🧑‍💻 Let's do some abstraction of code to make things neater going forward"
   ]
  },
  {
   "cell_type": "code",
   "execution_count": 4,
   "metadata": {
    "dotnet_interactive": {
     "language": "csharp"
    },
    "polyglot_notebook": {
     "kernelName": "csharp"
    },
    "vscode": {
     "languageId": "polyglot-notebook"
    }
   },
   "outputs": [],
   "source": [
    "public async Task<string> AddVisionChatMessageAsync(string message)\n",
    "{\n",
    "    visionChatHistory.AddUserMessage(new ChatMessageContentItemCollection\n",
    "    {\n",
    "        new TextContent(message)\n",
    "    });\n",
    "\n",
    "    var reply = await visionChatCompletionService.GetChatMessageContentAsync(visionChatHistory, settings);\n",
    "    Console.WriteLine(Utils.WordWrap(reply.Content, 80));\n",
    "    return reply.Content;\n",
    "}\n",
    "\n",
    "public async Task<string> AddVisionChatMessageWithImageURLAsync(string message, string imageUrl)\n",
    "{\n",
    "    visionChatHistory.AddUserMessage(new ChatMessageContentItemCollection\n",
    "    {\n",
    "        new TextContent(message),\n",
    "        new ImageContent(new Uri(imageUrl))\n",
    "    });\n",
    "\n",
    "    var reply = await visionChatCompletionService.GetChatMessageContentAsync(visionChatHistory, settings);\n",
    "    Console.WriteLine(Utils.WordWrap(reply.Content, 80));\n",
    "    return reply.Content;\n",
    "}"
   ]
  },
  {
   "cell_type": "markdown",
   "metadata": {},
   "source": [
    "### 🧑‍🎨 Let's get it to suggest how to prompt itself"
   ]
  },
  {
   "cell_type": "code",
   "execution_count": null,
   "metadata": {
    "dotnet_interactive": {
     "language": "csharp"
    },
    "polyglot_notebook": {
     "kernelName": "csharp"
    },
    "vscode": {
     "languageId": "polyglot-notebook"
    }
   },
   "outputs": [],
   "source": [
    "await AddVisionChatMessageAsync(\n",
    "    @\"For the images presented on the page, write image generation prompts \n",
    "    appropriate for recreating the images.\");"
   ]
  },
  {
   "cell_type": "markdown",
   "metadata": {},
   "source": [
    "### 🧠 Let's add the second page into this chat history\n",
    "\n",
    "![](coweye3.jpg)"
   ]
  },
  {
   "cell_type": "code",
   "execution_count": null,
   "metadata": {
    "dotnet_interactive": {
     "language": "csharp"
    },
    "polyglot_notebook": {
     "kernelName": "csharp"
    },
    "vscode": {
     "languageId": "polyglot-notebook"
    }
   },
   "outputs": [],
   "source": [
    "string secondPageResult = await AddVisionChatMessageWithImageURLAsync(\n",
    "    @\"For this image, what are the key details to take away for a person \n",
    "    to explain how to dissect a cow's eye?\",\n",
    "    \"https://maeda.pm/wp-content/uploads/2024/05/coweye3.jpg\");"
   ]
  },
  {
   "cell_type": "code",
   "execution_count": null,
   "metadata": {
    "dotnet_interactive": {
     "language": "csharp"
    },
    "polyglot_notebook": {
     "kernelName": "csharp"
    },
    "vscode": {
     "languageId": "polyglot-notebook"
    }
   },
   "outputs": [],
   "source": [
    "string resultingPrompt = await AddVisionChatMessageAsync(\n",
    "    @\"For the first image presented on the page, \n",
    "    write an AI image generation prompt for DALL-E\n",
    "    that will accurately recreate the image. Make it \n",
    "    as detailed as possible.\");"
   ]
  },
  {
   "cell_type": "markdown",
   "metadata": {},
   "source": [
    "### 🧑‍🎨 Let's flex our image generation muscles a bit"
   ]
  },
  {
   "cell_type": "code",
   "execution_count": null,
   "metadata": {
    "dotnet_interactive": {
     "language": "csharp"
    },
    "polyglot_notebook": {
     "kernelName": "csharp"
    },
    "vscode": {
     "languageId": "polyglot-notebook"
    }
   },
   "outputs": [],
   "source": [
    "#pragma warning disable SKEXP0001, SKEXP0010, SKEXP0002, SKEXP0012\n",
    "\n",
    "using Microsoft.SemanticKernel.ChatCompletion;\n",
    "using Microsoft.SemanticKernel.TextToImage;\n",
    "\n",
    "Kernel painterKernel = Kernel.CreateBuilder()\n",
    "    .AddOpenAITextToImage(apiKey) // Add your text to image service\n",
    "    .Build();\n",
    "\n",
    "ITextToImageService dallE = painterKernel.GetRequiredService<ITextToImageService>();\n",
    "\n",
    "var imgPrompt = resultingPrompt;\n",
    "\n",
    "imgPrompt = @\"Create an image of a persons hands holding a cow's eye\";\n",
    "\n",
    "var image = await dallE.GenerateImageAsync(\n",
    "    imgPrompt,\n",
    "    256, 256);\n",
    "\n",
    "Console.WriteLine(image);\n"
   ]
  },
  {
   "cell_type": "code",
   "execution_count": null,
   "metadata": {
    "dotnet_interactive": {
     "language": "csharp"
    },
    "polyglot_notebook": {
     "kernelName": "csharp"
    },
    "vscode": {
     "languageId": "polyglot-notebook"
    }
   },
   "outputs": [],
   "source": [
    "using System.IO;\n",
    "using System.Net.Http;\n",
    "#!import ../config/SkiaUtils.cs\n",
    "\n",
    "HttpClient httpClient = new HttpClient();\n",
    "\n",
    "async Task DownloadImageAsync(string uri, string localPath)\n",
    "{\n",
    "    using (HttpResponseMessage response = await httpClient.GetAsync(uri))\n",
    "    {\n",
    "        response.EnsureSuccessStatusCode();\n",
    "\n",
    "        using (Stream contentStream = await response.Content.ReadAsStreamAsync(), \n",
    "                fileStream = new FileStream(localPath, FileMode.Create, FileAccess.Write, FileShare.None))\n",
    "        {\n",
    "            await contentStream.CopyToAsync(fileStream);\n",
    "        }\n",
    "    }\n",
    "}\n",
    "\n",
    "async Task MyShowImage(string uri)\n",
    "{\n",
    "    string uniqueFileName = \"abc-\" + Guid.NewGuid().ToString() + \".png\";\n",
    "    await DownloadImageAsync(uri, uniqueFileName);\n",
    "    await SkiaUtils.ShowImage(image, 256, 256);\n",
    "}\n",
    "\n",
    "MyShowImage(image).Wait();"
   ]
  },
  {
   "cell_type": "markdown",
   "metadata": {},
   "source": [
    "### 🙉 Let's add the auditory modalities"
   ]
  },
  {
   "cell_type": "code",
   "execution_count": null,
   "metadata": {
    "dotnet_interactive": {
     "language": "csharp"
    },
    "polyglot_notebook": {
     "kernelName": "csharp"
    },
    "vscode": {
     "languageId": "polyglot-notebook"
    }
   },
   "outputs": [],
   "source": [
    "#r \"nuget: Microsoft.CognitiveServices.Speech, 1.34.1\"\n",
    "#r \"nuget: NetCoreAudio, 1.8.0\"\n",
    "#r \"nuget: Microsoft.Extensions.Configuration, 8.0.0\"\n",
    "#r \"nuget: Microsoft.Extensions.Configuration.EnvironmentVariables, 8.0.0\"\n",
    "#r \"nuget: Microsoft.Extensions.Configuration.UserSecrets, 8.0.0\"\n",
    "\n",
    "#!import ../config/Utils.cs \n",
    "#!import ../config/AzureSpeech.cs\n",
    "\n",
    "//Utils.LoadEnvFile();\n",
    "\n",
    "string subscriptionKey = Environment.GetEnvironmentVariable(\"AZURE_SPEECH_KEY\");\n",
    "string subscriptionRegion = Environment.GetEnvironmentVariable(\"AZURE_SPEECH_REGION\");\n",
    "\n",
    "var speechService = new SpeechRecognitionService(subscriptionKey, subscriptionRegion);"
   ]
  },
  {
   "cell_type": "markdown",
   "metadata": {},
   "source": [
    "### 🎤 Let's listen up"
   ]
  },
  {
   "cell_type": "code",
   "execution_count": null,
   "metadata": {
    "dotnet_interactive": {
     "language": "csharp"
    },
    "polyglot_notebook": {
     "kernelName": "csharp"
    },
    "vscode": {
     "languageId": "polyglot-notebook"
    }
   },
   "outputs": [],
   "source": [
    "string recognizedText = await speechService.RecognizeOnceAsync();\n",
    "Console.WriteLine($\"Transcribed: {recognizedText}\");"
   ]
  },
  {
   "cell_type": "markdown",
   "metadata": {},
   "source": [
    "### 🗣️ And let's speak up"
   ]
  },
  {
   "cell_type": "code",
   "execution_count": null,
   "metadata": {
    "dotnet_interactive": {
     "language": "csharp"
    },
    "polyglot_notebook": {
     "kernelName": "csharp"
    },
    "vscode": {
     "languageId": "polyglot-notebook"
    }
   },
   "outputs": [],
   "source": [
    "#pragma warning disable SKEXP0101\n",
    "\n",
    "await speechService.SynthesizeSpeechAsync(theAnswer);"
   ]
  },
  {
   "cell_type": "markdown",
   "metadata": {},
   "source": [
    "## 🧑‍🎓 Let's get an inquisitive 6th grader here"
   ]
  },
  {
   "cell_type": "code",
   "execution_count": null,
   "metadata": {
    "dotnet_interactive": {
     "language": "csharp"
    },
    "polyglot_notebook": {
     "kernelName": "csharp"
    },
    "vscode": {
     "languageId": "polyglot-notebook"
    }
   },
   "outputs": [],
   "source": [
    "var chatKernel = Kernel.CreateBuilder()\n",
    "    .AddOpenAIChatCompletion(model, apiKey)\n",
    "    .Build();\n",
    "\n",
    "var systemMessage =  \n",
    "  @\"You are a 6th grader visiting the world-famous Exploratorium in San Francisco, \n",
    "  founded by Frank Oppenheimer. Today, you are observing a cow eye dissection \n",
    "  demonstrated by one of the Exploratorium's professional science communicators. \n",
    "  You are curious about the dissection and have many questions, but \n",
    "  you have no prior knowledge about cow eyes. You are here to learn \n",
    "  from the explainer, not to teach. Please keep your questions concise \n",
    "  and limited to one sentence each. When asked a question, respond in the\n",
    "  manner of a sixth grader with little to no prior knowledge about cow eyes.\n",
    "    \";\n",
    "\n",
    "var chatHistory = new ChatHistory( systemMessage );\n",
    "var chatCompletions = chatKernel.GetRequiredService<IChatCompletionService>();\n",
    "\n",
    "string userMessage;\n",
    "\n",
    "userMessage = @\"Hi, I'm an expert explainer of the cow eye dissection. \n",
    "    I can help you with any questions you have.\";\n",
    "\n",
    "while(true) {\n",
    "    Console.WriteLine(Utils.WordWrap(\"Explainer: \" + userMessage, 80));\n",
    "\n",
    "    chatHistory.AddUserMessage(userMessage);\n",
    "\n",
    "    var assistantReply = \n",
    "        await chatCompletions.GetChatMessageContentAsync(\n",
    "            chatHistory, \n",
    "            new OpenAIPromptExecutionSettings());\n",
    "\n",
    "    Console.WriteLine(Utils.WordWrap(\"AI Learner: \" + assistantReply.Content, 80));\n",
    "    await speechService.SynthesizeSpeechAsync(assistantReply.Content);\n",
    "\n",
    "    userMessage = await InteractiveKernel.GetInputAsync(\"Enter 'bye' to end:\");\n",
    "\n",
    "    if (userMessage.ToLower() == \"bye\") {\n",
    "        break;\n",
    "    }\n",
    "}"
   ]
  },
  {
   "cell_type": "markdown",
   "metadata": {},
   "source": [
    "## 🧑‍🔬 Let's get an expert Explainer involved"
   ]
  },
  {
   "cell_type": "markdown",
   "metadata": {},
   "source": [
    "You can easily make a GPT instead of building this by hand ...\n",
    "\n",
    "![](coweyegpt.png)\n",
    "\n",
    "But we like to build stuff at the Exploratorium so ..."
   ]
  },
  {
   "cell_type": "code",
   "execution_count": null,
   "metadata": {
    "dotnet_interactive": {
     "language": "csharp"
    },
    "polyglot_notebook": {
     "kernelName": "csharp"
    },
    "vscode": {
     "languageId": "polyglot-notebook"
    }
   },
   "outputs": [],
   "source": [
    "var chatKernel = Kernel.CreateBuilder()\n",
    "    .AddOpenAIChatCompletion(model, apiKey)\n",
    "    .Build();\n",
    "\n",
    "var systemMessage =  \n",
    "@\"You are an expert explainer at the Exploratorium, \n",
    "ready to guide a 6th grader through the exciting process of \n",
    "cow eye dissection. Your task is to teach them step-by-step, \n",
    "using simple language. Start by discussing the importance of safety, \n",
    "like careful handling of the scalpel and the importance of hygiene \n",
    "after touching raw materials.\n",
    "\n",
    "Explain the external parts of the eye such as the sclera and cornea, \n",
    "and then demonstrate making an incision in the cornea to release the \n",
    "aqueous humor. Guide the student through cutting the eye in half \n",
    "to expose the internal structures like the lens and retina, \n",
    "and discuss their functions.\n",
    "\n",
    "Make sure to cover the removal of the lens and the exploration \n",
    "of the vitreous humor. Highlight the interesting features of the cow's eye, \n",
    "such as the tapetum, which helps in night vision. Your explanations should \n",
    "be concise and engaging, designed to spark curiosity and deepen \n",
    "understanding of eye anatomy.\n",
    "\n",
    "Always encourage questions and interact in a supportive manner \n",
    "to create a memorable educational experience for the student.\n",
    "\n",
    "You're talking with elementary school students, so keep the langauge\n",
    "simple and easy to understand. Also keep your responses extremely short so that \n",
    "the learner can ask questions and engage with the material.\n",
    "\";\n",
    "\n",
    "var chatHistory = new ChatHistory( systemMessage );\n",
    "var chatCompletions = chatKernel.GetRequiredService<IChatCompletionService>();\n",
    "\n",
    "string userMessage;\n",
    "\n",
    "userMessage = @\"Hi, I'm a 6th grader and want to learn more about a cow's eye.\";\n",
    "\n",
    "while(true) {\n",
    "    Console.WriteLine(Utils.WordWrap(\"Learner: \" + userMessage, 80));\n",
    "\n",
    "    chatHistory.AddUserMessage(userMessage);\n",
    "\n",
    "    var assistantReply = \n",
    "        await chatCompletions.GetChatMessageContentAsync(\n",
    "            chatHistory, \n",
    "            new OpenAIPromptExecutionSettings());\n",
    "\n",
    "    Console.WriteLine(Utils.WordWrap(\"AI Explainer: \" + assistantReply.Content, 80));\n",
    "    await speechService.SynthesizeSpeechAsync(assistantReply.Content);\n",
    "\n",
    "    userMessage = await InteractiveKernel.GetInputAsync(\"Enter 'bye' to end:\");\n",
    "\n",
    "    if (userMessage.ToLower() == \"bye\") {\n",
    "        break;\n",
    "    }\n",
    "}"
   ]
  }
 ],
 "metadata": {
  "kernelspec": {
   "display_name": ".NET (C#)",
   "language": "C#",
   "name": ".net-csharp"
  },
  "language_info": {
   "name": "python"
  },
  "polyglot_notebook": {
   "kernelInfo": {
    "defaultKernelName": "csharp",
    "items": [
     {
      "aliases": [],
      "name": "csharp"
     }
    ]
   }
  }
 },
 "nbformat": 4,
 "nbformat_minor": 2
}
