{
 "cells": [
  {
   "cell_type": "markdown",
   "metadata": {},
   "source": [
    "# John Maeda: Quickstart Your RAGventure With Agents"
   ]
  },
  {
   "cell_type": "markdown",
   "metadata": {},
   "source": [
    "## 🔥 Let's get the required packages"
   ]
  },
  {
   "cell_type": "code",
   "execution_count": null,
   "metadata": {
    "dotnet_interactive": {
     "language": "csharp"
    },
    "polyglot_notebook": {
     "kernelName": "csharp"
    },
    "vscode": {
     "languageId": "polyglot-notebook"
    }
   },
   "outputs": [],
   "source": [
    "#r \"nuget: Azure.AI.OpenAI, 2.0.0-beta.4\"\n",
    "#r \"nuget: Azure.Core, 1.42.0\"\n",
    "#r \"nuget: Azure.Identity, 1.13.0-beta.1\"\n",
    "#r \"nuget: Microsoft.Extensions.Configuration, 8.0.0\"\n",
    "#r \"nuget: Microsoft.Extensions.Configuration.Json, 8.0.0\"\n",
    "#r \"nuget: Microsoft.SemanticKernel, 1.18.0-rc\"\n",
    "#r \"nuget: Microsoft.SemanticKernel.Abstractions, 1.18.1-rc\"\n",
    "#r \"nuget: Microsoft.SemanticKernel.Agents.Core, 1.18.1-alpha\"\n",
    "#r \"nuget: Microsoft.SemanticKernel.Agents.OpenAI, 1.18.1-alpha\"\n",
    "#r \"nuget: Microsoft.SemanticKernel.Connectors.OpenAI, 1.18.1-rc\"\n",
    "#r \"nuget: Microsoft.SemanticKernel.Core, 1.18.1-rc\"\n",
    "#r \"nuget: Microsoft.SemanticKernel.Plugins.Core, 1.18.1-alpha\"\n",
    "#r \"nuget: Microsoft.Extensions.Configuration, 8.0.0\"\n",
    "#r \"nuget: Microsoft.Extensions.Configuration.Json, 8.0.0\""
   ]
  },
  {
   "cell_type": "markdown",
   "metadata": {},
   "source": [
    "## 🔑 And our keys ..."
   ]
  },
  {
   "cell_type": "markdown",
   "metadata": {},
   "source": [
    "My config.json looks like this:\n",
    "```\n",
    "{\n",
    "  \"type\": \"azure\",\n",
    "  \"model\": \"gpt-4o\",\n",
    "  \"endpoint\": \"https://ai-johnmaeda.../\",\n",
    "  \"apikey\": \"...\",\n",
    "  \"org\": \"\",\n",
    "  \"asst1\": \"asst_...\",\n",
    "  \"asst2\": \"asst_...\",\n",
    "  \"AZURE_SPEECH_KEY\": \"489....\",\n",
    "  \"AZURE_SPEECH_REGION\": \"eastus\"\n",
    "}\n",
    "```"
   ]
  },
  {
   "cell_type": "code",
   "execution_count": null,
   "metadata": {
    "dotnet_interactive": {
     "language": "csharp"
    },
    "polyglot_notebook": {
     "kernelName": "csharp"
    },
    "vscode": {
     "languageId": "polyglot-notebook"
    }
   },
   "outputs": [],
   "source": [
    "#!import ../config/MaedaSettings.cs\n",
    "#!import ../config/Utils.cs\n",
    "\n",
    "using Microsoft.Extensions.Configuration;\n",
    "using Microsoft.SemanticKernel;\n",
    "using Microsoft.SemanticKernel.Agents.OpenAI;\n",
    "using Microsoft.SemanticKernel.ChatCompletion;\n",
    "using Microsoft.SemanticKernel.Connectors.OpenAI;\n",
    "using Microsoft.SemanticKernel.Plugins.Core;\n",
    "using System;\n",
    "using System.Text.Json;\n",
    "using System.Collections.Generic;\n",
    "using System.Threading.Tasks;\n",
    "using System.ComponentModel;\n",
    "using System.Net.Http;\n",
    "using System.Net.Http.Headers;\n",
    "using Microsoft.Extensions.DependencyInjection;\n",
    "using System.Threading;\n",
    "using OpenAI.Files;\n",
    "using OpenAI.VectorStores;\n",
    "\n",
    "var settingsPath = Path.GetFullPath(\"../config/settings.json\");\n",
    "Console.WriteLine($\"Settings Path: {settingsPath}\");\n",
    "\n",
    "var maedaSettings = new MaedaSettings(settingsPath, true);\n",
    "\n",
    "// Load all settings into a tuple\n",
    "var (useAzureOpenAI, model, azureEndpoint, apiKey, orgId) = maedaSettings.LoadSettings();"
   ]
  },
  {
   "cell_type": "markdown",
   "metadata": {},
   "source": [
    "## 🔌 And a few plugins on hand"
   ]
  },
  {
   "cell_type": "code",
   "execution_count": null,
   "metadata": {
    "dotnet_interactive": {
     "language": "csharp"
    },
    "polyglot_notebook": {
     "kernelName": "csharp"
    },
    "vscode": {
     "languageId": "polyglot-notebook"
    }
   },
   "outputs": [],
   "source": [
    "public class TimePlugin\n",
    "{\n",
    "    [KernelFunction]\n",
    "    [Description(\"Retrieves the current time in UTC.\")]\n",
    "    public string GetCurrentUtcTime() => DateTime.UtcNow.ToString(\"R\");\n",
    "}\n",
    "\n",
    "var timePlugin = new TimePlugin();\n",
    "\n",
    "string mytime = timePlugin.GetCurrentUtcTime();\n",
    "Console.WriteLine($\"Current time: {mytime}\");"
   ]
  },
  {
   "cell_type": "code",
   "execution_count": null,
   "metadata": {
    "dotnet_interactive": {
     "language": "csharp"
    },
    "polyglot_notebook": {
     "kernelName": "csharp"
    },
    "vscode": {
     "languageId": "polyglot-notebook"
    }
   },
   "outputs": [],
   "source": [
    "#!import ./WeatherPlugin.cs\n",
    "\n",
    "// use the weatherplugin and call the weather\n",
    "var weatherPlugin = new WeatherPlugin(maedaSettings.ReadString(\"OPENWEATHER_API_KEY\"));\n",
    "\n",
    "string city = \"Austin\";\n",
    "string weather = await weatherPlugin.GetWeatherAsync(city);\n",
    "\n",
    "Console.WriteLine($\"The weather in {city} is {weather}\");\n",
    "\n",
    "// make a list of kernel plugins\n",
    "var kernelPlugins = new List<object>\n",
    "{\n",
    "    weatherPlugin,\n",
    "    timePlugin\n",
    "};"
   ]
  },
  {
   "cell_type": "markdown",
   "metadata": {},
   "source": [
    "# 🥸 Make an Azure AI Agent wrapper"
   ]
  },
  {
   "cell_type": "code",
   "execution_count": 20,
   "metadata": {
    "dotnet_interactive": {
     "language": "csharp"
    },
    "polyglot_notebook": {
     "kernelName": "csharp"
    },
    "vscode": {
     "languageId": "polyglot-notebook"
    }
   },
   "outputs": [],
   "source": [
    "#!import ../config/Utils.cs\n",
    "\n",
    "#pragma warning disable SKEXP0110, SKEXP0001, SKEXP0050, CS8600, CS8604, OPENAI001\n",
    "\n",
    "public class MyAzureAIAgent\n",
    "{\n",
    "    private readonly string _assistantId;\n",
    "    private readonly string _deploymentName;\n",
    "    private readonly string _endpoint;\n",
    "    private readonly string _apiKey;\n",
    "    private string? _threadId;\n",
    "    private OpenAIAssistantAgent? _assistantAgent;\n",
    "    public string namae;\n",
    "\n",
    "    public MyAzureAIAgent(string deploymentName, string endpoint, string apiKey, string assistantId, List<object>? plugins = null)\n",
    "    {\n",
    "        _assistantId = assistantId;\n",
    "        _deploymentName = deploymentName;\n",
    "        _endpoint = endpoint;\n",
    "        _apiKey = apiKey;\n",
    "\n",
    "        // Initialize the agent with plugins when constructing\n",
    "        Task.Run(async () => await InitializeAgentWithPluginsAndThread(plugins)).GetAwaiter().GetResult();\n",
    "\n",
    "    }\n",
    "\n",
    "    public OpenAIAssistantAgent GetAgent()\n",
    "    {\n",
    "        return _assistantAgent;\n",
    "    }\n",
    "    \n",
    "    // add an optional list of plugin objects as type new List<object>\n",
    "    public async Task InitializeAgentWithPluginsAndThread(List<object>? plugins = null)\n",
    "    {\n",
    "        IKernelBuilder builder = Microsoft.SemanticKernel.Kernel.CreateBuilder();\n",
    "        builder.AddAzureOpenAIChatCompletion(\n",
    "                        deploymentName: _deploymentName,\n",
    "                        endpoint: _endpoint,\n",
    "                        apiKey: _apiKey);\n",
    "        if (plugins != null)\n",
    "        {\n",
    "            foreach (var plugin in plugins)\n",
    "            {\n",
    "                // say which pluign you're adding by printing the type\n",
    "                Console.WriteLine($\"Adding plugin: {plugin.GetType()}\");\n",
    "                builder.Plugins.AddFromObject(plugin);\n",
    "            }\n",
    "        }\n",
    "        Microsoft.SemanticKernel.Kernel kernel = builder.Build();\n",
    "\n",
    "        OpenAIClientProvider provider = OpenAIClientProvider.ForAzureOpenAI(_apiKey, new Uri(_endpoint));\n",
    "\n",
    "        _assistantAgent = await OpenAIAssistantAgent.RetrieveAsync(kernel, provider, _assistantId);\n",
    "        \n",
    "        namae = _assistantAgent.Name;\n",
    "\n",
    "        _threadId = await _assistantAgent.CreateThreadAsync();\n",
    "        Console.WriteLine($\"Agent {namae} with ID {Utils.ObfuscateString(_assistantId)} initialized.\");\n",
    "    }\n",
    "\n",
    "    public async Task<string> AskAgent(string question)\n",
    "    {\n",
    "        if (_assistantAgent == null || _threadId == null)\n",
    "        {\n",
    "            throw new InvalidOperationException(\"Agent not initialized. Call InitializeAgent first.\");\n",
    "        }\n",
    "\n",
    "        // Add the user's question to the chat.\n",
    "        await _assistantAgent.AddChatMessageAsync(_threadId, new ChatMessageContent(AuthorRole.User, question));\n",
    "\n",
    "        // Retrieve the response.\n",
    "        string responseText = \"\";\n",
    "        await foreach (ChatMessageContent content in _assistantAgent.InvokeAsync(_threadId))\n",
    "        {\n",
    "            if (content.Role != AuthorRole.Tool)\n",
    "            {\n",
    "                responseText += content.Content;\n",
    "            }\n",
    "        }\n",
    "\n",
    "        return responseText; // Return the response as a string\n",
    "    }\n",
    "\n",
    "    public async Task EndSession()\n",
    "    {\n",
    "        if (_assistantAgent != null && _threadId != null)\n",
    "        {\n",
    "            bool result = await _assistantAgent.DeleteThreadAsync(_threadId);\n",
    "            if (result)\n",
    "            {\n",
    "                _threadId = null;\n",
    "            }\n",
    "            else\n",
    "            {\n",
    "                Console.WriteLine(\"Failed to delete the thread.\");\n",
    "            }\n",
    "        }\n",
    "    }\n",
    "}\n"
   ]
  },
  {
   "cell_type": "markdown",
   "metadata": {},
   "source": [
    "## ☎️ And a way to \"talk\" to @agents"
   ]
  },
  {
   "cell_type": "code",
   "execution_count": 6,
   "metadata": {
    "dotnet_interactive": {
     "language": "csharp"
    },
    "polyglot_notebook": {
     "kernelName": "csharp"
    },
    "vscode": {
     "languageId": "polyglot-notebook"
    }
   },
   "outputs": [],
   "source": [
    "#pragma warning disable SKEXP0110, SKEXP0001, SKEXP0050, CS8600, CS8604, OPENAI001\n",
    "\n",
    "public string CreateAtName(string name)\n",
    "{\n",
    "    return name.Replace(\" \", \"\").ToLower();\n",
    "}\n",
    "\n",
    "public async Task RunIndependentAgentsSession(List<MyAzureAIAgent> myagents)\n",
    "{\n",
    "    // Dictionary to hold initialized agents (mapped by processed agent names)\n",
    "    var agents = new Dictionary<string, MyAzureAIAgent>(StringComparer.OrdinalIgnoreCase);\n",
    "    string? defaultAgentName = null;\n",
    "\n",
    "    try\n",
    "    {\n",
    "        Console.WriteLine(\"Initializing agents...\");\n",
    "        // Instantiate and initialize each agent from the list of assistant IDs\n",
    "        foreach (var agent in myagents)\n",
    "        {\n",
    "            Console.WriteLine($\"Initializing agent {agent.namae}...\");\n",
    "            // Process the namae to remove spaces and lowercase it\n",
    "            string processedNamae = CreateAtName(agent.namae);\n",
    "\n",
    "            // Add agent to dictionary with the processed name as the key\n",
    "            agents[processedNamae] = agent;\n",
    "\n",
    "            // Set the first agent as the default if it's not already set\n",
    "            if (defaultAgentName == null)\n",
    "            {\n",
    "                defaultAgentName = processedNamae;\n",
    "            }\n",
    "        }\n",
    "\n",
    "        // Ensure we have a default agent\n",
    "        if (defaultAgentName == null)\n",
    "        {\n",
    "            throw new InvalidOperationException(\"No default agent found. Please check your assistant IDs.\");\n",
    "        }\n",
    "\n",
    "        string input;\n",
    "        do\n",
    "        {\n",
    "            // Print available agent names with an at sign in front of each of them and all on a single line\n",
    "            // accrue them and include the at sign in fron tof them\n",
    "            string availableAgents = \"\";\n",
    "            foreach (var agentName in agents.Keys)\n",
    "            {\n",
    "                availableAgents += $\"@{agentName} \";\n",
    "            }\n",
    "\n",
    "            // Get user input\n",
    "            input = await InteractiveKernel.GetInputAsync($\"Ask {availableAgents} (type '/bye' to exit):\");\n",
    "\n",
    "            if (input.ToLower() != \"/bye\")\n",
    "            {\n",
    "                // By default, use the default agent\n",
    "                string selectedAgentName = defaultAgentName;\n",
    "\n",
    "                // Check if there's an @mention in the input\n",
    "                foreach (var agentName in agents.Keys)\n",
    "                {\n",
    "                    if (input.ToLower().Contains($\"@{agentName}\"))\n",
    "                    {\n",
    "                        selectedAgentName = agentName;\n",
    "\n",
    "                        // Remove the @mention from the input\n",
    "                        input = input.Replace($\"@{agentName}\", \"\").Trim();\n",
    "                        break;\n",
    "                    }\n",
    "                }\n",
    "\n",
    "                // Get the selected agent\n",
    "                var selectedAgent = agents[selectedAgentName];\n",
    "                string response = await selectedAgent.AskAgent(input);\n",
    "                Console.WriteLine($\"@{selectedAgentName}: {response}\");\n",
    "            }\n",
    "\n",
    "        } while (input.ToLower() != \"/bye\");\n",
    "    }\n",
    "    finally\n",
    "    {\n",
    "        // Clean up and end each agent's session\n",
    "        foreach (var agent in agents.Values)\n",
    "        {\n",
    "            await agent.EndSession();\n",
    "        }\n",
    "    }\n",
    "}\n"
   ]
  },
  {
   "cell_type": "markdown",
   "metadata": {},
   "source": [
    "## 📞 We'll call assistants in the cloud"
   ]
  },
  {
   "cell_type": "code",
   "execution_count": null,
   "metadata": {
    "dotnet_interactive": {
     "language": "csharp"
    },
    "polyglot_notebook": {
     "kernelName": "csharp"
    },
    "vscode": {
     "languageId": "polyglot-notebook"
    }
   },
   "outputs": [],
   "source": [
    "#pragma warning disable SKEXP0110, SKEXP0001, SKEXP0050, CS8600, CS8604, OPENAI001\n",
    "\n",
    "// Call the session runner and pass the list of assistant IDs inline\n",
    "// MyAzureAIAgent agent1 = new MyAzureAIAgent(model,azureEndpoint,\n",
    "//     apiKey,maedaSettings.ReadString(\"asst1\"),kernelPlugins);\n",
    "// MyAzureAIAgent agent2 = new MyAzureAIAgent(model,azureEndpoint,apiKey,\n",
    "//     maedaSettings.ReadString(\"asst2\"));\n",
    "\n",
    "await RunIndependentAgentsSession(\n",
    "    new List<MyAzureAIAgent>\n",
    "    {\n",
    "        new MyAzureAIAgent(model,azureEndpoint,\n",
    "            apiKey,maedaSettings.ReadString(\"asst1\"),kernelPlugins),\n",
    "        new MyAzureAIAgent(model,azureEndpoint,apiKey,\n",
    "            maedaSettings.ReadString(\"asst2\"))\n",
    "    }\n",
    ");\n"
   ]
  },
  {
   "cell_type": "markdown",
   "metadata": {},
   "source": [
    "## 🔥 Make a kernel"
   ]
  },
  {
   "cell_type": "code",
   "execution_count": 9,
   "metadata": {
    "dotnet_interactive": {
     "language": "csharp"
    },
    "polyglot_notebook": {
     "kernelName": "csharp"
    },
    "vscode": {
     "languageId": "polyglot-notebook"
    }
   },
   "outputs": [],
   "source": [
    "#pragma warning disable SKEXP0110, SKEXP0001, SKEXP0050, CS8600, CS8604, OPENAI001\n",
    "\n",
    "IKernelBuilder builder = Microsoft.SemanticKernel.Kernel.CreateBuilder();\n",
    "builder.AddAzureOpenAIChatCompletion(\n",
    "                deploymentName: model,\n",
    "                endpoint: azureEndpoint,\n",
    "                apiKey: apiKey);\n",
    "\n",
    "Microsoft.SemanticKernel.Kernel kernel = builder.Build();\n",
    "\n",
    "OpenAIClientProvider provider = OpenAIClientProvider.ForAzureOpenAI(apiKey, new Uri(azureEndpoint));"
   ]
  },
  {
   "cell_type": "markdown",
   "metadata": {},
   "source": [
    "## 🎙️ Let's start talking"
   ]
  },
  {
   "cell_type": "code",
   "execution_count": null,
   "metadata": {
    "dotnet_interactive": {
     "language": "csharp"
    },
    "polyglot_notebook": {
     "kernelName": "csharp"
    },
    "vscode": {
     "languageId": "polyglot-notebook"
    }
   },
   "outputs": [],
   "source": [
    "#pragma warning disable SKEXP0110, SKEXP0001, SKEXP0050, CS8600, CS8604, OPENAI001\n",
    "\n",
    "// Call the session runner and pass the list of assistant IDs inline\n",
    "await RunIndependentAgentSession(\n",
    "    new List<string>\n",
    "    {\n",
    "        maedaSettings.ReadString(\"asst1\"),\n",
    "        maedaSettings.ReadString(\"asst2\"),\n",
    "        // Add more assistant IDs here if needed\n",
    "    },\n",
    "    model, \n",
    "    azureEndpoint, \n",
    "    apiKey,\n",
    "    kernelPlugins\n",
    ");\n"
   ]
  },
  {
   "cell_type": "markdown",
   "metadata": {},
   "source": [
    "## 🌱 Let's sprout an @agent in code"
   ]
  },
  {
   "cell_type": "code",
   "execution_count": null,
   "metadata": {
    "dotnet_interactive": {
     "language": "csharp"
    },
    "polyglot_notebook": {
     "kernelName": "csharp"
    },
    "vscode": {
     "languageId": "polyglot-notebook"
    }
   },
   "outputs": [],
   "source": [
    "#!import ../config/Utils.cs\n",
    "#!import ../config/MaedaAgentManager.cs\n",
    "\n",
    "MaedaAgentManager agentManager = new MaedaAgentManager(kernel, provider);\n",
    "\n",
    "string agentName = \"Keanu Jeevs\";\n",
    "string description = \"Hipster Matrix Fan\";\n",
    "string instructions = \"Keanu speaks like he's from Bill and Ted's Excellent Adventure and also like Neo from the Matrix.\";\n",
    "List<string> filePaths = new List<string> { \"travelinfo.txt\" };\n",
    "string keanuId = await agentManager.CreatePlainAgent(agentName, model, description, instructions);\n",
    "Console.WriteLine($\"The agent {Utils.ObfuscateString(keanuId)} has been minted. Refer to @{CreateAtName(agentName)} in chat.\");"
   ]
  },
  {
   "cell_type": "markdown",
   "metadata": {},
   "source": [
    "## 📞 Let's give it a call ..."
   ]
  },
  {
   "cell_type": "code",
   "execution_count": null,
   "metadata": {
    "dotnet_interactive": {
     "language": "csharp"
    },
    "polyglot_notebook": {
     "kernelName": "csharp"
    },
    "vscode": {
     "languageId": "polyglot-notebook"
    }
   },
   "outputs": [],
   "source": [
    "#pragma warning disable SKEXP0110, SKEXP0001, SKEXP0050, CS8600, CS8604, OPENAI001\n",
    "\n",
    "// Call the session runner and pass the list of assistant IDs inline\n",
    "await RunIndependentAgentSession(\n",
    "    new List<string>\n",
    "    {\n",
    "        maedaSettings.ReadString(\"asst1\"),\n",
    "        maedaSettings.ReadString(\"asst2\"),\n",
    "        // Add more assistant IDs here if needed\n",
    "        keanuId\n",
    "    },\n",
    "    model, \n",
    "    azureEndpoint, \n",
    "    apiKey\n",
    ");\n"
   ]
  },
  {
   "cell_type": "markdown",
   "metadata": {},
   "source": [
    "## 🧽 Be sure to clean up "
   ]
  },
  {
   "cell_type": "code",
   "execution_count": null,
   "metadata": {
    "vscode": {
     "languageId": "polyglot-notebook"
    }
   },
   "outputs": [],
   "source": [
    "await agentManager.DeleteAssociatedAgentFilesAndVectorStoreAsync(agentId);"
   ]
  },
  {
   "cell_type": "code",
   "execution_count": null,
   "metadata": {
    "vscode": {
     "languageId": "polyglot-notebook"
    }
   },
   "outputs": [],
   "source": [
    "await agentManager.DeleteAllAgentsAsync();"
   ]
  },
  {
   "cell_type": "markdown",
   "metadata": {},
   "source": [
    "## 🗂️ We can also give files to the sprouted agent"
   ]
  },
  {
   "cell_type": "code",
   "execution_count": null,
   "metadata": {
    "dotnet_interactive": {
     "language": "csharp"
    },
    "polyglot_notebook": {
     "kernelName": "csharp"
    },
    "vscode": {
     "languageId": "polyglot-notebook"
    }
   },
   "outputs": [],
   "source": [
    "#!import ../config/Utils.cs\n",
    "#!import ../config/MaedaAgentManager.cs\n",
    "\n",
    "string agentName = \"John Traveler\";\n",
    "string description = \"Travel agent\";\n",
    "string instructions = \"John is ready to answer questions and assist with file-related queries.\";\n",
    "List<string> filePaths = new List<string> { \"travelinfo.txt\" };\n",
    "string travelId = await agentManager.CreateAgentWithFilesAsync(agentName, model, description, instructions, filePaths);\n",
    "Console.WriteLine($\"The agent {Utils.ObfuscateString(travelId)} has been minted. Refer to @{CreateAtName(agentName)} in chat.\");\n",
    "Console.WriteLine($\"Warning: The agent {travelId} has files and a vector store attached to it that may incur a running cost if not deleted.\");"
   ]
  },
  {
   "cell_type": "code",
   "execution_count": null,
   "metadata": {
    "dotnet_interactive": {
     "language": "csharp"
    },
    "polyglot_notebook": {
     "kernelName": "csharp"
    },
    "vscode": {
     "languageId": "polyglot-notebook"
    }
   },
   "outputs": [],
   "source": [
    "#pragma warning disable SKEXP0110, SKEXP0001, SKEXP0050, CS8600, CS8604, OPENAI001\n",
    "\n",
    "// Call the session runner and pass the list of assistant IDs inline\n",
    "await RunIndependentAgentSession(\n",
    "    new List<string>\n",
    "    {\n",
    "        maedaSettings.ReadString(\"asst1\"),\n",
    "        maedaSettings.ReadString(\"asst2\"),\n",
    "        // Add more assistant IDs here if needed\n",
    "        travelId\n",
    "    },\n",
    "    model, azureEndpoint, apiKey\n",
    ");"
   ]
  },
  {
   "cell_type": "markdown",
   "metadata": {},
   "source": [
    "## 🧽 Be sure to clean up "
   ]
  },
  {
   "cell_type": "code",
   "execution_count": null,
   "metadata": {
    "dotnet_interactive": {
     "language": "csharp"
    },
    "polyglot_notebook": {
     "kernelName": "csharp"
    },
    "vscode": {
     "languageId": "polyglot-notebook"
    }
   },
   "outputs": [],
   "source": [
    "await agentManager.DeleteAssociatedAgentFilesAndVectorStoreAsync(travelId);"
   ]
  },
  {
   "cell_type": "code",
   "execution_count": null,
   "metadata": {
    "dotnet_interactive": {
     "language": "csharp"
    },
    "polyglot_notebook": {
     "kernelName": "csharp"
    },
    "vscode": {
     "languageId": "polyglot-notebook"
    }
   },
   "outputs": [],
   "source": [
    "await agentManager.DeleteAllAgentsAsync();"
   ]
  }
 ],
 "metadata": {
  "kernelspec": {
   "display_name": ".NET (C#)",
   "language": "C#",
   "name": ".net-csharp"
  },
  "language_info": {
   "name": "python"
  },
  "polyglot_notebook": {
   "kernelInfo": {
    "defaultKernelName": "csharp",
    "items": [
     {
      "aliases": [],
      "name": "csharp"
     }
    ]
   }
  }
 },
 "nbformat": 4,
 "nbformat_minor": 2
}
