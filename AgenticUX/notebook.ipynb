{
 "cells": [
  {
   "cell_type": "markdown",
   "metadata": {},
   "source": [
    "# Kwame Nyanning: On Agentic UX, with the MD of Agxncy.ai \n",
    "\n",
    "### “Agentic UX is the overall experience a person has with an autonomous agent or agent-like product, system, or service. Agentic interfaces are composed in real-time by the agent within a generative canvas. The generative canvas and the agent are inextricable and functionally rich. Together they are able to consume and compose text, images, audio, and video content.” —via [LinkedIn](https://www.linkedin.com/posts/kwamenyanning_what-is-agentic-ux-activity-7153385059113181184-snil?utm_source=share&utm_medium=member_desktop)\n",
    "\n",
    "### With Kwame, we examine his definition of \"Agentic UX\" in the context of agents in code and the craft of service design delivery. His definition is expansive:\n",
    "\n",
    "## “““Agentic: adj. - The ability of a system to express agency or control on one's own behalf or on the behalf of another\n",
    "- On The Burden of Agency\n",
    "> Agentic experiences shift the burden of agency from a person to the agent. \n",
    "> A person assigns a goal to the agent  and the agent autonomously makes decisions and takes actions on behalf of the person to achieve their goal. \n",
    "> The agent can also engage other agents in the completion of tasks and achievement of its assigned goals. \n",
    "> Traditional software and web apps require an understanding of generic user needs to enable navigation to potential solutions. \n",
    "- On Want Over Need\n",
    "> Agentic experiences are goal based. Agents perform tasks to deliver solutions that are composed in-real time and reflect the end result a person wants. \n",
    "> Understanding needs is vital, but serving want is at the core of agentic experiences.\n",
    "> Agents reduce reliance on defined jobs to be done and customer journey frameworks. \n",
    "- On Narrative Control\n",
    "> Agentic experiences progress through narrative.  The client’s goals emerge out of dialog and the agent narrates the path to solutions.\n",
    "> The narratives can be linear, non-linear, multi-threaded, interactive, or instructive. They are  shaped by a person’s and agent's  understanding of the end goal, emphasising personalisation and subjective experience\n",
    "- On Universal Accessibility\n",
    "> Agentic systems are adaptive. They allow for  multi-modal inputs and outputs based on a  person’s ability and context.\n",
    "> People are able to engage the agent through  text, image and audio. They can also request  the agent engage with them in a manner that  best suits their desired interaction model. \n",
    "> This level of accessibility opens new  dimensions of utility and service for differently  abled people and their communities. \n",
    "- On Automatic Everything\n",
    "> As AI models improve to become more stateful and develop planning capabilities, agents will evolve into always on hyper-personalised assistants that are deeply embedded in our day-to-day and  professional lives. \n",
    "> In the meantime, innovative firms will look  for novel ways to pair GenAI, machine  learning and Robot Process Engineering (RPA) to create agentic experiences that seamlessly weave together services to automate desired outcomes. Agents are set revolutionise our digital experiences.\"\n",
    "## —Kwame Nyanning ”””\n"
   ]
  },
  {
   "cell_type": "markdown",
   "metadata": {},
   "source": [
    "## 🔥 Let's get the required packages"
   ]
  },
  {
   "cell_type": "code",
   "execution_count": null,
   "metadata": {
    "dotnet_interactive": {
     "language": "csharp"
    },
    "polyglot_notebook": {
     "kernelName": "csharp"
    },
    "vscode": {
     "languageId": "polyglot-notebook"
    }
   },
   "outputs": [],
   "source": [
    "#!import ../config/Settings.cs \n",
    "#!import ../config/Utils.cs\n",
    "\n",
    "#r \"nuget: Microsoft.SemanticKernel, 1.3.0\"\n",
    "#r \"nuget: Microsoft.SemanticKernel.Experimental.Agents, 1.3.0-alpha\"\n",
    "#r \"nuget: Microsoft.SemanticKernel.Planners.Handlebars, 1.3.0-alpha\"\n",
    "#r \"nuget: Microsoft.SemanticKernel.Plugins.Core, 1.3.0-alpha\"\n",
    "#r \"nuget: Microsoft.Extensions.Logging.Console, 8.0.0\"\n",
    "#r \"nuget: YamlDotNet, 13.7.1\""
   ]
  },
  {
   "cell_type": "code",
   "execution_count": null,
   "metadata": {
    "dotnet_interactive": {
     "language": "csharp"
    },
    "polyglot_notebook": {
     "kernelName": "csharp"
    },
    "vscode": {
     "languageId": "polyglot-notebook"
    }
   },
   "outputs": [],
   "source": [
    "#!import ../config/Settings.cs\n",
    "#!import ../config/Utils.cs\n",
    "\n",
    "using Microsoft.SemanticKernel;\n",
    "using Microsoft.SemanticKernel.Connectors.OpenAI;\n",
    "using Microsoft.SemanticKernel.Planning.Handlebars;\n",
    "using Microsoft.Extensions.Logging;\n",
    "using Kernel = Microsoft.SemanticKernel.Kernel;\n",
    "\n",
    "Kernel kernel;\n",
    "\n",
    "var (useAzureOpenAI, model, azureEndpoint, apiKey, orgId) = Settings.LoadFromFile();"
   ]
  },
  {
   "cell_type": "markdown",
   "metadata": {},
   "source": [
    "## 🧑‍🍳 Let's get cooking on this problem together!"
   ]
  },
  {
   "cell_type": "markdown",
   "metadata": {},
   "source": [
    "### 👁️ We may use some image recognition in this example\n",
    "\n",
    "![](caikwithabhijit.jpg)"
   ]
  },
  {
   "cell_type": "code",
   "execution_count": null,
   "metadata": {
    "dotnet_interactive": {
     "language": "csharp"
    },
    "polyglot_notebook": {
     "kernelName": "csharp"
    },
    "vscode": {
     "languageId": "polyglot-notebook"
    }
   },
   "outputs": [],
   "source": [
    "using System;\n",
    "using System.Threading.Tasks;\n",
    "using Microsoft.SemanticKernel.ChatCompletion;\n",
    "\n",
    "const string ImageUri = \"https://maeda.pm/wp-content/uploads/2024/02/caikwithabhijit.png\";\n",
    "\n",
    "const string OpenAIVisionEnabledModel = \"gpt-4-vision-preview\";\n",
    "\n",
    "var visionKernel = Kernel.CreateBuilder()\n",
    "    .AddOpenAIChatCompletion(OpenAIVisionEnabledModel, apiKey)\n",
    "    .Build();\n",
    "\n",
    "var visionChatCompletionService = visionKernel.GetRequiredService<IChatCompletionService>();\n",
    "\n",
    "var visionChatHistory = new ChatHistory(\"You are a friendly assistant.\");\n",
    "\n",
    "visionChatHistory.AddUserMessage(new ChatMessageContentItemCollection\n",
    "{\n",
    "    new TextContent(\"What's in this image?\"),\n",
    "    new ImageContent(new Uri(ImageUri))\n",
    "});\n",
    "\n",
    "OpenAIPromptExecutionSettings settings = new() { MaxTokens = 500, Temperature = 0.1  };\n",
    "\n",
    "var reply = await visionChatCompletionService.GetChatMessageContentAsync(visionChatHistory, settings);\n",
    "\n",
    "Console.WriteLine(Utils.WordWrap(reply.Content, 80));"
   ]
  },
  {
   "cell_type": "markdown",
   "metadata": {},
   "source": [
    "### 🧑‍🎨 Let's flex our image generation muscles a bit"
   ]
  },
  {
   "cell_type": "code",
   "execution_count": null,
   "metadata": {
    "dotnet_interactive": {
     "language": "csharp"
    },
    "polyglot_notebook": {
     "kernelName": "csharp"
    },
    "vscode": {
     "languageId": "polyglot-notebook"
    }
   },
   "outputs": [],
   "source": [
    "#pragma warning disable SKEXP0002, SKEXP0012\n",
    "\n",
    "using Microsoft.SemanticKernel.ChatCompletion;\n",
    "using Microsoft.SemanticKernel.TextToImage;\n",
    "\n",
    "Kernel painterKernel = Kernel.CreateBuilder()\n",
    "    .AddOpenAITextToImage(apiKey) // Add your text to image service\n",
    "    .Build();\n",
    "\n",
    "\n",
    "ITextToImageService dallE = painterKernel.GetRequiredService<ITextToImageService>();\n",
    "\n",
    "var image = await dallE.GenerateImageAsync(reply.Content, 256, 256);\n",
    "\n",
    "Console.WriteLine(image.Substring(8));\n"
   ]
  },
  {
   "cell_type": "markdown",
   "metadata": {},
   "source": [
    "![](https://oaidalleapiprodscus.blob.core.windows.net/private/org-rocrupyvzgcl4yf25rqq6d1v/user-llcMA8baSvN14XBWssakSbKG/img-0EmlTr3CY5EPQ5GTb9LqLNMd.png?st=2024-02-09T20%3A24%3A56Z&se=2024-02-09T22%3A24%3A56Z&sp=r&sv=2021-08-06&sr=b&rscd=inline&rsct=image/png&skoid=6aaadede-4fb3-4698-a8f6-684d7786b067&sktid=a48cca56-e6da-484e-a814-9c849652bcb3&skt=2024-02-09T20%3A54%3A28Z&ske=2024-02-10T20%3A54%3A28Z&sks=b&skv=2021-08-06&sig=W0ZV3kQMYePF4z/8WPmYp1uhXuL27x1t7BAUlAfoPVA%3D)"
   ]
  },
  {
   "cell_type": "markdown",
   "metadata": {},
   "source": [
    "![](https://oaidalleapiprodscus.blob.core.windows.net/private/org-rocrupyvzgcl4yf25rqq6d1v/user-llcMA8baSvN14XBWssakSbKG/img-IS4fYpZLQxIhReOe7419D8tV.png?st=2024-02-09T16%3A14%3A57Z&se=2024-02-09T18%3A14%3A57Z&sp=r&sv=2021-08-06&sr=b&rscd=inline&rsct=image/png&skoid=6aaadede-4fb3-4698-a8f6-684d7786b067&sktid=a48cca56-e6da-484e-a814-9c849652bcb3&skt=2024-02-08T21%3A23%3A05Z&ske=2024-02-09T21%3A23%3A05Z&sks=b&skv=2021-08-06&sig=9itiXCvmkMwKCq71dWCk/yISgWFr9pECL92z7skME1c%3D)"
   ]
  },
  {
   "cell_type": "markdown",
   "metadata": {},
   "source": [
    "### 🙉 Let's add the auditory modalities"
   ]
  },
  {
   "cell_type": "code",
   "execution_count": null,
   "metadata": {
    "dotnet_interactive": {
     "language": "csharp"
    },
    "polyglot_notebook": {
     "kernelName": "csharp"
    },
    "vscode": {
     "languageId": "polyglot-notebook"
    }
   },
   "outputs": [],
   "source": [
    "#r \"nuget: Microsoft.CognitiveServices.Speech, 1.34.1\"\n",
    "#r \"nuget: NetCoreAudio, 1.8.0\"\n",
    "#r \"nuget: Microsoft.Extensions.Configuration, 8.0.0\"\n",
    "#r \"nuget: Microsoft.Extensions.Configuration.EnvironmentVariables, 8.0.0\"\n",
    "#r \"nuget: Microsoft.Extensions.Configuration.UserSecrets, 8.0.0\"\n",
    "\n",
    "#!import ../config/Utils.cs \n",
    "#!import ../config/AzureSpeech.cs\n",
    "\n",
    "Utils.LoadEnvFile();\n",
    "\n",
    "string subscriptionKey = Environment.GetEnvironmentVariable(\"AZURE_SPEECH_KEY\");\n",
    "string subscriptionRegion = Environment.GetEnvironmentVariable(\"AZURE_SPEECH_REGION\");\n",
    "\n",
    "var speechService = new SpeechRecognitionService(subscriptionKey, subscriptionRegion);"
   ]
  },
  {
   "cell_type": "markdown",
   "metadata": {},
   "source": [
    "### 🎤 Let's listen up"
   ]
  },
  {
   "cell_type": "code",
   "execution_count": null,
   "metadata": {
    "dotnet_interactive": {
     "language": "csharp"
    },
    "polyglot_notebook": {
     "kernelName": "csharp"
    },
    "vscode": {
     "languageId": "polyglot-notebook"
    }
   },
   "outputs": [],
   "source": [
    "string recognizedText = await speechService.RecognizeOnceAsync();\n",
    "Console.WriteLine($\"Transcribed: {recognizedText}\");"
   ]
  },
  {
   "cell_type": "markdown",
   "metadata": {},
   "source": [
    "### 🗣️ And let's speak up"
   ]
  },
  {
   "cell_type": "code",
   "execution_count": null,
   "metadata": {
    "dotnet_interactive": {
     "language": "csharp"
    },
    "polyglot_notebook": {
     "kernelName": "csharp"
    },
    "vscode": {
     "languageId": "polyglot-notebook"
    }
   },
   "outputs": [],
   "source": [
    "#pragma warning disable SKEXP0101\n",
    "\n",
    "await speechService.SynthesizeSpeechAsync(recognizedText);"
   ]
  },
  {
   "cell_type": "markdown",
   "metadata": {},
   "source": [
    "## 🔥 We fire up Semantic Kernel's Experimental Agents ..."
   ]
  },
  {
   "cell_type": "code",
   "execution_count": null,
   "metadata": {
    "dotnet_interactive": {
     "language": "csharp"
    },
    "polyglot_notebook": {
     "kernelName": "csharp"
    },
    "vscode": {
     "languageId": "polyglot-notebook"
    }
   },
   "outputs": [],
   "source": [
    "using System;\n",
    "using System.Collections.Generic;\n",
    "using System.Linq;\n",
    "using System.Threading.Tasks;\n",
    "using Microsoft.SemanticKernel.Experimental.Agents;\n",
    "\n",
    "const string OpenAIFunctionEnabledModel = \"gpt-4-1106-preview\";\n"
   ]
  },
  {
   "cell_type": "code",
   "execution_count": null,
   "metadata": {
    "dotnet_interactive": {
     "language": "csharp"
    },
    "polyglot_notebook": {
     "kernelName": "csharp"
    },
    "vscode": {
     "languageId": "polyglot-notebook"
    }
   },
   "outputs": [],
   "source": [
    "using System.IO;\n",
    "using YamlDotNet.Serialization;\n",
    "using YamlDotNet.Serialization.NamingConventions;\n",
    "\n",
    "using System.IO;\n",
    "using YamlDotNet.Serialization;\n",
    "using YamlDotNet.Serialization.NamingConventions;\n",
    "using System;\n",
    "using System.Collections.Generic;\n",
    "using System.Linq;\n",
    "using System.Threading.Tasks;\n",
    "using Microsoft.SemanticKernel.Experimental.Agents;\n",
    "\n",
    "#pragma warning disable SKEXP0101\n",
    "\n",
    "public class Personay\n",
    "{\n",
    "    public string Name { get; set; }\n",
    "    public string Instructions { get; set; }\n",
    "    public string Description { get; set; }\n",
    "}\n",
    "\n",
    "public class NameGenerator\n",
    "{\n",
    "    private List<string> names;\n",
    "    private int currentIndex = -1;\n",
    "\n",
    "    public NameGenerator()\n",
    "    {\n",
    "        // Initialize the list with ungendered names\n",
    "        names = new List<string>\n",
    "        {\n",
    "            \"Alex\", \"Jordan\", \"Taylor\", \"Morgan\", \"Casey\",\n",
    "            \"Riley\", \"Jamie\", \"Avery\", \"Reese\", \"Skyler\",\n",
    "            \"Quinn\", \"Peyton\", \"Cameron\", \"Sawyer\", \"Drew\",\n",
    "            \"Charlie\", \"Emerson\", \"Dakota\", \"Parker\", \"Sidney\"\n",
    "        };\n",
    "    }\n",
    "\n",
    "    public string GetNextName()\n",
    "    {\n",
    "        // Increment the index and reset if it exceeds the list count\n",
    "        currentIndex = (currentIndex + 1) % names.Count;\n",
    "        return names[currentIndex];\n",
    "    }\n",
    "}\n",
    "\n",
    " // Track agents for clean-up\n",
    "static readonly Dictionary<string, IAgent> s_agents = new();\n",
    "\n",
    "IAgentThread? s_currentThread = null;\n",
    "\n",
    "async Task<IAgent> CreateAgentAsync(string name, string instructions, string description)\n",
    "{\n",
    "    var agent = await new AgentBuilder()\n",
    "                    .WithOpenAIChatCompletion(OpenAIFunctionEnabledModel, apiKey)\n",
    "                    .WithInstructions(instructions)\n",
    "                    .WithName(name)\n",
    "                    .WithDescription(description)\n",
    "                    .BuildAsync();\n",
    "\n",
    "    return Track(name, agent);\n",
    "}\n",
    "\n",
    "async Task CleanUpAsync()\n",
    "{\n",
    "    Console.WriteLine(\"🧽 Cleaning up ...\");\n",
    "\n",
    "    if (s_currentThread != null)\n",
    "    {\n",
    "        Console.WriteLine(\"Thread going away ...\");\n",
    "        s_currentThread.DeleteAsync();\n",
    "        s_currentThread = null;\n",
    "    }\n",
    "    \n",
    "    if (s_agents.Any())\n",
    "    {\n",
    "        Console.WriteLine(\"Agents going away ...\");\n",
    "        await Task.WhenAll(s_agents.Values.Select(agent => agent.DeleteAsync()));\n",
    "        s_agents.Clear();\n",
    "    }\n",
    "}\n",
    "\n",
    "IAgent Track(string name, IAgent agent)\n",
    "{\n",
    "    s_agents[name] = agent; // Add or update the agent in the dictionary\n",
    "    return agent;\n",
    "}\n",
    "\n"
   ]
  },
  {
   "cell_type": "markdown",
   "metadata": {},
   "source": [
    "### 🐣 Let's hatch the agent(s)"
   ]
  },
  {
   "cell_type": "code",
   "execution_count": null,
   "metadata": {
    "dotnet_interactive": {
     "language": "csharp"
    },
    "polyglot_notebook": {
     "kernelName": "csharp"
    },
    "vscode": {
     "languageId": "polyglot-notebook"
    }
   },
   "outputs": [],
   "source": [
    "List<string> personasAvailable = [\n",
    "    // front of house\n",
    "    \"RestaurantHost\",\n",
    "    \"RestaurantServer\",\n",
    "    \"RestaurantBussing\",\n",
    "    // back of house\n",
    "    \"RestaurantOrderManager\",\n",
    "    \"RestaurantCook\",\n",
    "    \"RestaurantKitchenPrep\"];\n",
    "\n",
    "List<(string Name, string Instructions, string Description)> agentInfo = new();\n",
    "NameGenerator nameGenerator = new NameGenerator();\n",
    "\n",
    "var rollcall = \"This is the rollcall for the restaurant:\\n\";\n",
    "\n",
    "foreach (var (a, i) in personasAvailable.Select((value, idx) => (value, idx + 1)))\n",
    "{\n",
    "    var yaml = File.ReadAllText($\"../agents/{a}.yaml\");\n",
    "    var deserializer = new DeserializerBuilder()\n",
    "        .WithNamingConvention(CamelCaseNamingConvention.Instance) // Use camel case naming convention\n",
    "        .Build();\n",
    "    var p = deserializer.Deserialize<Personay>(yaml);\n",
    "    string fakeName = nameGenerator.GetNextName();\n",
    "    string desc = $\"{p.Name}: {p.Description}\";\n",
    "    string instr = p.Instructions;\n",
    "    agentInfo.Add((fakeName, instr, desc));\n",
    "    Console.WriteLine($\"Agent defined: {fakeName} --> {desc}\");\n",
    "    rollcall += $\"- {i}) {fakeName} is the {desc}\\n\";\n",
    "}\n",
    "\n",
    "foreach (var (name, instructions, description) in agentInfo)\n",
    "{\n",
    "    await CreateAgentAsync(name, instructions, description);\n",
    "}\n",
    "\n",
    "Console.WriteLine(rollcall);\n",
    "s_agents"
   ]
  },
  {
   "cell_type": "markdown",
   "metadata": {},
   "source": [
    "![](serviceoverview.jpg)\n",
    "![](simplifiedjourney.jpg)\n",
    "![](serviceblueprint.jpg)"
   ]
  },
  {
   "cell_type": "markdown",
   "metadata": {},
   "source": [
    "### 🕵️💨 We check which agent will be relevant if a customer's arrived"
   ]
  },
  {
   "cell_type": "code",
   "execution_count": null,
   "metadata": {
    "dotnet_interactive": {
     "language": "csharp"
    },
    "polyglot_notebook": {
     "kernelName": "csharp"
    },
    "vscode": {
     "languageId": "polyglot-notebook"
    }
   },
   "outputs": [],
   "source": [
    "#pragma warning disable SKEXP0101\n",
    "\n",
    "IAgentThread? thread = null;\n",
    "\n",
    "thread = await s_agents[\"Alex\"].NewThreadAsync();\n",
    "await thread.AddUserMessageAsync(\n",
    "    $\"{rollcall}. A customer has arrived at the restaurant. Who is up?\");\n",
    "\n",
    "var agentMessages = await thread.InvokeAsync(s_agents[\"Alex\"]).ToArrayAsync();\n",
    "\n",
    "Console.WriteLine(Utils.WordWrap(agentMessages[0].Content, 80));"
   ]
  },
  {
   "cell_type": "markdown",
   "metadata": {},
   "source": [
    "### 🕵️💨 And then we give the agent a whirl"
   ]
  },
  {
   "cell_type": "code",
   "execution_count": null,
   "metadata": {
    "dotnet_interactive": {
     "language": "csharp"
    },
    "polyglot_notebook": {
     "kernelName": "csharp"
    },
    "vscode": {
     "languageId": "polyglot-notebook"
    }
   },
   "outputs": [],
   "source": [
    "#pragma warning disable SKEXP0101\n",
    "\n",
    "var whichAgent = \"Alex\";\n",
    "\n",
    "thread = await s_agents[whichAgent].NewThreadAsync();\n",
    "await thread.AddUserMessageAsync(\n",
    "    $\"Let's pretend a customer has arrived at the restaurant. Please do your thing.\");\n",
    "\n",
    "Console.WriteLine(\"🎤 As the customer, say something to the agent ...\");\n",
    "\n",
    "string recognizedText = await speechService.RecognizeOnceAsync();\n",
    "await thread.AddUserMessageAsync(recognizedText);\n",
    "\n",
    "var agentMessages = await thread.InvokeAsync(s_agents[whichAgent]).ToArrayAsync();\n",
    "\n",
    "Console.WriteLine(Utils.WordWrap(agentMessages[0].Content, 80));\n",
    "\n",
    "await speechService.SynthesizeSpeechAsync(agentMessages[0].Content);"
   ]
  },
  {
   "cell_type": "markdown",
   "metadata": {},
   "source": [
    "### 🕵️🗣️ Interact with this agent as you've just arrived"
   ]
  },
  {
   "cell_type": "code",
   "execution_count": null,
   "metadata": {
    "dotnet_interactive": {
     "language": "csharp"
    },
    "polyglot_notebook": {
     "kernelName": "csharp"
    },
    "vscode": {
     "languageId": "polyglot-notebook"
    }
   },
   "outputs": [],
   "source": [
    "#pragma warning disable SKEXP0101\n",
    "\n",
    "Console.WriteLine(\"🎤 As the customer, say something to the agent ...\");\n",
    "\n",
    "string recognizedText = await speechService.RecognizeOnceAsync();\n",
    "await thread.AddUserMessageAsync(recognizedText);\n",
    "\n",
    "var agentMessages = await thread.InvokeAsync(s_agents[whichAgent]).ToArrayAsync();\n",
    "\n",
    "Console.WriteLine(Utils.WordWrap(agentMessages[0].Content, 80));\n",
    "\n",
    "await speechService.SynthesizeSpeechAsync(agentMessages[0].Content);"
   ]
  },
  {
   "cell_type": "markdown",
   "metadata": {},
   "source": [
    "### 🧐 We'll next want to know which agent is needed next"
   ]
  },
  {
   "cell_type": "code",
   "execution_count": null,
   "metadata": {
    "dotnet_interactive": {
     "language": "csharp"
    },
    "polyglot_notebook": {
     "kernelName": "csharp"
    },
    "vscode": {
     "languageId": "polyglot-notebook"
    }
   },
   "outputs": [],
   "source": [
    "#pragma warning disable SKEXP0101\n",
    "\n",
    "await thread.AddUserMessageAsync(\n",
    "    $\"{rollcall}. Which agent should be used next in this service scenario?\");\n",
    "\n",
    "var agentMessages = await thread.InvokeAsync(s_agents[whichAgent]).ToArrayAsync();\n",
    "\n",
    "Console.WriteLine(Utils.WordWrap(agentMessages[0].Content, 80));"
   ]
  },
  {
   "cell_type": "markdown",
   "metadata": {},
   "source": [
    "### 🕵️ You've got a new agent to interact with"
   ]
  },
  {
   "cell_type": "code",
   "execution_count": null,
   "metadata": {
    "dotnet_interactive": {
     "language": "csharp"
    },
    "polyglot_notebook": {
     "kernelName": "csharp"
    },
    "vscode": {
     "languageId": "polyglot-notebook"
    }
   },
   "outputs": [],
   "source": [
    "#pragma warning disable SKEXP0101\n",
    "\n",
    "whichAgent = \"Jordan\";\n",
    "\n",
    "await thread.AddUserMessageAsync(\n",
    "    $\"Say something to the guest while introducing yourself.\");\n",
    "\n",
    "var agentMessages = await thread.InvokeAsync(s_agents[whichAgent]).ToArrayAsync();\n",
    "\n",
    "Console.WriteLine(Utils.WordWrap(agentMessages[0].Content, 80));\n",
    "\n",
    "await speechService.SynthesizeSpeechAsync(agentMessages[0].Content, \"en-US-BrianNeural\");"
   ]
  },
  {
   "cell_type": "markdown",
   "metadata": {},
   "source": [
    "### 🕵️🗣️ Interact with this agent so we can continue down the journey"
   ]
  },
  {
   "cell_type": "code",
   "execution_count": null,
   "metadata": {
    "dotnet_interactive": {
     "language": "csharp"
    },
    "polyglot_notebook": {
     "kernelName": "csharp"
    },
    "vscode": {
     "languageId": "polyglot-notebook"
    }
   },
   "outputs": [],
   "source": [
    "#pragma warning disable SKEXP0101\n",
    "\n",
    "Console.WriteLine(\"🎤 As the customer, say something to the agent ...\");\n",
    "\n",
    "string recognizedText = await speechService.RecognizeOnceAsync();\n",
    "await thread.AddUserMessageAsync(recognizedText);\n",
    "\n",
    "var agentMessages = await thread.InvokeAsync(s_agents[whichAgent]).ToArrayAsync();\n",
    "\n",
    "Console.WriteLine(Utils.WordWrap(agentMessages[0].Content, 80));\n",
    "\n",
    "await speechService.SynthesizeSpeechAsync(agentMessages[0].Content, \"en-US-BrianNeural\");"
   ]
  },
  {
   "cell_type": "code",
   "execution_count": null,
   "metadata": {
    "dotnet_interactive": {
     "language": "csharp"
    },
    "polyglot_notebook": {
     "kernelName": "csharp"
    },
    "vscode": {
     "languageId": "polyglot-notebook"
    }
   },
   "outputs": [],
   "source": [
    "#pragma warning disable SKEXP0101\n",
    "\n",
    "Console.WriteLine(\"🎤 As the customer, say something to the agent ...\");\n",
    "\n",
    "string recognizedText = await speechService.RecognizeOnceAsync();\n",
    "await thread.AddUserMessageAsync(recognizedText);\n",
    "\n",
    "var agentMessages = await thread.InvokeAsync(s_agents[whichAgent]).ToArrayAsync();\n",
    "\n",
    "Console.WriteLine(Utils.WordWrap(agentMessages[0].Content, 80));\n",
    "\n",
    "await speechService.SynthesizeSpeechAsync(agentMessages[0].Content, \"en-US-BrianNeural\");"
   ]
  },
  {
   "cell_type": "markdown",
   "metadata": {},
   "source": [
    "### 🧐 We'll next want to know which agent is needed next"
   ]
  },
  {
   "cell_type": "code",
   "execution_count": null,
   "metadata": {
    "dotnet_interactive": {
     "language": "csharp"
    },
    "polyglot_notebook": {
     "kernelName": "csharp"
    },
    "vscode": {
     "languageId": "polyglot-notebook"
    }
   },
   "outputs": [],
   "source": [
    "#pragma warning disable SKEXP0101\n",
    "\n",
    "await thread.AddUserMessageAsync(\n",
    "    $\"{rollcall}. Which agent should be used next in this service scenario?\");\n",
    "\n",
    "var agentMessages = await thread.InvokeAsync(s_agents[whichAgent]).ToArrayAsync();\n",
    "\n",
    "Console.WriteLine(Utils.WordWrap(agentMessages[0].Content, 80));\n",
    "await speechService.SynthesizeSpeechAsync(agentMessages[0].Content, \"en-US-BrianNeural\");"
   ]
  }
 ],
 "metadata": {
  "kernelspec": {
   "display_name": ".NET (C#)",
   "language": "C#",
   "name": ".net-csharp"
  },
  "language_info": {
   "name": "python"
  },
  "polyglot_notebook": {
   "kernelInfo": {
    "defaultKernelName": "csharp",
    "items": [
     {
      "aliases": [],
      "name": "csharp"
     }
    ]
   }
  }
 },
 "nbformat": 4,
 "nbformat_minor": 2
}
