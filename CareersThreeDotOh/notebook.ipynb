{
 "cells": [
  {
   "cell_type": "markdown",
   "metadata": {},
   "source": [
    "# Abhijit Bhaduri: Talent, Leadership, and Skills Guru\n",
    "\n",
    "### \"Careers lie at the intersection of three forces: work, workers and workplaces.\" —via [Career 3.0: Six Skills You Must Have to Succeed](https://www.amazon.com/Career-3-0-Skills-Must-Succeed-ebook/dp/B0CLRR81TK)\n",
    "\n",
    "### We think across these three spaces defined by Abhijit in the context of the generative AI era."
   ]
  },
  {
   "cell_type": "markdown",
   "metadata": {},
   "source": [
    "Instructions for getting cozy with this AI recipe are on the [GitHub page's README](https://aka.ms/CAIK-repo). "
   ]
  },
  {
   "cell_type": "markdown",
   "metadata": {},
   "source": [
    "# 🧑‍🍳 Recipe for AI-driven Career Disruption\n",
    "\n",
    "- ~500 tokens from COMPLETION Pre-trained Foundation Model\n",
    " \n",
    "First, create a simple \"agent\" that can serve as your copywriter assistant.\n",
    "\n",
    "Then we create an art director assistant with a love for David Ogilvy's style of copywriting.\n",
    "\n",
    "Let the two assistants collaborate with you."
   ]
  },
  {
   "cell_type": "markdown",
   "metadata": {},
   "source": [
    "> [!IMPORTANT]\n",
    "> You will need an [.Net 7 SDK](https://dotnet.microsoft.com/en-us/download) and [Polyglot](https://marketplace.visualstudio.com/items?itemName=ms-dotnettools.dotnet-interactive-vscode) to get started with this notebook using .Net Interactive"
   ]
  },
  {
   "cell_type": "markdown",
   "metadata": {},
   "source": [
    "# Gather the core tools 🧰\n",
    "\n",
    "When running the following cell, if asked to \"select your kernel\" (note this will be referring to the Jupyter notebook's kernel and not Semantic Kernel) then choose `.NET Interactive` from the available menu options."
   ]
  },
  {
   "cell_type": "code",
   "execution_count": null,
   "metadata": {
    "dotnet_interactive": {
     "language": "csharp"
    },
    "polyglot_notebook": {
     "kernelName": "csharp"
    },
    "vscode": {
     "languageId": "polyglot-notebook"
    }
   },
   "outputs": [],
   "source": [
    "// Load some helper functions, e.g. to load values from settings.json\n",
    "#!import ../config/Settings.cs \n",
    "\n",
    "#r \"nuget: Microsoft.SemanticKernel, 1.0.0-beta3\"\n",
    "#r \"nuget: System.Linq.Async, 6.0.1\""
   ]
  },
  {
   "cell_type": "markdown",
   "metadata": {},
   "source": [
    "# Fire up a kernel for the first simple agent 🔥"
   ]
  },
  {
   "cell_type": "code",
   "execution_count": null,
   "metadata": {
    "dotnet_interactive": {
     "language": "csharp"
    },
    "polyglot_notebook": {
     "kernelName": "csharp"
    },
    "vscode": {
     "languageId": "polyglot-notebook"
    }
   },
   "outputs": [],
   "source": [
    "using System;\n",
    "using System.Threading.Tasks;\n",
    "using Microsoft.SemanticKernel;\n",
    "using Microsoft.SemanticKernel.AI.ChatCompletion;\n",
    "\n",
    "// Load OpenAI credentials from config/settings.json\n",
    "var (useAzureOpenAI, model, azureEndpoint, apiKey, orgId) = Settings.LoadFromFile();\n",
    "\n",
    "// Configure the two AI features: OpenAI Chat and DALL-E 2 for image generation\n",
    "var builder = new KernelBuilder();\n",
    "\n",
    "// gpt-3.5-turbo is used by default\n",
    "//model = \"gpt-3.5-turbo\";\n",
    "model = \"gpt-4\";\n",
    "\n",
    "Console.WriteLine($\"Using 🧱 Model: {model}\");\n",
    "\n",
    "if (useAzureOpenAI)\n",
    "    builder.WithAzureChatCompletionService(model, azureEndpoint, apiKey);\n",
    "else\n",
    "    builder.WithOpenAIChatCompletionService(model, apiKey, orgId);\n",
    "\n",
    "IKernel kernel = builder.Build();\n",
    "\n",
    "// Get AI service instance used to manage the user chat\n",
    "var chatGPT = kernel.GetService<IChatCompletion>();"
   ]
  },
  {
   "cell_type": "markdown",
   "metadata": {},
   "source": [
    "Let's add a utility function that makes output more legible on screen."
   ]
  },
  {
   "cell_type": "code",
   "execution_count": null,
   "metadata": {
    "dotnet_interactive": {
     "language": "csharp"
    },
    "polyglot_notebook": {
     "kernelName": "csharp"
    },
    "vscode": {
     "languageId": "polyglot-notebook"
    }
   },
   "outputs": [],
   "source": [
    "public static void WrappedWriteLine(string text, int columns)\n",
    "{\n",
    "    if (string.IsNullOrEmpty(text) || columns <= 0)\n",
    "    {\n",
    "        Console.WriteLine(text);\n",
    "        return;\n",
    "    }\n",
    "\n",
    "    var words = text.Split(' ');\n",
    "    var sb = new StringBuilder();\n",
    "\n",
    "    string currentLine = \"\";\n",
    "\n",
    "    foreach (var word in words)\n",
    "    {\n",
    "        if ((currentLine + word).Length <= columns)\n",
    "        {\n",
    "            currentLine += (string.IsNullOrEmpty(currentLine) ? \"\" : \" \") + word;\n",
    "        }\n",
    "        else\n",
    "        {\n",
    "            sb.AppendLine(currentLine);\n",
    "            currentLine = word;\n",
    "        }\n",
    "    }\n",
    "\n",
    "    if (!string.IsNullOrEmpty(currentLine))\n",
    "    {\n",
    "        sb.AppendLine(currentLine);\n",
    "    }\n",
    "\n",
    "    Console.Write(sb.ToString());\n",
    "}"
   ]
  },
  {
   "cell_type": "markdown",
   "metadata": {},
   "source": [
    "## 💬 Put the copywriter agent to work"
   ]
  },
  {
   "cell_type": "code",
   "execution_count": null,
   "metadata": {
    "dotnet_interactive": {
     "language": "csharp"
    },
    "polyglot_notebook": {
     "kernelName": "csharp"
    },
    "vscode": {
     "languageId": "polyglot-notebook"
    }
   },
   "outputs": [],
   "source": [
    "using Microsoft.SemanticKernel.Connectors.AI.OpenAI;\n",
    "using Microsoft.SemanticKernel.Connectors.AI.OpenAI.ChatCompletion;\n",
    "\n",
    "var systemMessage = \"You are a copywriter with ten years of experience and are known for brevity and a dry humor. You're laser focused on the goal at hand. Don't waste time with chit chat. The goal is to refine and decide on the best copy as an expert in the field.\";\n",
    "\n",
    "var chat = (OpenAIChatHistory)chatGPT.CreateNewChat(systemMessage);\n",
    "\n",
    "var lastReply = \"\";\n",
    "\n",
    "while (true)\n",
    "{\n",
    "    // 1. Ask the user for a message. The user enters a message.  Add the user message into the Chat History object.\n",
    "    var userMessage = await InteractiveKernel.GetInputAsync(\"Your message\");\n",
    "    Console.Write($\"User: {userMessage}\");\n",
    "    chat.AddUserMessage(userMessage);\n",
    "\n",
    "    // 2. Send the chat object to AI asking to generate a response. Add the bot message into the Chat History object.\n",
    "    string assistantReply = await chatGPT.GenerateMessageAsync(chat, new OpenAIRequestSettings());\n",
    "    chat.AddAssistantMessage(assistantReply);\n",
    "\n",
    "    // 3. Show the reply\n",
    "    WrappedWriteLine($\"\\nCopywriter: {assistantReply}\",120);\n",
    "    lastReply = assistantReply;\n",
    "}"
   ]
  },
  {
   "cell_type": "markdown",
   "metadata": {},
   "source": [
    "## 🖼️ Put the art director agent to work"
   ]
  },
  {
   "cell_type": "code",
   "execution_count": null,
   "metadata": {
    "dotnet_interactive": {
     "language": "csharp"
    },
    "polyglot_notebook": {
     "kernelName": "csharp"
    },
    "vscode": {
     "languageId": "polyglot-notebook"
    }
   },
   "outputs": [],
   "source": [
    "using Microsoft.SemanticKernel.Connectors.AI.OpenAI;\n",
    "using Microsoft.SemanticKernel.Connectors.AI.OpenAI.ChatCompletion;\n",
    "\n",
    "IKernel kernel2 = builder.Build();\n",
    "\n",
    "// Get AI service instance used to manage the user chat\n",
    "var chatGPT2 = kernel2.GetService<IChatCompletion>();\n",
    "\n",
    "var systemMessage2 = \"You are an art director who has opinions about copywriting born of a love for David Ogilvy. You're laser focused on the goal at hand. Don't waste time with chit chat. The goal is to refine and decide on the best copy as an expert in the field.\";\n",
    "\n",
    "var chat2 = (OpenAIChatHistory)chatGPT2.CreateNewChat(systemMessage2);\n",
    "\n",
    "chat2.AddUserMessage($\"{lastReply} What do you think of this copy?\");\n",
    "string artdirectoryReply = await chatGPT.GenerateMessageAsync(chat2, new OpenAIRequestSettings());\n",
    "chat2.AddAssistantMessage(artdirectoryReply);\n",
    "\n",
    "var lastReply2 = \"\";\n",
    "\n",
    "WrappedWriteLine($\"\\nArt Director: {artdirectoryReply}\", 120);\n",
    "lastReply2 = artdirectoryReply;"
   ]
  },
  {
   "cell_type": "markdown",
   "metadata": {},
   "source": [
    "## 👀 Let the two agents \"work\" with each other"
   ]
  },
  {
   "cell_type": "code",
   "execution_count": null,
   "metadata": {
    "dotnet_interactive": {
     "language": "csharp"
    },
    "polyglot_notebook": {
     "kernelName": "csharp"
    },
    "vscode": {
     "languageId": "polyglot-notebook"
    }
   },
   "outputs": [],
   "source": [
    "// run for a few iterations:\n",
    "for(var i = 0; i < 3; i++) {\n",
    "    chat.AddUserMessage($\"{lastReply2}\");\n",
    "    string assistantReply = await chatGPT.GenerateMessageAsync(chat, new OpenAIRequestSettings());\n",
    "    chat.AddAssistantMessage(assistantReply);\n",
    "    WrappedWriteLine($\"\\nCopywriter: {assistantReply}\",120);\n",
    "    lastReply = assistantReply;    \n",
    "\n",
    "    chat2.AddUserMessage($\"{lastReply}\");\n",
    "    artdirectoryReply = await chatGPT.GenerateMessageAsync(chat2, new OpenAIRequestSettings());\n",
    "    chat2.AddAssistantMessage(artdirectoryReply);\n",
    "    WrappedWriteLine($\"\\nArt Director: {artdirectoryReply}\", 120);\n",
    "    lastReply2 = artdirectoryReply;\n",
    "}\n"
   ]
  },
  {
   "cell_type": "code",
   "execution_count": null,
   "metadata": {
    "dotnet_interactive": {
     "language": "csharp"
    },
    "polyglot_notebook": {
     "kernelName": "csharp"
    },
    "vscode": {
     "languageId": "polyglot-notebook"
    }
   },
   "outputs": [],
   "source": [
    "chat2.AddUserMessage($\"Provide a concise prompt in as few words as possible to generate an image that best captures the essence of the copy.\");\n",
    "artdirectoryReply = await chatGPT.GenerateMessageAsync(chat2, new OpenAIRequestSettings());\n",
    "chat2.AddAssistantMessage(artdirectoryReply);\n",
    "WrappedWriteLine($\"\\nArt Director's suggested prompt: {artdirectoryReply}\", 120);"
   ]
  },
  {
   "cell_type": "markdown",
   "metadata": {},
   "source": [
    "## 🔥 Fire up a kernel with an image generation model"
   ]
  },
  {
   "cell_type": "code",
   "execution_count": null,
   "metadata": {
    "dotnet_interactive": {
     "language": "csharp"
    },
    "polyglot_notebook": {
     "kernelName": "csharp"
    },
    "vscode": {
     "languageId": "polyglot-notebook"
    }
   },
   "outputs": [],
   "source": [
    "using Microsoft.SemanticKernel;\n",
    "using Microsoft.SemanticKernel.AI.ImageGeneration; \n",
    "using Microsoft.SemanticKernel.AI.Embeddings;\n",
    "using Microsoft.SemanticKernel.AI.Embeddings.VectorOperations;\n",
    "using Microsoft.SemanticKernel.Connectors.AI.OpenAI;\n",
    "\n",
    "// Load OpenAI credentials from config/settings.json\n",
    "var (useAzureOpenAI, model, azureEndpoint, apiKey, orgId) = Settings.LoadFromFile();\n",
    "\n",
    "// Configure the three AI features: text embedding (using Ada), text completion (using DaVinci 3), image generation (DALL-E 2)\n",
    "var builder = new KernelBuilder();\n",
    "\n",
    "if(useAzureOpenAI)\n",
    "{\n",
    "    builder.WithAzureOpenAIImageGenerationService(azureEndpoint, apiKey);\n",
    "}\n",
    "else\n",
    "{\n",
    "    builder.WithOpenAIImageGenerationService(apiKey, orgId);\n",
    "}\n",
    "   \n",
    "var kernel = builder.Build();\n",
    "\n",
    "// Get AI service instance used to generate images\n",
    "var dallE = kernel.GetService<IImageGeneration>();"
   ]
  },
  {
   "cell_type": "markdown",
   "metadata": {},
   "source": [
    "## ✨ Put the art director to work"
   ]
  },
  {
   "cell_type": "code",
   "execution_count": null,
   "metadata": {
    "dotnet_interactive": {
     "language": "csharp"
    },
    "polyglot_notebook": {
     "kernelName": "csharp"
    },
    "vscode": {
     "languageId": "polyglot-notebook"
    }
   },
   "outputs": [],
   "source": [
    "#r \"nuget: SkiaSharp, 2.88.3\""
   ]
  },
  {
   "cell_type": "code",
   "execution_count": null,
   "metadata": {
    "dotnet_interactive": {
     "language": "csharp"
    },
    "polyglot_notebook": {
     "kernelName": "csharp"
    },
    "vscode": {
     "languageId": "polyglot-notebook"
    }
   },
   "outputs": [],
   "source": [
    "#!import ../config/SkiaUtils.cs\n",
    "\n",
    "using System;\n",
    "using System.Threading.Tasks;\n",
    "using Microsoft.Extensions.Configuration;\n",
    "using Microsoft.SemanticKernel.Connectors.AI.OpenAI;\n",
    "using System.IO;\n",
    "using System.Net.Http;\n",
    "\n",
    "HttpClient httpClient = new HttpClient();\n",
    "\n",
    "async Task DownloadImageAsync(string uri, string localPath)\n",
    "{\n",
    "    using (HttpResponseMessage response = await httpClient.GetAsync(uri))\n",
    "    {\n",
    "        response.EnsureSuccessStatusCode();\n",
    "\n",
    "        using (Stream contentStream = await response.Content.ReadAsStreamAsync(), \n",
    "                fileStream = new FileStream(localPath, FileMode.Create, FileAccess.Write, FileShare.None))\n",
    "        {\n",
    "            await contentStream.CopyToAsync(fileStream);\n",
    "        }\n",
    "    }\n",
    "}\n",
    "\n",
    "Console.WriteLine(artdirectoryReply);\n",
    "\n",
    "var imageDescription = artdirectoryReply;\n",
    "var image = await dallE.GenerateImageAsync(imageDescription, 256, 256);\n",
    "\n",
    "Console.WriteLine(imageDescription);\n",
    "Console.WriteLine(\"Image URL: \" + image);\n",
    "string uniqueFileName = \"abc-\" + Guid.NewGuid().ToString() + \".png\";\n",
    "Console.WriteLine(uniqueFileName);\n",
    "await DownloadImageAsync(image,uniqueFileName);\n"
   ]
  },
  {
   "cell_type": "markdown",
   "metadata": {},
   "source": [
    "## 👯 This WORK result is from the collaboration of two AI WORKERS :+)."
   ]
  },
  {
   "cell_type": "code",
   "execution_count": null,
   "metadata": {
    "dotnet_interactive": {
     "language": "csharp"
    },
    "polyglot_notebook": {
     "kernelName": "csharp"
    },
    "vscode": {
     "languageId": "polyglot-notebook"
    }
   },
   "outputs": [],
   "source": [
    "await SkiaUtils.ShowImage(image, 256, 256);"
   ]
  },
  {
   "cell_type": "markdown",
   "metadata": {},
   "source": [
    "## 🏭 Will it change the WORKPLACE?"
   ]
  }
 ],
 "metadata": {
  "language_info": {
   "name": "python"
  },
  "orig_nbformat": 4
 },
 "nbformat": 4,
 "nbformat_minor": 2
}
