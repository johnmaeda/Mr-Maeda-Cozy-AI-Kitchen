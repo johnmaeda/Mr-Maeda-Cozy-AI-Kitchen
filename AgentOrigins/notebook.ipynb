{
 "cells": [
  {
   "cell_type": "markdown",
   "metadata": {},
   "source": [
    "# Professor Pattie Maes: AI Agents Pioneer and Fluid Interfaces Expert\n",
    "\n",
    "### “Traditional AI approaches, which use symbolic knowledge representation that embody fundamental 'rules of thought,' have been turned upside down by the new school, whose adherents write simple small programs that are designed to let intelligence evolve as the programs interact.“ —on the early work of MIT Professor Pattie Maes in Internet Computing 1997, [IEEE (Volume 1, Issue 4)](https://web.archive.org/web/20150924211429/http://ieeexplore.ieee.org/xpl/login.jsp?tp=&arnumber=612209&url=http%3A%2F%2Fieeexplore.ieee.org%2Fstamp%2Fstamp.jsp%3Ftp%3D%26arnumber%3D612209)”\n",
    "\n",
    "![](pattiemaes.jpeg)\n",
    "\n",
    "### With Prof. Maes we explore the world of agents in 2024 in the context of the MIT Media Lab where she leads research and educational initiatives.\n",
    "\n"
   ]
  },
  {
   "cell_type": "markdown",
   "metadata": {},
   "source": [
    "## 🔥 Let's get the required packages"
   ]
  },
  {
   "cell_type": "code",
   "execution_count": null,
   "metadata": {
    "dotnet_interactive": {
     "language": "csharp"
    },
    "polyglot_notebook": {
     "kernelName": "csharp"
    },
    "vscode": {
     "languageId": "polyglot-notebook"
    }
   },
   "outputs": [],
   "source": [
    "#!import ../config/Settings.cs \n",
    "#!import ../config/Utils.cs\n",
    "\n",
    "#r \"nuget: Microsoft.SemanticKernel, 1.3.0\"\n",
    "#r \"nuget: Microsoft.SemanticKernel.Planners.Handlebars, 1.3.0-alpha\"\n",
    "#r \"nuget: Microsoft.SemanticKernel.Plugins.Core, 1.3.0-alpha\"\n",
    "#r \"nuget: Microsoft.Extensions.Logging.Console, 8.0.0\"\n",
    "#r \"nuget: YamlDotNet, 13.7.1\""
   ]
  },
  {
   "cell_type": "code",
   "execution_count": null,
   "metadata": {
    "dotnet_interactive": {
     "language": "csharp"
    },
    "polyglot_notebook": {
     "kernelName": "csharp"
    },
    "vscode": {
     "languageId": "polyglot-notebook"
    }
   },
   "outputs": [],
   "source": [
    "#!import ../config/Settings.cs\n",
    "#!import ../config/Utils.cs\n",
    "\n",
    "using Microsoft.SemanticKernel;\n",
    "using Microsoft.SemanticKernel.Connectors.OpenAI;\n",
    "using Microsoft.SemanticKernel.Planning.Handlebars;\n",
    "using Microsoft.Extensions.Logging;\n",
    "using Kernel = Microsoft.SemanticKernel.Kernel;\n",
    "\n",
    "Kernel kernel;\n",
    "\n",
    "var (useAzureOpenAI, model, azureEndpoint, apiKey, orgId) = Settings.LoadFromFile();"
   ]
  },
  {
   "cell_type": "markdown",
   "metadata": {},
   "source": [
    "## 🥸 We fire up Semantic Kernel's Experimental Agents ..."
   ]
  },
  {
   "cell_type": "code",
   "execution_count": null,
   "metadata": {
    "dotnet_interactive": {
     "language": "csharp"
    },
    "polyglot_notebook": {
     "kernelName": "csharp"
    },
    "vscode": {
     "languageId": "polyglot-notebook"
    }
   },
   "outputs": [],
   "source": [
    "#r \"nuget: Microsoft.SemanticKernel.Experimental.Agents, 1.3.0-alpha\"\n",
    "\n",
    "using System;\n",
    "using System.Collections.Generic;\n",
    "using System.Linq;\n",
    "using System.Threading.Tasks;\n",
    "using Microsoft.SemanticKernel.Experimental.Agents;\n",
    "\n",
    "const string OpenAIFunctionEnabledModel = \"gpt-4-1106-preview\";\n"
   ]
  },
  {
   "cell_type": "code",
   "execution_count": null,
   "metadata": {
    "dotnet_interactive": {
     "language": "csharp"
    },
    "polyglot_notebook": {
     "kernelName": "csharp"
    },
    "vscode": {
     "languageId": "polyglot-notebook"
    }
   },
   "outputs": [],
   "source": [
    "using System.IO;\n",
    "using YamlDotNet.Serialization;\n",
    "using YamlDotNet.Serialization.NamingConventions;\n",
    "\n",
    "using System.IO;\n",
    "using YamlDotNet.Serialization;\n",
    "using YamlDotNet.Serialization.NamingConventions;\n",
    "using System;\n",
    "using System.Collections.Generic;\n",
    "using System.Linq;\n",
    "using System.Threading.Tasks;\n",
    "using Microsoft.SemanticKernel.Experimental.Agents;\n",
    "\n",
    "#pragma warning disable SKEXP0101\n",
    "\n",
    "public class Personay\n",
    "{\n",
    "    public string Name { get; set; }\n",
    "    public string Instructions { get; set; }\n",
    "    public string Description { get; set; }\n",
    "}\n",
    "\n",
    "public class NameGenerator\n",
    "{\n",
    "    private List<string> names;\n",
    "    private int currentIndex = -1;\n",
    "\n",
    "    public NameGenerator()\n",
    "    {\n",
    "        // Initialize the list with ungendered names\n",
    "        names = new List<string>\n",
    "        {\n",
    "            \"Alex\", \"Jordan\", \"Taylor\", \"Morgan\", \"Casey\",\n",
    "            \"Riley\", \"Jamie\", \"Avery\", \"Reese\", \"Skyler\",\n",
    "            \"Quinn\", \"Peyton\", \"Cameron\", \"Sawyer\", \"Drew\",\n",
    "            \"Charlie\", \"Emerson\", \"Dakota\", \"Parker\", \"Sidney\"\n",
    "        };\n",
    "    }\n",
    "\n",
    "    public string GetNextName()\n",
    "    {\n",
    "        // Increment the index and reset if it exceeds the list count\n",
    "        currentIndex = (currentIndex + 1) % names.Count;\n",
    "        return names[currentIndex];\n",
    "    }\n",
    "}\n",
    "\n",
    " // Track agents for clean-up\n",
    "static readonly Dictionary<string, IAgent> s_agents = new();\n",
    "\n",
    "IAgentThread? s_currentThread = null;\n",
    "\n",
    "async Task<IAgent> CreateAgentAsync(string name, string instructions, string description)\n",
    "{\n",
    "    var agent = await new AgentBuilder()\n",
    "                    .WithOpenAIChatCompletion(OpenAIFunctionEnabledModel, apiKey)\n",
    "                    .WithInstructions(instructions)\n",
    "                    .WithName(name)\n",
    "                    .WithDescription(description)\n",
    "                    .BuildAsync();\n",
    "\n",
    "    return Track(name, agent);\n",
    "}\n",
    "\n",
    "async Task CleanUpAsync()\n",
    "{\n",
    "    Console.WriteLine(\"🧽 Cleaning up ...\");\n",
    "\n",
    "    if (s_currentThread != null)\n",
    "    {\n",
    "        Console.WriteLine(\"Thread going away ...\");\n",
    "        s_currentThread.DeleteAsync();\n",
    "        s_currentThread = null;\n",
    "    }\n",
    "    \n",
    "    if (s_agents.Any())\n",
    "    {\n",
    "        Console.WriteLine(\"Agents going away ...\");\n",
    "        await Task.WhenAll(s_agents.Values.Select(agent => agent.DeleteAsync()));\n",
    "        s_agents.Clear();\n",
    "    }\n",
    "}\n",
    "\n",
    "IAgent Track(string name, IAgent agent)\n",
    "{\n",
    "    s_agents[name] = agent; // Add or update the agent in the dictionary\n",
    "    return agent;\n",
    "}\n",
    "\n"
   ]
  },
  {
   "cell_type": "markdown",
   "metadata": {},
   "source": [
    "### 🐣 Let's hatch the Media Lab agents"
   ]
  },
  {
   "cell_type": "code",
   "execution_count": null,
   "metadata": {
    "dotnet_interactive": {
     "language": "csharp"
    },
    "polyglot_notebook": {
     "kernelName": "csharp"
    },
    "vscode": {
     "languageId": "polyglot-notebook"
    }
   },
   "outputs": [],
   "source": [
    "List<string> personasAvailable = [\n",
    "    \"MediaLabGateway\",\n",
    "    \"MediaLabNavigator\",\n",
    "    \"MediaLabSpotlight\"\n",
    "];\n",
    "\n",
    "List<(string Name, string Instructions, string Description)> agentInfo = new();\n",
    "NameGenerator nameGenerator = new NameGenerator();\n",
    "\n",
    "var rollcall = \"This is the rollcall for the restaurant:\\n\";\n",
    "\n",
    "foreach (var (a, i) in personasAvailable.Select((value, idx) => (value, idx + 1)))\n",
    "{\n",
    "    var yaml = File.ReadAllText($\"../agents/{a}.yaml\");\n",
    "    var deserializer = new DeserializerBuilder()\n",
    "        .WithNamingConvention(CamelCaseNamingConvention.Instance) // Use camel case naming convention\n",
    "        .Build();\n",
    "    var p = deserializer.Deserialize<Personay>(yaml);\n",
    "    string fakeName = nameGenerator.GetNextName();\n",
    "    string desc = $\"{p.Name}: {p.Description}\";\n",
    "    string instr = p.Instructions;\n",
    "    agentInfo.Add((fakeName, instr, desc));\n",
    "    Console.WriteLine($\"Agent defined: {fakeName} --> {desc}\");\n",
    "    rollcall += $\"- {i}) {fakeName} is the {desc}\\n\";\n",
    "}\n",
    "\n",
    "foreach (var (name, instructions, description) in agentInfo)\n",
    "{\n",
    "    await CreateAgentAsync(name, instructions, description);\n",
    "}\n",
    "\n",
    "Console.WriteLine(rollcall);\n",
    "s_agents"
   ]
  },
  {
   "cell_type": "markdown",
   "metadata": {},
   "source": [
    "### 🕵️💨 We check which agent will be relevant if a corporate sponsor's arrived"
   ]
  },
  {
   "cell_type": "code",
   "execution_count": null,
   "metadata": {
    "dotnet_interactive": {
     "language": "csharp"
    },
    "polyglot_notebook": {
     "kernelName": "csharp"
    },
    "vscode": {
     "languageId": "polyglot-notebook"
    }
   },
   "outputs": [],
   "source": [
    "#pragma warning disable SKEXP0101\n",
    "\n",
    "IAgentThread? thread = null;\n",
    "\n",
    "thread = await s_agents[\"Alex\"].NewThreadAsync();\n",
    "await thread.AddUserMessageAsync(\n",
    "    $\"{rollcall}. A sponsor has arrived at the MIT Media Lab. Who is up?\");\n",
    "\n",
    "var agentMessages = await thread.InvokeAsync(s_agents[\"Alex\"]).ToArrayAsync();\n",
    "\n",
    "Console.WriteLine(Utils.WordWrap(agentMessages[0].Content, 80));"
   ]
  },
  {
   "cell_type": "markdown",
   "metadata": {},
   "source": [
    "### 🕵️💨 And then we give the agent a whirl"
   ]
  },
  {
   "cell_type": "code",
   "execution_count": null,
   "metadata": {
    "dotnet_interactive": {
     "language": "csharp"
    },
    "polyglot_notebook": {
     "kernelName": "csharp"
    },
    "vscode": {
     "languageId": "polyglot-notebook"
    }
   },
   "outputs": [],
   "source": [
    "#pragma warning disable SKEXP0101\n",
    "\n",
    "var whichAgent = \"Alex\";\n",
    "\n",
    "thread = await s_agents[whichAgent].NewThreadAsync();\n",
    "await thread.AddUserMessageAsync(\n",
    "    $\"Let's pretend a corporate sponsor has arrived at the MIT Media Lab. Please do your thing.\");\n",
    "\n",
    "//Console.WriteLine(\"🎤 As the corporate sponsor, say something to the agent ...\");\n",
    "//string recognizedText = await speechService.RecognizeOnceAsync();\n",
    "string recognizedText = \"I am a corporate sponsor and I am interested in learning more about the Media Lab.\";\n",
    "await thread.AddUserMessageAsync(recognizedText);\n",
    "\n",
    "var agentMessages = await thread.InvokeAsync(s_agents[whichAgent]).ToArrayAsync();\n",
    "\n",
    "Console.WriteLine(Utils.WordWrap(agentMessages[0].Content, 80));\n",
    "\n",
    "//await speechService.SynthesizeSpeechAsync(agentMessages[0].Content);"
   ]
  },
  {
   "cell_type": "markdown",
   "metadata": {},
   "source": [
    "### 🕵️🗣️ Interact with this agent as you've just arrived"
   ]
  },
  {
   "cell_type": "code",
   "execution_count": null,
   "metadata": {
    "dotnet_interactive": {
     "language": "csharp"
    },
    "polyglot_notebook": {
     "kernelName": "csharp"
    },
    "vscode": {
     "languageId": "polyglot-notebook"
    }
   },
   "outputs": [],
   "source": [
    "#pragma warning disable SKEXP0101\n",
    "\n",
    "//Console.WriteLine(\"🎤 As the corporate sponsor, say something to the agent ...\");\n",
    "//string recognizedText = await speechService.RecognizeOnceAsync();\n",
    "\n",
    "string recognizedText = \"Thanks. I want to see the work of Pattie Maes. I hear she's a genius.\";\n",
    "await thread.AddUserMessageAsync(recognizedText);\n",
    "\n",
    "var agentMessages = await thread.InvokeAsync(s_agents[whichAgent]).ToArrayAsync();\n",
    "\n",
    "Console.WriteLine(Utils.WordWrap(agentMessages[0].Content, 80));\n",
    "\n",
    "//await speechService.SynthesizeSpeechAsync(agentMessages[0].Content);"
   ]
  },
  {
   "cell_type": "markdown",
   "metadata": {},
   "source": [
    "### 🧐 We'll next want to know which agent is needed next"
   ]
  },
  {
   "cell_type": "code",
   "execution_count": null,
   "metadata": {
    "dotnet_interactive": {
     "language": "csharp"
    },
    "polyglot_notebook": {
     "kernelName": "csharp"
    },
    "vscode": {
     "languageId": "polyglot-notebook"
    }
   },
   "outputs": [],
   "source": [
    "#pragma warning disable SKEXP0101\n",
    "\n",
    "await thread.AddUserMessageAsync(\n",
    "    $\"{rollcall}. Which agent should be used next in this lab visitor scenario?\");\n",
    "\n",
    "var agentMessages = await thread.InvokeAsync(s_agents[whichAgent]).ToArrayAsync();\n",
    "\n",
    "Console.WriteLine(Utils.WordWrap(agentMessages[0].Content, 80));"
   ]
  },
  {
   "cell_type": "markdown",
   "metadata": {},
   "source": [
    "### 🕵️ You've got a new agent to interact with"
   ]
  },
  {
   "cell_type": "code",
   "execution_count": null,
   "metadata": {
    "dotnet_interactive": {
     "language": "csharp"
    },
    "polyglot_notebook": {
     "kernelName": "csharp"
    },
    "vscode": {
     "languageId": "polyglot-notebook"
    }
   },
   "outputs": [],
   "source": [
    "#pragma warning disable SKEXP0101\n",
    "\n",
    "whichAgent = \"Jordan\";\n",
    "\n",
    "await thread.AddUserMessageAsync(\n",
    "    $\"Say something to the guest while introducing yourself.\");\n",
    "\n",
    "var agentMessages = await thread.InvokeAsync(s_agents[whichAgent]).ToArrayAsync();\n",
    "\n",
    "Console.WriteLine(Utils.WordWrap(agentMessages[0].Content, 80));\n",
    "\n",
    "//await speechService.SynthesizeSpeechAsync(agentMessages[0].Content, \"en-US-BrianNeural\");"
   ]
  },
  {
   "cell_type": "markdown",
   "metadata": {},
   "source": [
    "### 🕵️🗣️ Interact with this agent so we can continue down the journey"
   ]
  },
  {
   "cell_type": "code",
   "execution_count": null,
   "metadata": {
    "dotnet_interactive": {
     "language": "csharp"
    },
    "polyglot_notebook": {
     "kernelName": "csharp"
    },
    "vscode": {
     "languageId": "polyglot-notebook"
    }
   },
   "outputs": [],
   "source": [
    "#pragma warning disable SKEXP0101\n",
    "\n",
    "//Console.WriteLine(\"🎤 As the customer, say something to the agent ...\");\n",
    "//string recognizedText = await speechService.RecognizeOnceAsync();\n",
    "string recognizedText = \"I'm excited to see the work of Pattie Maes. Where is her group located. Are you taking me to see her?\";\n",
    "await thread.AddUserMessageAsync(recognizedText);\n",
    "\n",
    "var agentMessages = await thread.InvokeAsync(s_agents[whichAgent]).ToArrayAsync();\n",
    "\n",
    "Console.WriteLine(Utils.WordWrap(agentMessages[0].Content, 80));\n",
    "\n",
    "//await speechService.SynthesizeSpeechAsync(agentMessages[0].Content, \"en-US-BrianNeural\");"
   ]
  },
  {
   "cell_type": "markdown",
   "metadata": {},
   "source": [
    "### 🧐 We'll next want to know which agent is needed next"
   ]
  },
  {
   "cell_type": "code",
   "execution_count": null,
   "metadata": {
    "dotnet_interactive": {
     "language": "csharp"
    },
    "polyglot_notebook": {
     "kernelName": "csharp"
    },
    "vscode": {
     "languageId": "polyglot-notebook"
    }
   },
   "outputs": [],
   "source": [
    "#pragma warning disable SKEXP0101\n",
    "\n",
    "await thread.AddUserMessageAsync(\n",
    "    $\"{rollcall}. Which agent should be used next in this service scenario?\");\n",
    "\n",
    "var agentMessages = await thread.InvokeAsync(s_agents[whichAgent]).ToArrayAsync();\n",
    "\n",
    "Console.WriteLine(Utils.WordWrap(agentMessages[0].Content, 80));\n",
    "//await speechService.SynthesizeSpeechAsync(agentMessages[0].Content, \"en-US-BrianNeural\");"
   ]
  }
 ],
 "metadata": {
  "language_info": {
   "name": "python"
  }
 },
 "nbformat": 4,
 "nbformat_minor": 2
}
