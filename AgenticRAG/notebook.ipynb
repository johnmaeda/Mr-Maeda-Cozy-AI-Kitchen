{
 "cells": [
  {
   "cell_type": "markdown",
   "metadata": {},
   "source": [
    "# John Maeda: Quickstart Your RAGventure With Agents"
   ]
  },
  {
   "cell_type": "markdown",
   "metadata": {},
   "source": [
    "## 🔥 Let's get the required packages"
   ]
  },
  {
   "cell_type": "code",
   "execution_count": null,
   "metadata": {
    "dotnet_interactive": {
     "language": "csharp"
    },
    "polyglot_notebook": {
     "kernelName": "csharp"
    },
    "vscode": {
     "languageId": "polyglot-notebook"
    }
   },
   "outputs": [],
   "source": [
    "#r \"nuget: Azure.AI.OpenAI, 2.0.0-beta.4\"\n",
    "#r \"nuget: Azure.Core, 1.42.0\"\n",
    "#r \"nuget: Azure.Identity, 1.13.0-beta.1\"\n",
    "#r \"nuget: Microsoft.Extensions.Configuration, 8.0.0\"\n",
    "#r \"nuget: Microsoft.Extensions.Configuration.Json, 8.0.0\"\n",
    "#r \"nuget: Microsoft.SemanticKernel, 1.18.0-rc\"\n",
    "#r \"nuget: Microsoft.SemanticKernel.Abstractions, 1.18.1-rc\"\n",
    "#r \"nuget: Microsoft.SemanticKernel.Agents.Core, 1.18.1-alpha\"\n",
    "#r \"nuget: Microsoft.SemanticKernel.Agents.OpenAI, 1.18.1-alpha\"\n",
    "#r \"nuget: Microsoft.SemanticKernel.Connectors.OpenAI, 1.18.1-rc\"\n",
    "#r \"nuget: Microsoft.SemanticKernel.Core, 1.18.1-rc\"\n",
    "#r \"nuget: Microsoft.SemanticKernel.Plugins.Core, 1.18.1-alpha\"\n",
    "#r \"nuget: Microsoft.Extensions.Configuration, 8.0.0\"\n",
    "#r \"nuget: Microsoft.Extensions.Configuration.Json, 8.0.0\""
   ]
  },
  {
   "cell_type": "markdown",
   "metadata": {},
   "source": [
    "My config.json looks like this:\n",
    "```\n",
    "{\n",
    "  \"type\": \"azure\",\n",
    "  \"model\": \"gpt-4o\",\n",
    "  \"endpoint\": \"https://ai-johnmaeda.../\",\n",
    "  \"apikey\": \"...\",\n",
    "  \"org\": \"\",\n",
    "  \"asst1\": \"asst_...\",\n",
    "  \"asst2\": \"asst_...\",\n",
    "  \"AZURE_SPEECH_KEY\": \"489....\",\n",
    "  \"AZURE_SPEECH_REGION\": \"eastus\"\n",
    "}\n",
    "```"
   ]
  },
  {
   "cell_type": "code",
   "execution_count": null,
   "metadata": {
    "dotnet_interactive": {
     "language": "csharp"
    },
    "polyglot_notebook": {
     "kernelName": "csharp"
    },
    "vscode": {
     "languageId": "polyglot-notebook"
    }
   },
   "outputs": [],
   "source": [
    "#!import ../config/MaedaSettings.cs\n",
    "#!import ../config/Utils.cs\n",
    "\n",
    "using Microsoft.Extensions.Configuration;\n",
    "using Microsoft.SemanticKernel;\n",
    "using Microsoft.SemanticKernel.Agents.OpenAI;\n",
    "using Microsoft.SemanticKernel.ChatCompletion;\n",
    "using Microsoft.SemanticKernel.Connectors.OpenAI;\n",
    "using Microsoft.SemanticKernel.Plugins.Core;\n",
    "using System;\n",
    "using System.Text.Json;\n",
    "using System.Collections.Generic;\n",
    "using System.Threading.Tasks;\n",
    "using System.ComponentModel;\n",
    "using System.Net.Http;\n",
    "using System.Net.Http.Headers;\n",
    "using Microsoft.Extensions.DependencyInjection;\n",
    "using System.Threading;\n",
    "using OpenAI.Files;\n",
    "using OpenAI.VectorStores;\n",
    "\n",
    "var settingsPath = Path.GetFullPath(\"../config/settings.json\");\n",
    "Console.WriteLine($\"Settings Path: {settingsPath}\");\n",
    "\n",
    "var maedaSettings = new MaedaSettings(settingsPath, true);\n",
    "\n",
    "// Load all settings into a tuple\n",
    "var (useAzureOpenAI, model, azureEndpoint, apiKey, orgId) = maedaSettings.LoadSettings();"
   ]
  },
  {
   "cell_type": "markdown",
   "metadata": {},
   "source": [
    "# Let's have a few plugins available"
   ]
  },
  {
   "cell_type": "code",
   "execution_count": null,
   "metadata": {
    "dotnet_interactive": {
     "language": "csharp"
    },
    "polyglot_notebook": {
     "kernelName": "csharp"
    },
    "vscode": {
     "languageId": "polyglot-notebook"
    }
   },
   "outputs": [],
   "source": [
    "public class TimePlugin\n",
    "{\n",
    "    [KernelFunction]\n",
    "    [Description(\"Retrieves the current time in UTC.\")]\n",
    "    public string GetCurrentUtcTime() => DateTime.UtcNow.ToString(\"R\");\n",
    "}\n",
    "\n",
    "var timePlugin = new TimePlugin();\n",
    "\n",
    "string mytime = timePlugin.GetCurrentUtcTime();\n",
    "Console.WriteLine($\"Current time: {mytime}\");"
   ]
  },
  {
   "cell_type": "code",
   "execution_count": null,
   "metadata": {
    "vscode": {
     "languageId": "polyglot-notebook"
    }
   },
   "outputs": [],
   "source": [
    "#!import ./WeatherPlugin.cs\n",
    "\n",
    "// use the weatherplugin and call the weather\n",
    "var weatherPlugin = new WeatherPlugin(maedaSettings.ReadString(\"OPENWEATHER_API_KEY\"));\n",
    "\n",
    "string city = \"Austin\";\n",
    "string weather = await weatherPlugin.GetWeatherAsync(city);\n",
    "\n",
    "Console.WriteLine($\"The weather in {city} is {weather}\");\n",
    "\n",
    "// make a list of kernel plugins\n",
    "var kernelPlugins = new List<object>\n",
    "{\n",
    "    weatherPlugin,\n",
    "    timePlugin\n",
    "};"
   ]
  },
  {
   "cell_type": "markdown",
   "metadata": {},
   "source": [
    "# Let's create an Azure AI Agent wrapper"
   ]
  },
  {
   "cell_type": "code",
   "execution_count": 36,
   "metadata": {
    "dotnet_interactive": {
     "language": "csharp"
    },
    "polyglot_notebook": {
     "kernelName": "csharp"
    },
    "vscode": {
     "languageId": "polyglot-notebook"
    }
   },
   "outputs": [],
   "source": [
    "#!import ../config/Utils.cs\n",
    "\n",
    "#pragma warning disable SKEXP0110, SKEXP0001, SKEXP0050, CS8600, CS8604, OPENAI001\n",
    "\n",
    "public class MyAzureAIAgent\n",
    "{\n",
    "    private readonly string _assistantId;\n",
    "    private readonly string _deploymentName;\n",
    "    private readonly string _endpoint;\n",
    "    private readonly string _apiKey;\n",
    "    private string? _threadId;\n",
    "    private OpenAIAssistantAgent? _assistantAgent;\n",
    "    public string namae;\n",
    "\n",
    "    public MyAzureAIAgent(string deploymentName, string endpoint, string apiKey, string assistantId, List<object>? plugins = null)\n",
    "    {\n",
    "        _assistantId = assistantId;\n",
    "        _deploymentName = deploymentName;\n",
    "        _endpoint = endpoint;\n",
    "        _apiKey = apiKey;\n",
    "\n",
    "        // Initialize the agent with plugins when constructing\n",
    "        Task.Run(async () => await InitializeAgentWithPluginsAndThread(plugins)).GetAwaiter().GetResult();\n",
    "\n",
    "    }\n",
    "\n",
    "    public OpenAIAssistantAgent GetAgent()\n",
    "    {\n",
    "        return _assistantAgent;\n",
    "    }\n",
    "    \n",
    "    // add an optional list of plugin objects as type new List<object>\n",
    "    public async Task InitializeAgentWithPluginsAndThread(List<object>? plugins = null)\n",
    "    {\n",
    "        IKernelBuilder builder = Microsoft.SemanticKernel.Kernel.CreateBuilder();\n",
    "        builder.AddAzureOpenAIChatCompletion(\n",
    "                        deploymentName: _deploymentName,\n",
    "                        endpoint: _endpoint,\n",
    "                        apiKey: _apiKey);\n",
    "        if (plugins != null)\n",
    "        {\n",
    "            foreach (var plugin in plugins)\n",
    "            {\n",
    "                // say which pluign you're adding by printing the type\n",
    "                Console.WriteLine($\"Adding plugin: {plugin.GetType()}\");\n",
    "                builder.Plugins.AddFromObject(plugin);\n",
    "            }\n",
    "        }\n",
    "        Microsoft.SemanticKernel.Kernel kernel = builder.Build();\n",
    "\n",
    "        OpenAIClientProvider provider = OpenAIClientProvider.ForAzureOpenAI(_apiKey, new Uri(_endpoint));\n",
    "\n",
    "        _assistantAgent = await OpenAIAssistantAgent.RetrieveAsync(kernel, provider, _assistantId);\n",
    "        \n",
    "        namae = _assistantAgent.Name;\n",
    "\n",
    "        _threadId = await _assistantAgent.CreateThreadAsync();\n",
    "        Console.WriteLine($\"Agent {namae} with ID {Utils.ObfuscateString(_assistantId)} initialized.\");\n",
    "    }\n",
    "\n",
    "    public async Task<string> AskAgent(string question)\n",
    "    {\n",
    "        if (_assistantAgent == null || _threadId == null)\n",
    "        {\n",
    "            throw new InvalidOperationException(\"Agent not initialized. Call InitializeAgent first.\");\n",
    "        }\n",
    "\n",
    "        // Add the user's question to the chat.\n",
    "        await _assistantAgent.AddChatMessageAsync(_threadId, new ChatMessageContent(AuthorRole.User, question));\n",
    "\n",
    "        // Retrieve the response.\n",
    "        string responseText = \"\";\n",
    "        await foreach (ChatMessageContent content in _assistantAgent.InvokeAsync(_threadId))\n",
    "        {\n",
    "            if (content.Role != AuthorRole.Tool)\n",
    "            {\n",
    "                responseText += content.Content;\n",
    "            }\n",
    "        }\n",
    "\n",
    "        return responseText; // Return the response as a string\n",
    "    }\n",
    "\n",
    "    public async Task EndSession()\n",
    "    {\n",
    "        if (_assistantAgent != null && _threadId != null)\n",
    "        {\n",
    "            bool result = await _assistantAgent.DeleteThreadAsync(_threadId);\n",
    "            if (result)\n",
    "            {\n",
    "                _threadId = null;\n",
    "            }\n",
    "            else\n",
    "            {\n",
    "                Console.WriteLine(\"Failed to delete the thread.\");\n",
    "            }\n",
    "        }\n",
    "    }\n",
    "}\n"
   ]
  },
  {
   "cell_type": "markdown",
   "metadata": {},
   "source": [
    "# And a way to \"talk\" to multiple @agents"
   ]
  },
  {
   "cell_type": "code",
   "execution_count": 37,
   "metadata": {
    "vscode": {
     "languageId": "polyglot-notebook"
    }
   },
   "outputs": [],
   "source": [
    "#pragma warning disable SKEXP0110, SKEXP0001, SKEXP0050, CS8600, CS8604, OPENAI001\n",
    "\n",
    "public string CreateAtName(string name)\n",
    "{\n",
    "    return name.Replace(\" \", \"\").ToLower();\n",
    "}\n",
    "\n",
    "public async Task RunIndependentAgentsSession(List<MyAzureAIAgent> myagents)\n",
    "{\n",
    "    // Dictionary to hold initialized agents (mapped by processed agent names)\n",
    "    var agents = new Dictionary<string, MyAzureAIAgent>(StringComparer.OrdinalIgnoreCase);\n",
    "    string? defaultAgentName = null;\n",
    "\n",
    "    try\n",
    "    {\n",
    "        Console.WriteLine(\"Initializing agents...\");\n",
    "        // Instantiate and initialize each agent from the list of assistant IDs\n",
    "        foreach (var agent in myagents)\n",
    "        {\n",
    "            Console.WriteLine($\"Initializing agent {agent.namae}...\");\n",
    "            // Process the namae to remove spaces and lowercase it\n",
    "            string processedNamae = CreateAtName(agent.namae);\n",
    "\n",
    "            // Add agent to dictionary with the processed name as the key\n",
    "            agents[processedNamae] = agent;\n",
    "\n",
    "            // Set the first agent as the default if it's not already set\n",
    "            if (defaultAgentName == null)\n",
    "            {\n",
    "                defaultAgentName = processedNamae;\n",
    "            }\n",
    "        }\n",
    "\n",
    "        // Ensure we have a default agent\n",
    "        if (defaultAgentName == null)\n",
    "        {\n",
    "            throw new InvalidOperationException(\"No default agent found. Please check your assistant IDs.\");\n",
    "        }\n",
    "\n",
    "        string input;\n",
    "        do\n",
    "        {\n",
    "            // Print available agent names with an at sign in front of each of them and all on a single line\n",
    "            // accrue them and include the at sign in fron tof them\n",
    "            string availableAgents = \"\";\n",
    "            foreach (var agentName in agents.Keys)\n",
    "            {\n",
    "                availableAgents += $\"@{agentName} \";\n",
    "            }\n",
    "\n",
    "            // Get user input\n",
    "            input = await InteractiveKernel.GetInputAsync($\"Ask {availableAgents} (type '/bye' to exit):\");\n",
    "\n",
    "            if (input.ToLower() != \"/bye\")\n",
    "            {\n",
    "                // By default, use the default agent\n",
    "                string selectedAgentName = defaultAgentName;\n",
    "\n",
    "                // Check if there's an @mention in the input\n",
    "                foreach (var agentName in agents.Keys)\n",
    "                {\n",
    "                    if (input.ToLower().Contains($\"@{agentName}\"))\n",
    "                    {\n",
    "                        selectedAgentName = agentName;\n",
    "\n",
    "                        // Remove the @mention from the input\n",
    "                        input = input.Replace($\"@{agentName}\", \"\").Trim();\n",
    "                        break;\n",
    "                    }\n",
    "                }\n",
    "\n",
    "                // Get the selected agent\n",
    "                var selectedAgent = agents[selectedAgentName];\n",
    "                string response = await selectedAgent.AskAgent(input);\n",
    "                Console.WriteLine($\"@{selectedAgentName}: {response}\");\n",
    "            }\n",
    "\n",
    "        } while (input.ToLower() != \"/bye\");\n",
    "    }\n",
    "    finally\n",
    "    {\n",
    "        // Clean up and end each agent's session\n",
    "        foreach (var agent in agents.Values)\n",
    "        {\n",
    "            await agent.EndSession();\n",
    "        }\n",
    "    }\n",
    "}\n"
   ]
  },
  {
   "cell_type": "code",
   "execution_count": null,
   "metadata": {
    "vscode": {
     "languageId": "polyglot-notebook"
    }
   },
   "outputs": [],
   "source": [
    "#pragma warning disable SKEXP0110, SKEXP0001, SKEXP0050, CS8600, CS8604, OPENAI001\n",
    "\n",
    "// Call the session runner and pass the list of assistant IDs inline\n",
    "// MyAzureAIAgent agent1 = new MyAzureAIAgent(model,azureEndpoint,\n",
    "//     apiKey,maedaSettings.ReadString(\"asst1\"),kernelPlugins);\n",
    "// MyAzureAIAgent agent2 = new MyAzureAIAgent(model,azureEndpoint,apiKey,\n",
    "//     maedaSettings.ReadString(\"asst2\"));\n",
    "\n",
    "await RunIndependentAgentsSession(\n",
    "    new List<MyAzureAIAgent>\n",
    "    {\n",
    "        new MyAzureAIAgent(model,azureEndpoint,\n",
    "            apiKey,maedaSettings.ReadString(\"asst1\"),kernelPlugins),\n",
    "        new MyAzureAIAgent(model,azureEndpoint,apiKey,\n",
    "            maedaSettings.ReadString(\"asst2\"))\n",
    "    }\n",
    ");\n"
   ]
  },
  {
   "cell_type": "code",
   "execution_count": 28,
   "metadata": {
    "dotnet_interactive": {
     "language": "csharp"
    },
    "polyglot_notebook": {
     "kernelName": "csharp"
    },
    "vscode": {
     "languageId": "polyglot-notebook"
    }
   },
   "outputs": [],
   "source": [
    "#pragma warning disable SKEXP0110, SKEXP0001, SKEXP0050, CS8600, CS8604, OPENAI001\n",
    "\n",
    "public string CreateAtName(string name)\n",
    "{\n",
    "    return name.Replace(\" \", \"\").ToLower();\n",
    "}\n",
    "\n",
    "public async Task RunIndependentAgentSession(List<string> assistantIds, string model, string azureEndpoint, string apiKey, List<object>? plugins = null)\n",
    "{\n",
    "    // Dictionary to hold initialized agents (mapped by processed agent names)\n",
    "    var agents = new Dictionary<string, MyAzureAIAgent>(StringComparer.OrdinalIgnoreCase);\n",
    "    string? defaultAgentName = null;\n",
    "\n",
    "    try\n",
    "    {\n",
    "        // Instantiate and initialize each agent from the list of assistant IDs\n",
    "        foreach (var assistantId in assistantIds)\n",
    "        {\n",
    "            var agent = new MyAzureAIAgent(model, azureEndpoint, apiKey, assistantId);\n",
    "            await agent.InitializeAgentWithPluginsAndThread(plugins);\n",
    "\n",
    "            // Process the namae to remove spaces and lowercase it\n",
    "            string processedNamae = CreateAtName(agent.namae);\n",
    "\n",
    "            // Add agent to dictionary with the processed name as the key\n",
    "            agents[processedNamae] = agent;\n",
    "\n",
    "            // Set the first agent as the default if it's not already set\n",
    "            if (defaultAgentName == null)\n",
    "            {\n",
    "                defaultAgentName = processedNamae;\n",
    "            }\n",
    "        }\n",
    "\n",
    "        // Ensure we have a default agent\n",
    "        if (defaultAgentName == null)\n",
    "        {\n",
    "            throw new InvalidOperationException(\"No default agent found. Please check your assistant IDs.\");\n",
    "        }\n",
    "\n",
    "        string input;\n",
    "        do\n",
    "        {\n",
    "            // Print available agent names with an at sign in front of each of them and all on a single line\n",
    "            // accrue them and include the at sign in fron tof them\n",
    "            string availableAgents = \"\";\n",
    "            foreach (var agentName in agents.Keys)\n",
    "            {\n",
    "                availableAgents += $\"@{agentName} \";\n",
    "            }\n",
    "\n",
    "            // Get user input\n",
    "            input = await InteractiveKernel.GetInputAsync($\"Ask {availableAgents} (type '/bye' to exit):\");\n",
    "\n",
    "            if (input.ToLower() != \"/bye\")\n",
    "            {\n",
    "                // By default, use the default agent\n",
    "                string selectedAgentName = defaultAgentName;\n",
    "\n",
    "                // Check if there's an @mention in the input\n",
    "                foreach (var agentName in agents.Keys)\n",
    "                {\n",
    "                    if (input.ToLower().Contains($\"@{agentName}\"))\n",
    "                    {\n",
    "                        selectedAgentName = agentName;\n",
    "\n",
    "                        // Remove the @mention from the input\n",
    "                        input = input.Replace($\"@{agentName}\", \"\").Trim();\n",
    "                        break;\n",
    "                    }\n",
    "                }\n",
    "\n",
    "                // Get the selected agent\n",
    "                var selectedAgent = agents[selectedAgentName];\n",
    "                string response = await selectedAgent.AskAgent(input);\n",
    "                Console.WriteLine($\"@{selectedAgentName}: {response}\");\n",
    "            }\n",
    "\n",
    "        } while (input.ToLower() != \"/bye\");\n",
    "    }\n",
    "    finally\n",
    "    {\n",
    "        // Clean up and end each agent's session\n",
    "        foreach (var agent in agents.Values)\n",
    "        {\n",
    "            await agent.EndSession();\n",
    "        }\n",
    "    }\n",
    "}\n"
   ]
  },
  {
   "cell_type": "markdown",
   "metadata": {},
   "source": [
    "# Make a kernel"
   ]
  },
  {
   "cell_type": "code",
   "execution_count": 17,
   "metadata": {
    "dotnet_interactive": {
     "language": "csharp"
    },
    "polyglot_notebook": {
     "kernelName": "csharp"
    },
    "vscode": {
     "languageId": "polyglot-notebook"
    }
   },
   "outputs": [],
   "source": [
    "#pragma warning disable SKEXP0110, SKEXP0001, SKEXP0050, CS8600, CS8604, OPENAI001\n",
    "\n",
    "IKernelBuilder builder = Microsoft.SemanticKernel.Kernel.CreateBuilder();\n",
    "builder.AddAzureOpenAIChatCompletion(\n",
    "                deploymentName: model,\n",
    "                endpoint: azureEndpoint,\n",
    "                apiKey: apiKey);\n",
    "\n",
    "Microsoft.SemanticKernel.Kernel kernel = builder.Build();\n",
    "\n",
    "OpenAIClientProvider provider = OpenAIClientProvider.ForAzureOpenAI(apiKey, new Uri(azureEndpoint));"
   ]
  },
  {
   "cell_type": "code",
   "execution_count": null,
   "metadata": {
    "dotnet_interactive": {
     "language": "csharp"
    },
    "polyglot_notebook": {
     "kernelName": "csharp"
    },
    "vscode": {
     "languageId": "polyglot-notebook"
    }
   },
   "outputs": [],
   "source": [
    "#pragma warning disable SKEXP0110, SKEXP0001, SKEXP0050, CS8600, CS8604, OPENAI001\n",
    "\n",
    "// Call the session runner and pass the list of assistant IDs inline\n",
    "await RunIndependentAgentSession(\n",
    "    new List<string>\n",
    "    {\n",
    "        maedaSettings.ReadString(\"asst1\"),\n",
    "        maedaSettings.ReadString(\"asst2\"),\n",
    "        // Add more assistant IDs here if needed\n",
    "    },\n",
    "    model, \n",
    "    azureEndpoint, \n",
    "    apiKey,\n",
    "    kernelPlugins\n",
    ");\n"
   ]
  },
  {
   "cell_type": "code",
   "execution_count": null,
   "metadata": {
    "dotnet_interactive": {
     "language": "csharp"
    },
    "polyglot_notebook": {
     "kernelName": "csharp"
    },
    "vscode": {
     "languageId": "polyglot-notebook"
    }
   },
   "outputs": [],
   "source": [
    "#!import ../config/Utils.cs\n",
    "#!import ../config/MaedaAgentManager.cs\n",
    "\n",
    "MaedaAgentManager agentManager = new MaedaAgentManager(kernel, provider);\n",
    "\n",
    "string agentName = \"Keanu Jeevs\";\n",
    "string description = \"Hipster Matrix Fan\";\n",
    "string instructions = \"Keanu speaks like he's from Bill and Ted's Excellent Adventure and also like Neo from the Matrix.\";\n",
    "List<string> filePaths = new List<string> { \"travelinfo.txt\" };\n",
    "string agentId = await agentManager.CreatePlainAgent(agentName, model, description, instructions);\n",
    "Console.WriteLine($\"The agent {Utils.ObfuscateString(agentId)} has been minted. Refer to @{CreateAtName(agentName)} in chat.\");"
   ]
  },
  {
   "cell_type": "code",
   "execution_count": null,
   "metadata": {
    "dotnet_interactive": {
     "language": "csharp"
    },
    "polyglot_notebook": {
     "kernelName": "csharp"
    },
    "vscode": {
     "languageId": "polyglot-notebook"
    }
   },
   "outputs": [],
   "source": [
    "#pragma warning disable SKEXP0110, SKEXP0001, SKEXP0050, CS8600, CS8604, OPENAI001\n",
    "\n",
    "// Call the session runner and pass the list of assistant IDs inline\n",
    "await RunIndependentAgentSession(\n",
    "    new List<string>\n",
    "    {\n",
    "        settings.ReadString(\"asst1\"),\n",
    "        settings.ReadString(\"asst2\"),\n",
    "        // Add more assistant IDs here if needed\n",
    "        agentId\n",
    "    },\n",
    "    model, \n",
    "    azureEndpoint, \n",
    "    apiKey\n",
    ");\n"
   ]
  },
  {
   "cell_type": "code",
   "execution_count": null,
   "metadata": {
    "dotnet_interactive": {
     "language": "csharp"
    },
    "polyglot_notebook": {
     "kernelName": "csharp"
    },
    "vscode": {
     "languageId": "polyglot-notebook"
    }
   },
   "outputs": [],
   "source": [
    "#!import ../config/Utils.cs\n",
    "#!import ../config/MaedaAgentManager.cs\n",
    "\n",
    "string agentName = \"John Traveler\";\n",
    "string description = \"Travel agent\";\n",
    "string instructions = \"John is ready to answer questions and assist with file-related queries.\";\n",
    "List<string> filePaths = new List<string> { \"travelinfo.txt\" };\n",
    "string agentId = await agentManager.CreateAgentWithFilesAsync(agentName, model, description, instructions, filePaths);\n",
    "Console.WriteLine($\"The agent {Utils.ObfuscateString(agentId)} has been minted. Refer to @{CreateAtName(agentName)} in chat.\");\n",
    "Console.WriteLine($\"Warning: The agent {agentId} has files and a vector store attached to it that may incur a running cost if not deleted.\");"
   ]
  },
  {
   "cell_type": "code",
   "execution_count": null,
   "metadata": {
    "dotnet_interactive": {
     "language": "csharp"
    },
    "polyglot_notebook": {
     "kernelName": "csharp"
    },
    "vscode": {
     "languageId": "polyglot-notebook"
    }
   },
   "outputs": [],
   "source": [
    "#pragma warning disable SKEXP0110, SKEXP0001, SKEXP0050, CS8600, CS8604, OPENAI001\n",
    "\n",
    "// Call the session runner and pass the list of assistant IDs inline\n",
    "await RunIndependentAgentSession(\n",
    "    new List<string>\n",
    "    {\n",
    "        maedaSettings.ReadString(\"asst1\"),\n",
    "        maedaSettings.ReadString(\"asst2\"),\n",
    "        // Add more assistant IDs here if needed\n",
    "        agentId\n",
    "    },\n",
    "    model, azureEndpoint, apiKey\n",
    ");"
   ]
  },
  {
   "cell_type": "code",
   "execution_count": null,
   "metadata": {
    "dotnet_interactive": {
     "language": "csharp"
    },
    "polyglot_notebook": {
     "kernelName": "csharp"
    },
    "vscode": {
     "languageId": "polyglot-notebook"
    }
   },
   "outputs": [],
   "source": [
    "#!import ../config/MaedaAgentManager.cs\n",
    "\n",
    "await agentManager.DeleteAssociatedAgentFilesAndVectorStoreAsync(agentId);"
   ]
  },
  {
   "cell_type": "code",
   "execution_count": null,
   "metadata": {
    "dotnet_interactive": {
     "language": "csharp"
    },
    "polyglot_notebook": {
     "kernelName": "csharp"
    },
    "vscode": {
     "languageId": "polyglot-notebook"
    }
   },
   "outputs": [],
   "source": [
    "#!import ../config/MaedaAgentManager.cs\n",
    "\n",
    "await agentManager.DeleteAllAgentsAsync();"
   ]
  },
  {
   "cell_type": "code",
   "execution_count": 113,
   "metadata": {
    "dotnet_interactive": {
     "language": "csharp"
    },
    "polyglot_notebook": {
     "kernelName": "csharp"
    },
    "vscode": {
     "languageId": "polyglot-notebook"
    }
   },
   "outputs": [],
   "source": [
    "using Microsoft.SemanticKernel.Agents;\n",
    "using Microsoft.SemanticKernel.Agents.Chat;\n",
    "using Microsoft.SemanticKernel.Agents.OpenAI;\n",
    "\n",
    "#pragma warning disable SKEXP0110, SKEXP0001, SKEXP0050, CS8600, CS8604, OPENAI001\n",
    "\n",
    "public async Task RunMixedAgentSession(List<string> assistantIds, string model, string azureEndpoint, string apiKey)\n",
    "{\n",
    "    // Dictionary to hold initialized agents (mapped by processed agent names)\n",
    "    var agents = new Dictionary<string, MyAzureAIAgent>(StringComparer.OrdinalIgnoreCase);\n",
    "    string? defaultAgentName = null;\n",
    "\n",
    "    try\n",
    "    {\n",
    "        // Instantiate and initialize each agent from the list of assistant IDs\n",
    "        foreach (var assistantId in assistantIds)\n",
    "        {\n",
    "            var agent = new MyAzureAIAgent(model, azureEndpoint, apiKey, assistantId);\n",
    "            await agent.InitializeAgent();\n",
    "\n",
    "            // Process the namae to remove spaces and lowercase it\n",
    "            string processedNamae = CreateAtName(agent.namae);\n",
    "\n",
    "            // Add agent to dictionary with the processed name as the key\n",
    "            agents[processedNamae] = agent;\n",
    "\n",
    "            // Set the first agent as the default if it's not already set\n",
    "            if (defaultAgentName == null)\n",
    "            {\n",
    "                defaultAgentName = processedNamae;\n",
    "            }\n",
    "        }\n",
    "\n",
    "        // Ensure we have a default agent\n",
    "        if (defaultAgentName == null)\n",
    "        {\n",
    "            throw new InvalidOperationException(\"No default agent found. Please check your assistant IDs.\");\n",
    "        }\n",
    "\n",
    "        OpenAIAssistantAgent one = agents[\"sun\"].GetAgent();\n",
    "        OpenAIAssistantAgent two = agents[\"sarah\"].GetAgent();\n",
    "\n",
    "        AgentGroupChat chat =\n",
    "            new(one, two)\n",
    "            {\n",
    "                ExecutionSettings =\n",
    "                    new()\n",
    "                    {\n",
    "                        // Here a TerminationStrategy subclass is used that will terminate when\n",
    "                        // an assistant message contains the term \"approve\".\n",
    "                        TerminationStrategy =\n",
    "                            new ApprovalTerminationStrategy()\n",
    "                            {\n",
    "                                Agents = [one],\n",
    "                                MaximumIterations = 3,\n",
    "                            }\n",
    "                    }\n",
    "            };\n",
    "\n",
    "        // Invoke chat and display messages.\n",
    "        ChatMessageContent input = new(AuthorRole.User, \"Talk about technology in the age of AI. When you agree with the other's opinion say approve.\");\n",
    "        chat.AddChatMessage(input);\n",
    "        Console.WriteLine(input);\n",
    "\n",
    "        await foreach (ChatMessageContent response in chat.InvokeAsync())\n",
    "        {\n",
    "            // write the originator\n",
    "            Console.WriteLine($\"{response.AuthorName}: {response}\");\n",
    "        }\n",
    "\n",
    "        Console.WriteLine($\"\\n[IS COMPLETED: {chat.IsComplete}]\");\n",
    "\n",
    "    }\n",
    "    finally\n",
    "    {\n",
    "        // Clean up and end each agent's session\n",
    "        foreach (var agent in agents.Values)\n",
    "        {\n",
    "            await agent.EndSession();\n",
    "        }\n",
    "    }\n",
    "}\n",
    "\n",
    "public class ApprovalTerminationStrategy : TerminationStrategy\n",
    "{\n",
    "    // Terminate when the final message contains the term \"approve\"\n",
    "    protected override Task<bool> ShouldAgentTerminateAsync(Agent agent, IReadOnlyList<ChatMessageContent> history, CancellationToken cancellationToken)\n",
    "        => Task.FromResult(history[history.Count - 1].Content?.Contains(\"approve\", StringComparison.OrdinalIgnoreCase) ?? false);\n",
    "}\n"
   ]
  },
  {
   "cell_type": "code",
   "execution_count": null,
   "metadata": {
    "dotnet_interactive": {
     "language": "csharp"
    },
    "polyglot_notebook": {
     "kernelName": "csharp"
    },
    "vscode": {
     "languageId": "polyglot-notebook"
    }
   },
   "outputs": [],
   "source": [
    "#pragma warning disable SKEXP0110, SKEXP0001, SKEXP0050, CS8600, CS8604, OPENAI001\n",
    "\n",
    "// Call the session runner and pass the list of assistant IDs inline\n",
    "await RunMixedAgentSession(\n",
    "    new List<string>\n",
    "    {\n",
    "        maedaSettings.ReadString(\"asst1\"),\n",
    "        maedaSettings.ReadString(\"asst2\"),\n",
    "        // Add more assistant IDs here if needed\n",
    "    },\n",
    "    model, azureEndpoint, apiKey\n",
    ");"
   ]
  },
  {
   "cell_type": "markdown",
   "metadata": {},
   "source": [
    "# We did it!"
   ]
  },
  {
   "cell_type": "markdown",
   "metadata": {},
   "source": [
    "### 🙉 Let's add the auditory modalities"
   ]
  },
  {
   "cell_type": "code",
   "execution_count": null,
   "metadata": {
    "dotnet_interactive": {
     "language": "csharp"
    },
    "polyglot_notebook": {
     "kernelName": "csharp"
    },
    "vscode": {
     "languageId": "polyglot-notebook"
    }
   },
   "outputs": [],
   "source": [
    "#r \"nuget: Microsoft.CognitiveServices.Speech, 1.34.1\"\n",
    "#r \"nuget: NetCoreAudio, 1.8.0\"\n",
    "#r \"nuget: Microsoft.Extensions.Configuration, 8.0.0\"\n",
    "#r \"nuget: Microsoft.Extensions.Configuration.EnvironmentVariables, 8.0.0\"\n",
    "#r \"nuget: Microsoft.Extensions.Configuration.UserSecrets, 8.0.0\"\n",
    "\n",
    "#!import ../config/MaedaSettings.cs\n",
    "#!import ../config/AzureSpeech.cs\n",
    "\n",
    "string subscriptionKey = Settings.ReadString(\"AZURE_SPEECH_KEY\");\n",
    "string subscriptionRegion = Settings.ReadString(\"AZURE_SPEECH_REGION\");\n",
    "\n",
    "var speechService = new SpeechRecognitionService(subscriptionKey, subscriptionRegion);"
   ]
  },
  {
   "cell_type": "markdown",
   "metadata": {},
   "source": [
    "### 🎤 Let's listen up"
   ]
  },
  {
   "cell_type": "code",
   "execution_count": null,
   "metadata": {
    "dotnet_interactive": {
     "language": "csharp"
    },
    "polyglot_notebook": {
     "kernelName": "csharp"
    },
    "vscode": {
     "languageId": "polyglot-notebook"
    }
   },
   "outputs": [],
   "source": [
    "string recognizedText = await speechService.RecognizeOnceAsync();\n",
    "Console.WriteLine($\"Transcribed: {recognizedText}\");"
   ]
  },
  {
   "cell_type": "markdown",
   "metadata": {},
   "source": [
    "### 🗣️ And let's speak up"
   ]
  },
  {
   "cell_type": "code",
   "execution_count": 90,
   "metadata": {
    "dotnet_interactive": {
     "language": "csharp"
    },
    "polyglot_notebook": {
     "kernelName": "csharp"
    },
    "vscode": {
     "languageId": "polyglot-notebook"
    }
   },
   "outputs": [],
   "source": [
    "#pragma warning disable SKEXP0101\n",
    "\n",
    "await speechService.SynthesizeSpeechAsync(recognizedText);"
   ]
  },
  {
   "cell_type": "markdown",
   "metadata": {},
   "source": [
    "## 🔥 We fire up Semantic Kernel's Experimental Agents ..."
   ]
  },
  {
   "cell_type": "code",
   "execution_count": null,
   "metadata": {
    "dotnet_interactive": {
     "language": "csharp"
    },
    "polyglot_notebook": {
     "kernelName": "csharp"
    },
    "vscode": {
     "languageId": "polyglot-notebook"
    }
   },
   "outputs": [],
   "source": [
    "using System;\n",
    "using System.Collections.Generic;\n",
    "using System.Linq;\n",
    "using System.Threading.Tasks;\n",
    "using Microsoft.SemanticKernel.Experimental.Agents;\n",
    "\n",
    "const string OpenAIFunctionEnabledModel = \"gpt-4-1106-preview\";\n"
   ]
  },
  {
   "cell_type": "code",
   "execution_count": null,
   "metadata": {
    "dotnet_interactive": {
     "language": "csharp"
    },
    "polyglot_notebook": {
     "kernelName": "csharp"
    },
    "vscode": {
     "languageId": "polyglot-notebook"
    }
   },
   "outputs": [],
   "source": [
    "using System.IO;\n",
    "using YamlDotNet.Serialization;\n",
    "using YamlDotNet.Serialization.NamingConventions;\n",
    "\n",
    "using System.IO;\n",
    "using YamlDotNet.Serialization;\n",
    "using YamlDotNet.Serialization.NamingConventions;\n",
    "using System;\n",
    "using System.Collections.Generic;\n",
    "using System.Linq;\n",
    "using System.Threading.Tasks;\n",
    "using Microsoft.SemanticKernel.Experimental.Agents;\n",
    "\n",
    "#pragma warning disable SKEXP0101\n",
    "\n",
    "public class Personay\n",
    "{\n",
    "    public string Name { get; set; }\n",
    "    public string Instructions { get; set; }\n",
    "    public string Description { get; set; }\n",
    "}\n",
    "\n",
    "public class NameGenerator\n",
    "{\n",
    "    private List<string> names;\n",
    "    private int currentIndex = -1;\n",
    "\n",
    "    public NameGenerator()\n",
    "    {\n",
    "        // Initialize the list with ungendered names\n",
    "        names = new List<string>\n",
    "        {\n",
    "            \"Alex\", \"Jordan\", \"Taylor\", \"Morgan\", \"Casey\",\n",
    "            \"Riley\", \"Jamie\", \"Avery\", \"Reese\", \"Skyler\",\n",
    "            \"Quinn\", \"Peyton\", \"Cameron\", \"Sawyer\", \"Drew\",\n",
    "            \"Charlie\", \"Emerson\", \"Dakota\", \"Parker\", \"Sidney\"\n",
    "        };\n",
    "    }\n",
    "\n",
    "    public string GetNextName()\n",
    "    {\n",
    "        // Increment the index and reset if it exceeds the list count\n",
    "        currentIndex = (currentIndex + 1) % names.Count;\n",
    "        return names[currentIndex];\n",
    "    }\n",
    "}\n",
    "\n",
    " // Track agents for clean-up\n",
    "static readonly Dictionary<string, IAgent> s_agents = new();\n",
    "\n",
    "IAgentThread? s_currentThread = null;\n",
    "\n",
    "async Task<IAgent> CreateAgentAsync(string name, string instructions, string description)\n",
    "{\n",
    "    var agent = await new AgentBuilder()\n",
    "                    .WithOpenAIChatCompletion(OpenAIFunctionEnabledModel, apiKey)\n",
    "                    .WithInstructions(instructions)\n",
    "                    .WithName(name)\n",
    "                    .WithDescription(description)\n",
    "                    .BuildAsync();\n",
    "\n",
    "    return Track(name, agent);\n",
    "}\n",
    "\n",
    "async Task CleanUpAsync()\n",
    "{\n",
    "    Console.WriteLine(\"🧽 Cleaning up ...\");\n",
    "\n",
    "    if (s_currentThread != null)\n",
    "    {\n",
    "        Console.WriteLine(\"Thread going away ...\");\n",
    "        s_currentThread.DeleteAsync();\n",
    "        s_currentThread = null;\n",
    "    }\n",
    "    \n",
    "    if (s_agents.Any())\n",
    "    {\n",
    "        Console.WriteLine(\"Agents going away ...\");\n",
    "        await Task.WhenAll(s_agents.Values.Select(agent => agent.DeleteAsync()));\n",
    "        s_agents.Clear();\n",
    "    }\n",
    "}\n",
    "\n",
    "IAgent Track(string name, IAgent agent)\n",
    "{\n",
    "    s_agents[name] = agent; // Add or update the agent in the dictionary\n",
    "    return agent;\n",
    "}\n",
    "\n"
   ]
  },
  {
   "cell_type": "markdown",
   "metadata": {},
   "source": [
    "### 🐣 Let's hatch the agent(s)"
   ]
  },
  {
   "cell_type": "code",
   "execution_count": null,
   "metadata": {
    "dotnet_interactive": {
     "language": "csharp"
    },
    "polyglot_notebook": {
     "kernelName": "csharp"
    },
    "vscode": {
     "languageId": "polyglot-notebook"
    }
   },
   "outputs": [],
   "source": [
    "List<string> personasAvailable = [\n",
    "    // front of house\n",
    "    \"RestaurantHost\",\n",
    "    \"RestaurantServer\",\n",
    "    \"RestaurantBussing\",\n",
    "    // back of house\n",
    "    \"RestaurantOrderManager\",\n",
    "    \"RestaurantCook\",\n",
    "    \"RestaurantKitchenPrep\"];\n",
    "\n",
    "List<(string Name, string Instructions, string Description)> agentInfo = new();\n",
    "NameGenerator nameGenerator = new NameGenerator();\n",
    "\n",
    "var rollcall = \"This is the rollcall for the restaurant:\\n\";\n",
    "\n",
    "foreach (var (a, i) in personasAvailable.Select((value, idx) => (value, idx + 1)))\n",
    "{\n",
    "    var yaml = File.ReadAllText($\"../agents/{a}.yaml\");\n",
    "    var deserializer = new DeserializerBuilder()\n",
    "        .WithNamingConvention(CamelCaseNamingConvention.Instance) // Use camel case naming convention\n",
    "        .Build();\n",
    "    var p = deserializer.Deserialize<Personay>(yaml);\n",
    "    string fakeName = nameGenerator.GetNextName();\n",
    "    string desc = $\"{p.Name}: {p.Description}\";\n",
    "    string instr = p.Instructions;\n",
    "    agentInfo.Add((fakeName, instr, desc));\n",
    "    Console.WriteLine($\"Agent defined: {fakeName} --> {desc}\");\n",
    "    rollcall += $\"- {i}) {fakeName} is the {desc}\\n\";\n",
    "}\n",
    "\n",
    "foreach (var (name, instructions, description) in agentInfo)\n",
    "{\n",
    "    await CreateAgentAsync(name, instructions, description);\n",
    "}\n",
    "\n",
    "Console.WriteLine(rollcall);\n",
    "s_agents"
   ]
  },
  {
   "cell_type": "markdown",
   "metadata": {},
   "source": [
    "![](serviceoverview.jpg)\n",
    "![](simplifiedjourney.jpg)\n",
    "![](serviceblueprint.jpg)"
   ]
  },
  {
   "cell_type": "markdown",
   "metadata": {},
   "source": [
    "### 🕵️💨 We check which agent will be relevant if a customer's arrived"
   ]
  },
  {
   "cell_type": "code",
   "execution_count": null,
   "metadata": {
    "dotnet_interactive": {
     "language": "csharp"
    },
    "polyglot_notebook": {
     "kernelName": "csharp"
    },
    "vscode": {
     "languageId": "polyglot-notebook"
    }
   },
   "outputs": [],
   "source": [
    "#pragma warning disable SKEXP0101\n",
    "\n",
    "IAgentThread? thread = null;\n",
    "\n",
    "thread = await s_agents[\"Alex\"].NewThreadAsync();\n",
    "await thread.AddUserMessageAsync(\n",
    "    $\"{rollcall}. A customer has arrived at the restaurant. Who is up?\");\n",
    "\n",
    "var agentMessages = await thread.InvokeAsync(s_agents[\"Alex\"]).ToArrayAsync();\n",
    "\n",
    "Console.WriteLine(Utils.WordWrap(agentMessages[0].Content, 80));"
   ]
  },
  {
   "cell_type": "markdown",
   "metadata": {},
   "source": [
    "### 🕵️💨 And then we give the agent a whirl"
   ]
  },
  {
   "cell_type": "code",
   "execution_count": null,
   "metadata": {
    "dotnet_interactive": {
     "language": "csharp"
    },
    "polyglot_notebook": {
     "kernelName": "csharp"
    },
    "vscode": {
     "languageId": "polyglot-notebook"
    }
   },
   "outputs": [],
   "source": [
    "#pragma warning disable SKEXP0101\n",
    "\n",
    "var whichAgent = \"Alex\";\n",
    "\n",
    "thread = await s_agents[whichAgent].NewThreadAsync();\n",
    "await thread.AddUserMessageAsync(\n",
    "    $\"Let's pretend a customer has arrived at the restaurant. Please do your thing.\");\n",
    "\n",
    "Console.WriteLine(\"🎤 As the customer, say something to the agent ...\");\n",
    "\n",
    "string recognizedText = await speechService.RecognizeOnceAsync();\n",
    "await thread.AddUserMessageAsync(recognizedText);\n",
    "\n",
    "var agentMessages = await thread.InvokeAsync(s_agents[whichAgent]).ToArrayAsync();\n",
    "\n",
    "Console.WriteLine(Utils.WordWrap(agentMessages[0].Content, 80));\n",
    "\n",
    "await speechService.SynthesizeSpeechAsync(agentMessages[0].Content);"
   ]
  },
  {
   "cell_type": "markdown",
   "metadata": {},
   "source": [
    "### 🕵️🗣️ Interact with this agent as you've just arrived"
   ]
  },
  {
   "cell_type": "code",
   "execution_count": null,
   "metadata": {
    "dotnet_interactive": {
     "language": "csharp"
    },
    "polyglot_notebook": {
     "kernelName": "csharp"
    },
    "vscode": {
     "languageId": "polyglot-notebook"
    }
   },
   "outputs": [],
   "source": [
    "#pragma warning disable SKEXP0101\n",
    "\n",
    "Console.WriteLine(\"🎤 As the customer, say something to the agent ...\");\n",
    "\n",
    "string recognizedText = await speechService.RecognizeOnceAsync();\n",
    "await thread.AddUserMessageAsync(recognizedText);\n",
    "\n",
    "var agentMessages = await thread.InvokeAsync(s_agents[whichAgent]).ToArrayAsync();\n",
    "\n",
    "Console.WriteLine(Utils.WordWrap(agentMessages[0].Content, 80));\n",
    "\n",
    "await speechService.SynthesizeSpeechAsync(agentMessages[0].Content);"
   ]
  },
  {
   "cell_type": "markdown",
   "metadata": {},
   "source": [
    "### 🧐 We'll next want to know which agent is needed next"
   ]
  },
  {
   "cell_type": "code",
   "execution_count": null,
   "metadata": {
    "dotnet_interactive": {
     "language": "csharp"
    },
    "polyglot_notebook": {
     "kernelName": "csharp"
    },
    "vscode": {
     "languageId": "polyglot-notebook"
    }
   },
   "outputs": [],
   "source": [
    "#pragma warning disable SKEXP0101\n",
    "\n",
    "await thread.AddUserMessageAsync(\n",
    "    $\"{rollcall}. Which agent should be used next in this service scenario?\");\n",
    "\n",
    "var agentMessages = await thread.InvokeAsync(s_agents[whichAgent]).ToArrayAsync();\n",
    "\n",
    "Console.WriteLine(Utils.WordWrap(agentMessages[0].Content, 80));"
   ]
  },
  {
   "cell_type": "markdown",
   "metadata": {},
   "source": [
    "### 🕵️ You've got a new agent to interact with"
   ]
  },
  {
   "cell_type": "code",
   "execution_count": null,
   "metadata": {
    "dotnet_interactive": {
     "language": "csharp"
    },
    "polyglot_notebook": {
     "kernelName": "csharp"
    },
    "vscode": {
     "languageId": "polyglot-notebook"
    }
   },
   "outputs": [],
   "source": [
    "#pragma warning disable SKEXP0101\n",
    "\n",
    "whichAgent = \"Jordan\";\n",
    "\n",
    "await thread.AddUserMessageAsync(\n",
    "    $\"Say something to the guest while introducing yourself.\");\n",
    "\n",
    "var agentMessages = await thread.InvokeAsync(s_agents[whichAgent]).ToArrayAsync();\n",
    "\n",
    "Console.WriteLine(Utils.WordWrap(agentMessages[0].Content, 80));\n",
    "\n",
    "await speechService.SynthesizeSpeechAsync(agentMessages[0].Content, \"en-US-BrianNeural\");"
   ]
  },
  {
   "cell_type": "markdown",
   "metadata": {},
   "source": [
    "### 🕵️🗣️ Interact with this agent so we can continue down the journey"
   ]
  },
  {
   "cell_type": "code",
   "execution_count": null,
   "metadata": {
    "dotnet_interactive": {
     "language": "csharp"
    },
    "polyglot_notebook": {
     "kernelName": "csharp"
    },
    "vscode": {
     "languageId": "polyglot-notebook"
    }
   },
   "outputs": [],
   "source": [
    "#pragma warning disable SKEXP0101\n",
    "\n",
    "Console.WriteLine(\"🎤 As the customer, say something to the agent ...\");\n",
    "\n",
    "string recognizedText = await speechService.RecognizeOnceAsync();\n",
    "await thread.AddUserMessageAsync(recognizedText);\n",
    "\n",
    "var agentMessages = await thread.InvokeAsync(s_agents[whichAgent]).ToArrayAsync();\n",
    "\n",
    "Console.WriteLine(Utils.WordWrap(agentMessages[0].Content, 80));\n",
    "\n",
    "await speechService.SynthesizeSpeechAsync(agentMessages[0].Content, \"en-US-BrianNeural\");"
   ]
  },
  {
   "cell_type": "code",
   "execution_count": null,
   "metadata": {
    "dotnet_interactive": {
     "language": "csharp"
    },
    "polyglot_notebook": {
     "kernelName": "csharp"
    },
    "vscode": {
     "languageId": "polyglot-notebook"
    }
   },
   "outputs": [],
   "source": [
    "#pragma warning disable SKEXP0101\n",
    "\n",
    "Console.WriteLine(\"🎤 As the customer, say something to the agent ...\");\n",
    "\n",
    "string recognizedText = await speechService.RecognizeOnceAsync();\n",
    "await thread.AddUserMessageAsync(recognizedText);\n",
    "\n",
    "var agentMessages = await thread.InvokeAsync(s_agents[whichAgent]).ToArrayAsync();\n",
    "\n",
    "Console.WriteLine(Utils.WordWrap(agentMessages[0].Content, 80));\n",
    "\n",
    "await speechService.SynthesizeSpeechAsync(agentMessages[0].Content, \"en-US-BrianNeural\");"
   ]
  },
  {
   "cell_type": "markdown",
   "metadata": {},
   "source": [
    "### 🧐 We'll next want to know which agent is needed next"
   ]
  },
  {
   "cell_type": "code",
   "execution_count": null,
   "metadata": {
    "dotnet_interactive": {
     "language": "csharp"
    },
    "polyglot_notebook": {
     "kernelName": "csharp"
    },
    "vscode": {
     "languageId": "polyglot-notebook"
    }
   },
   "outputs": [],
   "source": [
    "#pragma warning disable SKEXP0101\n",
    "\n",
    "await thread.AddUserMessageAsync(\n",
    "    $\"{rollcall}. Which agent should be used next in this service scenario?\");\n",
    "\n",
    "var agentMessages = await thread.InvokeAsync(s_agents[whichAgent]).ToArrayAsync();\n",
    "\n",
    "Console.WriteLine(Utils.WordWrap(agentMessages[0].Content, 80));\n",
    "await speechService.SynthesizeSpeechAsync(agentMessages[0].Content, \"en-US-BrianNeural\");"
   ]
  }
 ],
 "metadata": {
  "kernelspec": {
   "display_name": ".NET (C#)",
   "language": "C#",
   "name": ".net-csharp"
  },
  "language_info": {
   "name": "python"
  },
  "polyglot_notebook": {
   "kernelInfo": {
    "defaultKernelName": "csharp",
    "items": [
     {
      "aliases": [],
      "name": "csharp"
     }
    ]
   }
  }
 },
 "nbformat": 4,
 "nbformat_minor": 2
}
