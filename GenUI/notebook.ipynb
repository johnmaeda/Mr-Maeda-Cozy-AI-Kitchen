{
 "cells": [
  {
   "cell_type": "markdown",
   "metadata": {},
   "source": [
    "# 👋 Got GenUI? If not, welcome to a quick tutorial!\n",
    "\n",
    "### Veronica Ward and John Maeda walk you through a quick tour of how easy it is to \"print code\" and generate meaningful app experiences in September 2024 with just gpt-4o out of the box. \n",
    "\n",
    "### 🌱 Prerequisites\n",
    "\n",
    "You'll need to have:\n",
    "\n",
    "1. An Azure AI account\n",
    "2. An Azure OpenAI model deployed (preferably gpt-4o)"
   ]
  },
  {
   "cell_type": "markdown",
   "metadata": {},
   "source": [
    "### 📦 Get the necessary pkgs and base code"
   ]
  },
  {
   "cell_type": "code",
   "execution_count": null,
   "metadata": {
    "dotnet_interactive": {
     "language": "csharp"
    },
    "polyglot_notebook": {
     "kernelName": "csharp"
    },
    "vscode": {
     "languageId": "polyglot-notebook"
    }
   },
   "outputs": [],
   "source": [
    "#r \"nuget: Azure.AI.OpenAI, 2.0.0-beta.4\"\n",
    "#r \"nuget: Azure.Core, 1.42.0\"\n",
    "#r \"nuget: Azure.Identity, 1.13.0-beta.1\"\n",
    "#r \"nuget: Microsoft.Extensions.Configuration, 8.0.0\"\n",
    "#r \"nuget: Microsoft.Extensions.Configuration.Json, 8.0.0\"\n",
    "#r \"nuget: Microsoft.SemanticKernel, 1.18.0-rc\"\n",
    "#r \"nuget: Microsoft.SemanticKernel.Abstractions, 1.18.1-rc\"\n",
    "#r \"nuget: Microsoft.SemanticKernel.Agents.Core, 1.18.1-alpha\"\n",
    "#r \"nuget: Microsoft.SemanticKernel.Agents.OpenAI, 1.18.1-alpha\"\n",
    "#r \"nuget: Microsoft.SemanticKernel.Connectors.OpenAI, 1.18.1-rc\"\n",
    "#r \"nuget: Microsoft.SemanticKernel.Core, 1.18.1-rc\"\n",
    "#r \"nuget: Microsoft.SemanticKernel.Plugins.Core, 1.18.1-alpha\"\n",
    "#r \"nuget: Microsoft.Extensions.Configuration, 8.0.0\"\n",
    "#r \"nuget: Microsoft.Extensions.Configuration.Json, 8.0.0\""
   ]
  },
  {
   "cell_type": "markdown",
   "metadata": {},
   "source": [
    "### 🔑 And all your keys together"
   ]
  },
  {
   "cell_type": "markdown",
   "metadata": {},
   "source": [
    "My config.json looks like this:\n",
    "```\n",
    "{\n",
    "  \"type\": \"azure\",\n",
    "  \"model\": \"gpt-4o\",\n",
    "  \"endpoint\": \"https://ai-johnmaeda.../\",\n",
    "  \"apikey\": \"...\",\n",
    "  \"org\": \"\"\n",
    "}\n",
    "```"
   ]
  },
  {
   "cell_type": "code",
   "execution_count": null,
   "metadata": {
    "dotnet_interactive": {
     "language": "csharp"
    },
    "polyglot_notebook": {
     "kernelName": "csharp"
    },
    "vscode": {
     "languageId": "polyglot-notebook"
    }
   },
   "outputs": [],
   "source": [
    "#!import ../config/MaedaSettings.cs\n",
    "#!import ../config/Utils.cs\n",
    "\n",
    "using Microsoft.Extensions.Configuration;\n",
    "using Microsoft.SemanticKernel;\n",
    "using Microsoft.SemanticKernel.Agents.OpenAI;\n",
    "using Microsoft.SemanticKernel.ChatCompletion;\n",
    "using Microsoft.SemanticKernel.Connectors.OpenAI;\n",
    "using Microsoft.SemanticKernel.Plugins.Core;\n",
    "using System;\n",
    "using System.Text.Json;\n",
    "using System.Collections.Generic;\n",
    "using System.Threading.Tasks;\n",
    "using System.ComponentModel;\n",
    "using System.Net.Http;\n",
    "using System.Net.Http.Headers;\n",
    "using Microsoft.Extensions.DependencyInjection;\n",
    "using System.Threading;\n",
    "using OpenAI.Files;\n",
    "using OpenAI.VectorStores;\n",
    "\n",
    "var settingsPath = Path.GetFullPath(\"../config/settings.json\");\n",
    "Console.WriteLine($\"Settings Path: {settingsPath}\");\n",
    "\n",
    "var maedaSettings = new MaedaSettings(settingsPath, true);\n",
    "\n",
    "// Load all settings into a tuple\n",
    "var (useAzureOpenAI, model, azureEndpoint, apiKey, orgId) = maedaSettings.LoadSettings();"
   ]
  },
  {
   "cell_type": "markdown",
   "metadata": {},
   "source": [
    "### 🔥 Semantic Kernel always helps :-)"
   ]
  },
  {
   "cell_type": "code",
   "execution_count": 3,
   "metadata": {
    "dotnet_interactive": {
     "language": "csharp"
    },
    "polyglot_notebook": {
     "kernelName": "csharp"
    },
    "vscode": {
     "languageId": "polyglot-notebook"
    }
   },
   "outputs": [],
   "source": [
    "#pragma warning disable SKEXP0110, SKEXP0001, SKEXP0050, CS8600, CS8604, OPENAI001\n",
    "\n",
    "IKernelBuilder builder = Microsoft.SemanticKernel.Kernel.CreateBuilder();\n",
    "builder.AddAzureOpenAIChatCompletion(\n",
    "                deploymentName: model,\n",
    "                endpoint: azureEndpoint,\n",
    "                apiKey: apiKey);\n",
    "\n",
    "Microsoft.SemanticKernel.Kernel kernel = builder.Build();\n",
    "\n",
    "OpenAIClientProvider provider = OpenAIClientProvider.ForAzureOpenAI(apiKey, new Uri(azureEndpoint));"
   ]
  },
  {
   "cell_type": "markdown",
   "metadata": {},
   "source": [
    "### 🧑‍🍳 Use my little agent wrapper"
   ]
  },
  {
   "cell_type": "code",
   "execution_count": 4,
   "metadata": {
    "vscode": {
     "languageId": "polyglot-notebook"
    }
   },
   "outputs": [],
   "source": [
    "#!import ../config/Utils.cs\n",
    "#!import ../config/MaedaAgentManager.cs\n",
    "\n",
    "#pragma warning disable SKEXP0110, SKEXP0001, SKEXP0050, CS8600, CS8604, OPENAI001\n",
    "\n",
    "MaedaAgentManager agentManager = new MaedaAgentManager(kernel, provider);\n"
   ]
  },
  {
   "cell_type": "markdown",
   "metadata": {},
   "source": [
    "# 🖨️ Let's print a P5 JS app!"
   ]
  },
  {
   "cell_type": "markdown",
   "metadata": {},
   "source": [
    "Here we're giving the agent a backstory and instructions."
   ]
  },
  {
   "cell_type": "code",
   "execution_count": 43,
   "metadata": {
    "dotnet_interactive": {
     "language": "csharp"
    },
    "polyglot_notebook": {
     "kernelName": "csharp"
    },
    "vscode": {
     "languageId": "polyglot-notebook"
    }
   },
   "outputs": [],
   "source": [
    "#pragma warning disable SKEXP0110, SKEXP0001, SKEXP0050, CS8600, CS8604, OPENAI001\n",
    "\n",
    "string agentName = \"genuip5js\";\n",
    "string description = \"\"\"\n",
    "  Processing p5js programmer that takes ideas and writes \n",
    "  complete code for them.\n",
    "\"\"\";\n",
    "string instructions = \"\"\"\n",
    "  Write a program in p5js in response to the user and only \n",
    "  respond with a complete HTML file with JS for p5js included.\n",
    "\"\"\";\n",
    "\n",
    "string genuip5jsId = await agentManager.CreatePlainAgent(agentName, model, description, instructions);\n",
    "\n",
    "OpenAIAssistantAgent genuip5js = await OpenAIAssistantAgent.RetrieveAsync(kernel, provider, genuip5jsId);"
   ]
  },
  {
   "cell_type": "markdown",
   "metadata": {},
   "source": [
    "Next we give it the direction for what kind of p5js app to make."
   ]
  },
  {
   "cell_type": "code",
   "execution_count": 44,
   "metadata": {
    "dotnet_interactive": {
     "language": "csharp"
    },
    "polyglot_notebook": {
     "kernelName": "csharp"
    },
    "vscode": {
     "languageId": "polyglot-notebook"
    }
   },
   "outputs": [],
   "source": [
    "#pragma warning disable SKEXP0110, SKEXP0001, SKEXP0050, CS8600, CS8604, OPENAI001\n",
    "\n",
    "var question = \"\"\"\n",
    "Write a program that simulates snow falling from the sky.\n",
    "The snowflakes should be white circles that fall from the top of the screen.\n",
    "The snowflakes should avoid the position of the mouse with a wide avoidance radius of 150 pixels.\n",
    "The snowflakes should swirl like a cyclone on screen.\n",
    "\"\"\";\n",
    "\n",
    "var threadId = await genuip5js.CreateThreadAsync();\n",
    "await genuip5js.AddChatMessageAsync(threadId, new ChatMessageContent(AuthorRole.User, question));\n",
    "\n",
    "// Retrieve the response.\n",
    "string responseText = \"\";\n",
    "await foreach (ChatMessageContent content in genuip5js.InvokeAsync(threadId))\n",
    "{\n",
    "    if (content.Role != AuthorRole.Tool)\n",
    "    {\n",
    "        responseText += content.Content;\n",
    "    }\n",
    "}"
   ]
  },
  {
   "cell_type": "markdown",
   "metadata": {},
   "source": [
    "We then store the output to a file."
   ]
  },
  {
   "cell_type": "code",
   "execution_count": null,
   "metadata": {
    "dotnet_interactive": {
     "language": "csharp"
    },
    "polyglot_notebook": {
     "kernelName": "csharp"
    },
    "vscode": {
     "languageId": "polyglot-notebook"
    }
   },
   "outputs": [],
   "source": [
    "var app_p5jsHtml = Path.GetFullPath(\"app_p5js.html\");\n",
    "// remove the first and last lines of the response\n",
    "responseText = responseText.Substring(responseText.IndexOf('\\n') + 1);\n",
    "\n",
    "File.WriteAllText(app_p5jsHtml, responseText);\n",
    "Console.WriteLine($\"App HTML file saved to: {app_p5jsHtml}\");"
   ]
  },
  {
   "cell_type": "markdown",
   "metadata": {},
   "source": [
    "And open it up in our browser."
   ]
  },
  {
   "cell_type": "code",
   "execution_count": 46,
   "metadata": {
    "dotnet_interactive": {
     "language": "csharp"
    },
    "polyglot_notebook": {
     "kernelName": "csharp"
    },
    "vscode": {
     "languageId": "polyglot-notebook"
    }
   },
   "outputs": [],
   "source": [
    "// execute a system command to open the html File that doesn't have permission problems on a macos\n",
    "var process = System.Diagnostics.Process.Start(\"open\", app_p5jsHtml);"
   ]
  },
  {
   "cell_type": "markdown",
   "metadata": {},
   "source": [
    "### 🧽 Let's do some cleanup"
   ]
  },
  {
   "cell_type": "markdown",
   "metadata": {},
   "source": [
    "Delete the thread we made."
   ]
  },
  {
   "cell_type": "code",
   "execution_count": 47,
   "metadata": {
    "vscode": {
     "languageId": "polyglot-notebook"
    }
   },
   "outputs": [],
   "source": [
    "#pragma warning disable SKEXP0110, SKEXP0001, SKEXP0050, CS8600, CS8604, OPENAI001\n",
    "bool result = await genuip5js.DeleteThreadAsync(threadId);"
   ]
  },
  {
   "cell_type": "markdown",
   "metadata": {},
   "source": [
    "Get rid of the agent we created."
   ]
  },
  {
   "cell_type": "code",
   "execution_count": null,
   "metadata": {
    "vscode": {
     "languageId": "polyglot-notebook"
    }
   },
   "outputs": [],
   "source": [
    "await agentManager.DeleteAllAgentsAsync();"
   ]
  },
  {
   "cell_type": "markdown",
   "metadata": {},
   "source": [
    "# 🖨️ Print a Bootstrap React app"
   ]
  },
  {
   "cell_type": "markdown",
   "metadata": {},
   "source": [
    "We can now pursue writing React code. Ready? Set! Go!\n",
    "\n",
    "The model I'm using seems to like Bootstrap React so let's go with that."
   ]
  },
  {
   "cell_type": "code",
   "execution_count": 37,
   "metadata": {
    "vscode": {
     "languageId": "polyglot-notebook"
    }
   },
   "outputs": [],
   "source": [
    "#pragma warning disable SKEXP0110, SKEXP0001, SKEXP0050, CS8600, CS8604, OPENAI001\n",
    "\n",
    "string reactKit = \"Bootstrap React\";\n",
    "\n",
    "string genuireactjsId = await agentManager.CreatePlainAgent(\n",
    "    // name\n",
    "    \"genuireactjs\", \n",
    "    model, \n",
    "    // description\n",
    "    \"\"\"\n",
    "    Skilled React frontend dev that takes UI ideas and writes \n",
    "    complete code for them using \n",
    "    \"\"\" + reactKit + \" components.\",\n",
    "    // instructions\n",
    "    \"\"\"\n",
    "    Writes working code in response to the user and only \n",
    "    responds with a complete HTML file with JS for\n",
    "    \"\"\" + reactKit + \" included.\"\n",
    "    );\n",
    "\n",
    "OpenAIAssistantAgent genuireactjs = await OpenAIAssistantAgent.RetrieveAsync(kernel, provider, genuireactjsId);"
   ]
  },
  {
   "cell_type": "markdown",
   "metadata": {},
   "source": [
    "Define the goal of the app screens you wish to create."
   ]
  },
  {
   "cell_type": "code",
   "execution_count": 38,
   "metadata": {
    "vscode": {
     "languageId": "polyglot-notebook"
    }
   },
   "outputs": [],
   "source": [
    "#pragma warning disable SKEXP0110, SKEXP0001, SKEXP0050, CS8600, CS8604, OPENAI001\n",
    "\n",
    "var threadId = await genuireactjs.CreateThreadAsync();\n",
    "await genuireactjs.AddChatMessageAsync(threadId, \n",
    "    new ChatMessageContent(AuthorRole.User, \n",
    "    \"\"\"\n",
    "    Write a program with a login screen that transitions\n",
    "    to a landing page welcoming the user to a new kind of\n",
    "    AI-based chat system. The landing page should let the\n",
    "    user input a chat and then have a default response back\n",
    "    of 'Hello, how can I help you today?' and to display\n",
    "    what the user has entered.\n",
    "    \"\"\"\n",
    "));\n",
    "\n",
    "// Retrieve the response.\n",
    "string responseText = \"\";\n",
    "await foreach (ChatMessageContent content in genuireactjs.InvokeAsync(threadId))\n",
    "{\n",
    "    if (content.Role != AuthorRole.Tool)\n",
    "    {\n",
    "        responseText += content.Content;\n",
    "    }\n",
    "}"
   ]
  },
  {
   "cell_type": "markdown",
   "metadata": {},
   "source": [
    "Store the file to view in your browser."
   ]
  },
  {
   "cell_type": "code",
   "execution_count": null,
   "metadata": {
    "vscode": {
     "languageId": "polyglot-notebook"
    }
   },
   "outputs": [],
   "source": [
    "var app_reactjsHtml = Path.GetFullPath(\"app_bootstrap_reactjs.html\");\n",
    "// remove the first and last lines of the response\n",
    "responseText = responseText.Substring(responseText.IndexOf('\\n') + 1);\n",
    "\n",
    "File.WriteAllText(app_reactjsHtml, responseText);\n",
    "Console.WriteLine($\"App HTML file saved to: {app_reactjsHtml}\");"
   ]
  },
  {
   "cell_type": "markdown",
   "metadata": {},
   "source": [
    "Open the file in your browser."
   ]
  },
  {
   "cell_type": "code",
   "execution_count": 40,
   "metadata": {
    "vscode": {
     "languageId": "polyglot-notebook"
    }
   },
   "outputs": [],
   "source": [
    "// execute a system command to open the html File that doesn't have permission problems on a macos\n",
    "var process = System.Diagnostics.Process.Start(\"open\", app_reactjsHtml);"
   ]
  },
  {
   "cell_type": "markdown",
   "metadata": {},
   "source": [
    "### 🧽 Cleanup time\n",
    "\n",
    "Delete the thread you created."
   ]
  },
  {
   "cell_type": "code",
   "execution_count": 41,
   "metadata": {
    "vscode": {
     "languageId": "polyglot-notebook"
    }
   },
   "outputs": [],
   "source": [
    "#pragma warning disable SKEXP0110, SKEXP0001, SKEXP0050, CS8600, CS8604, OPENAI001\n",
    "bool result = await genuireactjs.DeleteThreadAsync(threadId);"
   ]
  },
  {
   "cell_type": "markdown",
   "metadata": {},
   "source": [
    "And delete the assistant set up in the cloud."
   ]
  },
  {
   "cell_type": "code",
   "execution_count": null,
   "metadata": {
    "dotnet_interactive": {
     "language": "csharp"
    },
    "polyglot_notebook": {
     "kernelName": "csharp"
    },
    "vscode": {
     "languageId": "polyglot-notebook"
    }
   },
   "outputs": [],
   "source": [
    "await agentManager.DeleteAllAgentsAsync();"
   ]
  }
 ],
 "metadata": {
  "kernelspec": {
   "display_name": ".NET (C#)",
   "language": "C#",
   "name": ".net-csharp"
  },
  "language_info": {
   "name": "python"
  },
  "polyglot_notebook": {
   "kernelInfo": {
    "defaultKernelName": "csharp",
    "items": [
     {
      "aliases": [],
      "name": "csharp"
     }
    ]
   }
  }
 },
 "nbformat": 4,
 "nbformat_minor": 2
}
